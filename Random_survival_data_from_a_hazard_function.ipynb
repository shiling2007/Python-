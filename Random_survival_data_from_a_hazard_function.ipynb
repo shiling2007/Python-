{
  "nbformat": 4,
  "nbformat_minor": 0,
  "metadata": {
    "colab": {
      "name": "Random survival data from a hazard function.ipynb",
      "provenance": [],
      "collapsed_sections": [],
      "authorship_tag": "ABX9TyPtuCURHxUKuABJ3r5dk1Av",
      "include_colab_link": true
    },
    "kernelspec": {
      "display_name": "Python 3",
      "name": "python3"
    },
    "language_info": {
      "name": "python"
    }
  },
  "cells": [
    {
      "cell_type": "markdown",
      "metadata": {
        "id": "view-in-github",
        "colab_type": "text"
      },
      "source": [
        "<a href=\"https://colab.research.google.com/github/shiling2007/Python-/blob/main/Random_survival_data_from_a_hazard_function.ipynb\" target=\"_parent\"><img src=\"https://colab.research.google.com/assets/colab-badge.svg\" alt=\"Open In Colab\"/></a>"
      ]
    },
    {
      "cell_type": "code",
      "metadata": {
        "colab": {
          "base_uri": "https://localhost:8080/",
          "height": 17
        },
        "id": "g7sSfY_7o-pn",
        "outputId": "42c19002-cc7f-49b4-d218-388ceca31dc4"
      },
      "source": [
        "# \n",
        "\n",
        "from IPython.core.display import display, HTML, Image\n",
        "display(HTML(\"<style>.container { width:100% !important; }</style>\"))\n",
        "# from IPython.core.interactiveshell import InteractiveShell\n",
        "# InteractiveShell.ast_node_interactivity = \"all\"\n",
        "# from google.colab import drive\n",
        "# drive.mount('/content/drive')\n",
        "# from google.colab import files\n",
        "# files.download('/content/drive/MyDrive/Colab Notebooks/Lease Payment Formula.ipynb') \n",
        "import matplotlib.pyplot as plt\n",
        "import numpy as np\n",
        "np.set_printoptions(edgeitems=30, linewidth=100000, \n",
        "    formatter=dict(float=lambda x: \"%.3g\" % x))\n",
        "import pandas as pd\n",
        "pd.set_option('display.max_rows', 10)\n",
        "pd.set_option('display.max_columns', 500)\n",
        "pd.set_option('display.width', 999)\n",
        "pd.set_option(\"max_colwidth\", 500)\n",
        "pd.options.display.float_format = '{:.5f}'.format\n",
        "# try:\n",
        "#  device_name = os.environ['COLAB_TPU_ADDR']\n",
        "#  TPU_ADDRESS = 'grpc://' + device_name\n",
        "#  print('Found TPU at: {}'.format(TPU_ADDRESS))\n",
        "# except KeyError:\n",
        "#  print('TPU not found')\n",
        "%load_ext autoreload\n",
        "%autoreload 2"
      ],
      "execution_count": 1,
      "outputs": [
        {
          "output_type": "display_data",
          "data": {
            "text/html": [
              "<style>.container { width:100% !important; }</style>"
            ],
            "text/plain": [
              "<IPython.core.display.HTML object>"
            ]
          },
          "metadata": {}
        }
      ]
    },
    {
      "cell_type": "code",
      "source": [
        "!pip install lifelines"
      ],
      "metadata": {
        "id": "bprTj58yj9B4",
        "colab": {
          "base_uri": "https://localhost:8080/"
        },
        "outputId": "22d209eb-97a6-43ac-a27f-d45a2f60e517"
      },
      "execution_count": 2,
      "outputs": [
        {
          "output_type": "stream",
          "name": "stdout",
          "text": [
            "Collecting lifelines\n",
            "  Downloading lifelines-0.26.4-py3-none-any.whl (348 kB)\n",
            "\u001b[?25l\r\u001b[K     |█                               | 10 kB 18.7 MB/s eta 0:00:01\r\u001b[K     |█▉                              | 20 kB 18.5 MB/s eta 0:00:01\r\u001b[K     |██▉                             | 30 kB 10.7 MB/s eta 0:00:01\r\u001b[K     |███▊                            | 40 kB 8.4 MB/s eta 0:00:01\r\u001b[K     |████▊                           | 51 kB 7.9 MB/s eta 0:00:01\r\u001b[K     |█████▋                          | 61 kB 8.1 MB/s eta 0:00:01\r\u001b[K     |██████▋                         | 71 kB 7.8 MB/s eta 0:00:01\r\u001b[K     |███████▌                        | 81 kB 8.6 MB/s eta 0:00:01\r\u001b[K     |████████▌                       | 92 kB 7.6 MB/s eta 0:00:01\r\u001b[K     |█████████▍                      | 102 kB 7.5 MB/s eta 0:00:01\r\u001b[K     |██████████▍                     | 112 kB 7.5 MB/s eta 0:00:01\r\u001b[K     |███████████▎                    | 122 kB 7.5 MB/s eta 0:00:01\r\u001b[K     |████████████▎                   | 133 kB 7.5 MB/s eta 0:00:01\r\u001b[K     |█████████████▏                  | 143 kB 7.5 MB/s eta 0:00:01\r\u001b[K     |██████████████                  | 153 kB 7.5 MB/s eta 0:00:01\r\u001b[K     |███████████████                 | 163 kB 7.5 MB/s eta 0:00:01\r\u001b[K     |████████████████                | 174 kB 7.5 MB/s eta 0:00:01\r\u001b[K     |█████████████████               | 184 kB 7.5 MB/s eta 0:00:01\r\u001b[K     |█████████████████▉              | 194 kB 7.5 MB/s eta 0:00:01\r\u001b[K     |██████████████████▉             | 204 kB 7.5 MB/s eta 0:00:01\r\u001b[K     |███████████████████▊            | 215 kB 7.5 MB/s eta 0:00:01\r\u001b[K     |████████████████████▊           | 225 kB 7.5 MB/s eta 0:00:01\r\u001b[K     |█████████████████████▋          | 235 kB 7.5 MB/s eta 0:00:01\r\u001b[K     |██████████████████████▋         | 245 kB 7.5 MB/s eta 0:00:01\r\u001b[K     |███████████████████████▌        | 256 kB 7.5 MB/s eta 0:00:01\r\u001b[K     |████████████████████████▌       | 266 kB 7.5 MB/s eta 0:00:01\r\u001b[K     |█████████████████████████▍      | 276 kB 7.5 MB/s eta 0:00:01\r\u001b[K     |██████████████████████████▎     | 286 kB 7.5 MB/s eta 0:00:01\r\u001b[K     |███████████████████████████▎    | 296 kB 7.5 MB/s eta 0:00:01\r\u001b[K     |████████████████████████████▏   | 307 kB 7.5 MB/s eta 0:00:01\r\u001b[K     |█████████████████████████████▏  | 317 kB 7.5 MB/s eta 0:00:01\r\u001b[K     |██████████████████████████████  | 327 kB 7.5 MB/s eta 0:00:01\r\u001b[K     |███████████████████████████████ | 337 kB 7.5 MB/s eta 0:00:01\r\u001b[K     |████████████████████████████████| 348 kB 7.5 MB/s eta 0:00:01\r\u001b[K     |████████████████████████████████| 348 kB 7.5 MB/s \n",
            "\u001b[?25hRequirement already satisfied: pandas>=0.23.0 in /usr/local/lib/python3.7/dist-packages (from lifelines) (1.1.5)\n",
            "Requirement already satisfied: autograd>=1.3 in /usr/local/lib/python3.7/dist-packages (from lifelines) (1.3)\n",
            "Collecting autograd-gamma>=0.3\n",
            "  Downloading autograd-gamma-0.5.0.tar.gz (4.0 kB)\n",
            "Requirement already satisfied: matplotlib>=3.0 in /usr/local/lib/python3.7/dist-packages (from lifelines) (3.2.2)\n",
            "Collecting formulaic<0.3,>=0.2.2\n",
            "  Downloading formulaic-0.2.4-py3-none-any.whl (55 kB)\n",
            "\u001b[K     |████████████████████████████████| 55 kB 2.7 MB/s \n",
            "\u001b[?25hRequirement already satisfied: numpy>=1.14.0 in /usr/local/lib/python3.7/dist-packages (from lifelines) (1.19.5)\n",
            "Requirement already satisfied: scipy>=1.2.0 in /usr/local/lib/python3.7/dist-packages (from lifelines) (1.4.1)\n",
            "Requirement already satisfied: future>=0.15.2 in /usr/local/lib/python3.7/dist-packages (from autograd>=1.3->lifelines) (0.16.0)\n",
            "Requirement already satisfied: wrapt in /usr/local/lib/python3.7/dist-packages (from formulaic<0.3,>=0.2.2->lifelines) (1.13.3)\n",
            "Requirement already satisfied: astor in /usr/local/lib/python3.7/dist-packages (from formulaic<0.3,>=0.2.2->lifelines) (0.8.1)\n",
            "Collecting interface-meta>=1.2\n",
            "  Downloading interface_meta-1.2.4-py2.py3-none-any.whl (14 kB)\n",
            "Requirement already satisfied: cycler>=0.10 in /usr/local/lib/python3.7/dist-packages (from matplotlib>=3.0->lifelines) (0.11.0)\n",
            "Requirement already satisfied: python-dateutil>=2.1 in /usr/local/lib/python3.7/dist-packages (from matplotlib>=3.0->lifelines) (2.8.2)\n",
            "Requirement already satisfied: kiwisolver>=1.0.1 in /usr/local/lib/python3.7/dist-packages (from matplotlib>=3.0->lifelines) (1.3.2)\n",
            "Requirement already satisfied: pyparsing!=2.0.4,!=2.1.2,!=2.1.6,>=2.0.1 in /usr/local/lib/python3.7/dist-packages (from matplotlib>=3.0->lifelines) (3.0.6)\n",
            "Requirement already satisfied: pytz>=2017.2 in /usr/local/lib/python3.7/dist-packages (from pandas>=0.23.0->lifelines) (2018.9)\n",
            "Requirement already satisfied: six>=1.5 in /usr/local/lib/python3.7/dist-packages (from python-dateutil>=2.1->matplotlib>=3.0->lifelines) (1.15.0)\n",
            "Building wheels for collected packages: autograd-gamma\n",
            "  Building wheel for autograd-gamma (setup.py) ... \u001b[?25l\u001b[?25hdone\n",
            "  Created wheel for autograd-gamma: filename=autograd_gamma-0.5.0-py3-none-any.whl size=4049 sha256=261862d75f38e07cd68b295a7d00e5c731f5eba9fc1caef32b0404df89aa59c3\n",
            "  Stored in directory: /root/.cache/pip/wheels/9f/01/ee/1331593abb5725ff7d8c1333aee93a50a1c29d6ddda9665c9f\n",
            "Successfully built autograd-gamma\n",
            "Installing collected packages: interface-meta, formulaic, autograd-gamma, lifelines\n",
            "Successfully installed autograd-gamma-0.5.0 formulaic-0.2.4 interface-meta-1.2.4 lifelines-0.26.4\n"
          ]
        }
      ]
    },
    {
      "cell_type": "code",
      "source": [
        "import statsmodels.api as sm\n",
        "from statsmodels.base.model import GenericLikelihoodModel\n",
        "from statsmodels import api\n",
        "from scipy.optimize import minimize\n",
        "from scipy.stats import norm, uniform\n",
        "from statsmodels.formula.api import probit\n",
        "from lifelines import (KaplanMeierFitter, WeibullFitter,  NelsonAalenFitter, PiecewiseExponentialFitter, LogLogisticFitter, LogNormalFitter, CoxPHFitter, ExponentialFitter)\n",
        "from scipy.stats import weibull_min, expon, randint , lognorm, norm, fisk"
      ],
      "metadata": {
        "id": "D_tC40tZwx_e",
        "colab": {
          "base_uri": "https://localhost:8080/"
        },
        "outputId": "a1ce2e8c-2ff9-46de-9659-0f1601eefb2d"
      },
      "execution_count": 3,
      "outputs": [
        {
          "output_type": "stream",
          "name": "stderr",
          "text": [
            "/usr/local/lib/python3.7/dist-packages/statsmodels/tools/_testing.py:19: FutureWarning: pandas.util.testing is deprecated. Use the functions in the public API at pandas.testing instead.\n",
            "  import pandas.util.testing as tm\n"
          ]
        }
      ]
    },
    {
      "cell_type": "code",
      "source": [
        "#generated normal baseline with a propotion survival data"
      ],
      "metadata": {
        "id": "ocf4WiNxoXC1"
      },
      "execution_count": null,
      "outputs": []
    },
    {
      "cell_type": "code",
      "source": [
        "#log normal distribution\n",
        "# scale, s=np.exp(4), 1\n",
        "\n",
        "# print ('entropy:','\\t', lognorm.entropy( s, loc=0, scale=scale))\n",
        "# print ('median:','\\t', lognorm.median( s, loc=0, scale=scale))\n",
        "# print ('mean:','\\t', lognorm.mean( s, loc=0, scale=scale))\n",
        "# print ('std:','\\t', lognorm.std( s, loc=0, scale=scale))\n",
        "# print ('var:','\\t', lognorm.var( s, loc=0, scale=scale))\n",
        "\n",
        "# df_surv=pd.DataFrame([days  for days in np.arange(1,4000,1)], columns=['days'])\n",
        "# df_surv['pdf']=lognorm.pdf(df_surv.days, s, loc=0, scale=scale)\n",
        "# df_surv['cdf']=lognorm.cdf(df_surv.days, s, loc=0, scale=scale)\n",
        "# df_surv['sf']=lognorm.sf(df_surv.days, s, loc=0, scale=scale)\n",
        "# df_surv['hazard']=df_surv.pdf/(df_surv.sf)\n",
        "# df_surv['hazard2']=df_surv.pdf/(1-df_surv.cdf)\n"
      ],
      "metadata": {
        "id": "YD5k7QnSoW-0"
      },
      "execution_count": null,
      "outputs": []
    },
    {
      "cell_type": "code",
      "source": [
        "# np.log(90.01713130052181) - 1/2 * s **2"
      ],
      "metadata": {
        "id": "qFVVcqePkT-T"
      },
      "execution_count": null,
      "outputs": []
    },
    {
      "cell_type": "code",
      "source": [
        "pd.options.display.float_format = '{:.5f}'.format"
      ],
      "metadata": {
        "id": "5gpkm5Cyz1NB"
      },
      "execution_count": 4,
      "outputs": []
    },
    {
      "cell_type": "code",
      "source": [
        "#log normal distribution\n",
        "scale, s=np.exp(5), 1\n",
        "\n",
        "factor=0.15\n",
        "\n",
        "print ('entropy:','\\t', lognorm.entropy( s, loc=0, scale=scale))\n",
        "print ('median:','\\t', lognorm.median( s, loc=0, scale=scale))\n",
        "print ('mean:','\\t', lognorm.mean( s, loc=0, scale=scale))\n",
        "print ('std:','\\t', lognorm.std( s, loc=0, scale=scale))\n",
        "print ('var:','\\t', lognorm.var( s, loc=0, scale=scale))\n",
        "\n",
        "df_surv=pd.DataFrame([q  for q in np.arange(0.001,1,0.001)], columns=['quantile'])\n",
        "df_surv['days']=lognorm.ppf(df_surv['quantile'], s, loc=0, scale=scale)\n",
        "df_surv['pdf']=lognorm.pdf(df_surv.days, s, loc=0, scale=scale)\n",
        "df_surv['cdf']=lognorm.cdf(df_surv.days, s, loc=0, scale=scale)\n",
        "df_surv['sf']=lognorm.sf(df_surv.days, s, loc=0, scale=scale)\n",
        "df_surv['hazard']=df_surv.pdf/(df_surv.sf)\n",
        "df_surv['hazard2']=df_surv.hazard*(1+factor)\n",
        "df_surv['hazard_log']=np.log(df_surv.hazard)\n",
        "df_surv['hazard2_log']=np.log(df_surv.hazard2)\n",
        "\n",
        "df_surv['diff_log_hz']=df_surv['hazard2_log']-df_surv['hazard_log']\n",
        "df_surv['diff_log_hz']"
      ],
      "metadata": {
        "colab": {
          "base_uri": "https://localhost:8080/"
        },
        "id": "J7XpSW7YPRP_",
        "outputId": "777bd6e7-5c74-4ec9-f799-c14d4b490dca"
      },
      "execution_count": 5,
      "outputs": [
        {
          "output_type": "stream",
          "name": "stdout",
          "text": [
            "entropy: \t 6.418938533204672\n",
            "median: \t 148.4131591025766\n",
            "mean: \t 244.69193226422038\n",
            "std: \t 320.75013593731506\n",
            "var: \t 102880.64970380608\n"
          ]
        },
        {
          "output_type": "execute_result",
          "data": {
            "text/plain": [
              "0     0.13976\n",
              "1     0.13976\n",
              "2     0.13976\n",
              "3     0.13976\n",
              "4     0.13976\n",
              "        ...  \n",
              "994   0.13976\n",
              "995   0.13976\n",
              "996   0.13976\n",
              "997   0.13976\n",
              "998   0.13976\n",
              "Name: diff_log_hz, Length: 999, dtype: float64"
            ]
          },
          "metadata": {},
          "execution_count": 5
        }
      ]
    },
    {
      "cell_type": "code",
      "source": [
        "from scipy import integrate\n",
        "x = df_surv['days']\n",
        "y = df_surv.hazard\n",
        "y_int = integrate.cumtrapz(y, x, initial=df_surv['quantile'][0])\n",
        "df_surv['hazard_i']=y_int\n",
        "df_surv['sf_cumsum_i']=np.exp(-df_surv['hazard_i'])\n",
        "\n",
        "y = df_surv.hazard2\n",
        "y_int = integrate.cumtrapz(y, x, initial=df_surv['quantile'][0])\n",
        "df_surv['hazard_i2']=y_int\n",
        "df_surv['sf_cumsum_i2']=np.exp(-df_surv['hazard_i2'])\n",
        "\n",
        "df_surv[['quantile','days','hazard','hazard2','hazard_i','hazard_i2','sf','sf_cumsum_i','sf_cumsum_i2']]"
      ],
      "metadata": {
        "colab": {
          "base_uri": "https://localhost:8080/",
          "height": 424
        },
        "id": "cHYRMhQoRzCe",
        "outputId": "bf302b3d-bdc0-46bd-cfb5-12b465ff5395"
      },
      "execution_count": 6,
      "outputs": [
        {
          "output_type": "execute_result",
          "data": {
            "text/html": [
              "\n",
              "  <div id=\"df-496feffa-ee0d-4717-b6fb-4422371d3afd\">\n",
              "    <div class=\"colab-df-container\">\n",
              "      <div>\n",
              "<style scoped>\n",
              "    .dataframe tbody tr th:only-of-type {\n",
              "        vertical-align: middle;\n",
              "    }\n",
              "\n",
              "    .dataframe tbody tr th {\n",
              "        vertical-align: top;\n",
              "    }\n",
              "\n",
              "    .dataframe thead th {\n",
              "        text-align: right;\n",
              "    }\n",
              "</style>\n",
              "<table border=\"1\" class=\"dataframe\">\n",
              "  <thead>\n",
              "    <tr style=\"text-align: right;\">\n",
              "      <th></th>\n",
              "      <th>quantile</th>\n",
              "      <th>days</th>\n",
              "      <th>hazard</th>\n",
              "      <th>hazard2</th>\n",
              "      <th>hazard_i</th>\n",
              "      <th>hazard_i2</th>\n",
              "      <th>sf</th>\n",
              "      <th>sf_cumsum_i</th>\n",
              "      <th>sf_cumsum_i2</th>\n",
              "    </tr>\n",
              "  </thead>\n",
              "  <tbody>\n",
              "    <tr>\n",
              "      <th>0</th>\n",
              "      <td>0.00100</td>\n",
              "      <td>6.75152</td>\n",
              "      <td>0.00050</td>\n",
              "      <td>0.00057</td>\n",
              "      <td>0.00100</td>\n",
              "      <td>0.00100</td>\n",
              "      <td>0.99900</td>\n",
              "      <td>0.99900</td>\n",
              "      <td>0.99900</td>\n",
              "    </tr>\n",
              "    <tr>\n",
              "      <th>1</th>\n",
              "      <td>0.00200</td>\n",
              "      <td>8.34647</td>\n",
              "      <td>0.00076</td>\n",
              "      <td>0.00088</td>\n",
              "      <td>0.00101</td>\n",
              "      <td>0.00116</td>\n",
              "      <td>0.99800</td>\n",
              "      <td>0.99900</td>\n",
              "      <td>0.99884</td>\n",
              "    </tr>\n",
              "    <tr>\n",
              "      <th>2</th>\n",
              "      <td>0.00300</td>\n",
              "      <td>9.50881</td>\n",
              "      <td>0.00097</td>\n",
              "      <td>0.00111</td>\n",
              "      <td>0.00201</td>\n",
              "      <td>0.00231</td>\n",
              "      <td>0.99700</td>\n",
              "      <td>0.99799</td>\n",
              "      <td>0.99769</td>\n",
              "    </tr>\n",
              "    <tr>\n",
              "      <th>3</th>\n",
              "      <td>0.00400</td>\n",
              "      <td>10.46389</td>\n",
              "      <td>0.00114</td>\n",
              "      <td>0.00131</td>\n",
              "      <td>0.00301</td>\n",
              "      <td>0.00346</td>\n",
              "      <td>0.99600</td>\n",
              "      <td>0.99699</td>\n",
              "      <td>0.99654</td>\n",
              "    </tr>\n",
              "    <tr>\n",
              "      <th>4</th>\n",
              "      <td>0.00500</td>\n",
              "      <td>11.29286</td>\n",
              "      <td>0.00129</td>\n",
              "      <td>0.00148</td>\n",
              "      <td>0.00402</td>\n",
              "      <td>0.00462</td>\n",
              "      <td>0.99500</td>\n",
              "      <td>0.99599</td>\n",
              "      <td>0.99539</td>\n",
              "    </tr>\n",
              "    <tr>\n",
              "      <th>...</th>\n",
              "      <td>...</td>\n",
              "      <td>...</td>\n",
              "      <td>...</td>\n",
              "      <td>...</td>\n",
              "      <td>...</td>\n",
              "      <td>...</td>\n",
              "      <td>...</td>\n",
              "      <td>...</td>\n",
              "      <td>...</td>\n",
              "    </tr>\n",
              "    <tr>\n",
              "      <th>994</th>\n",
              "      <td>0.99500</td>\n",
              "      <td>1950.47713</td>\n",
              "      <td>0.00148</td>\n",
              "      <td>0.00171</td>\n",
              "      <td>5.29755</td>\n",
              "      <td>6.09218</td>\n",
              "      <td>0.00500</td>\n",
              "      <td>0.00500</td>\n",
              "      <td>0.00226</td>\n",
              "    </tr>\n",
              "    <tr>\n",
              "      <th>995</th>\n",
              "      <td>0.99600</td>\n",
              "      <td>2104.99803</td>\n",
              "      <td>0.00141</td>\n",
              "      <td>0.00162</td>\n",
              "      <td>5.52081</td>\n",
              "      <td>6.34893</td>\n",
              "      <td>0.00400</td>\n",
              "      <td>0.00400</td>\n",
              "      <td>0.00175</td>\n",
              "    </tr>\n",
              "    <tr>\n",
              "      <th>996</th>\n",
              "      <td>0.99700</td>\n",
              "      <td>2316.42745</td>\n",
              "      <td>0.00132</td>\n",
              "      <td>0.00151</td>\n",
              "      <td>5.80873</td>\n",
              "      <td>6.68004</td>\n",
              "      <td>0.00300</td>\n",
              "      <td>0.00300</td>\n",
              "      <td>0.00126</td>\n",
              "    </tr>\n",
              "    <tr>\n",
              "      <th>997</th>\n",
              "      <td>0.99800</td>\n",
              "      <td>2639.01690</td>\n",
              "      <td>0.00120</td>\n",
              "      <td>0.00138</td>\n",
              "      <td>6.21484</td>\n",
              "      <td>7.14707</td>\n",
              "      <td>0.00200</td>\n",
              "      <td>0.00200</td>\n",
              "      <td>0.00079</td>\n",
              "    </tr>\n",
              "    <tr>\n",
              "      <th>998</th>\n",
              "      <td>0.99900</td>\n",
              "      <td>3262.44537</td>\n",
              "      <td>0.00103</td>\n",
              "      <td>0.00119</td>\n",
              "      <td>6.91100</td>\n",
              "      <td>7.94765</td>\n",
              "      <td>0.00100</td>\n",
              "      <td>0.00100</td>\n",
              "      <td>0.00035</td>\n",
              "    </tr>\n",
              "  </tbody>\n",
              "</table>\n",
              "<p>999 rows × 9 columns</p>\n",
              "</div>\n",
              "      <button class=\"colab-df-convert\" onclick=\"convertToInteractive('df-496feffa-ee0d-4717-b6fb-4422371d3afd')\"\n",
              "              title=\"Convert this dataframe to an interactive table.\"\n",
              "              style=\"display:none;\">\n",
              "        \n",
              "  <svg xmlns=\"http://www.w3.org/2000/svg\" height=\"24px\"viewBox=\"0 0 24 24\"\n",
              "       width=\"24px\">\n",
              "    <path d=\"M0 0h24v24H0V0z\" fill=\"none\"/>\n",
              "    <path d=\"M18.56 5.44l.94 2.06.94-2.06 2.06-.94-2.06-.94-.94-2.06-.94 2.06-2.06.94zm-11 1L8.5 8.5l.94-2.06 2.06-.94-2.06-.94L8.5 2.5l-.94 2.06-2.06.94zm10 10l.94 2.06.94-2.06 2.06-.94-2.06-.94-.94-2.06-.94 2.06-2.06.94z\"/><path d=\"M17.41 7.96l-1.37-1.37c-.4-.4-.92-.59-1.43-.59-.52 0-1.04.2-1.43.59L10.3 9.45l-7.72 7.72c-.78.78-.78 2.05 0 2.83L4 21.41c.39.39.9.59 1.41.59.51 0 1.02-.2 1.41-.59l7.78-7.78 2.81-2.81c.8-.78.8-2.07 0-2.86zM5.41 20L4 18.59l7.72-7.72 1.47 1.35L5.41 20z\"/>\n",
              "  </svg>\n",
              "      </button>\n",
              "      \n",
              "  <style>\n",
              "    .colab-df-container {\n",
              "      display:flex;\n",
              "      flex-wrap:wrap;\n",
              "      gap: 12px;\n",
              "    }\n",
              "\n",
              "    .colab-df-convert {\n",
              "      background-color: #E8F0FE;\n",
              "      border: none;\n",
              "      border-radius: 50%;\n",
              "      cursor: pointer;\n",
              "      display: none;\n",
              "      fill: #1967D2;\n",
              "      height: 32px;\n",
              "      padding: 0 0 0 0;\n",
              "      width: 32px;\n",
              "    }\n",
              "\n",
              "    .colab-df-convert:hover {\n",
              "      background-color: #E2EBFA;\n",
              "      box-shadow: 0px 1px 2px rgba(60, 64, 67, 0.3), 0px 1px 3px 1px rgba(60, 64, 67, 0.15);\n",
              "      fill: #174EA6;\n",
              "    }\n",
              "\n",
              "    [theme=dark] .colab-df-convert {\n",
              "      background-color: #3B4455;\n",
              "      fill: #D2E3FC;\n",
              "    }\n",
              "\n",
              "    [theme=dark] .colab-df-convert:hover {\n",
              "      background-color: #434B5C;\n",
              "      box-shadow: 0px 1px 3px 1px rgba(0, 0, 0, 0.15);\n",
              "      filter: drop-shadow(0px 1px 2px rgba(0, 0, 0, 0.3));\n",
              "      fill: #FFFFFF;\n",
              "    }\n",
              "  </style>\n",
              "\n",
              "      <script>\n",
              "        const buttonEl =\n",
              "          document.querySelector('#df-496feffa-ee0d-4717-b6fb-4422371d3afd button.colab-df-convert');\n",
              "        buttonEl.style.display =\n",
              "          google.colab.kernel.accessAllowed ? 'block' : 'none';\n",
              "\n",
              "        async function convertToInteractive(key) {\n",
              "          const element = document.querySelector('#df-496feffa-ee0d-4717-b6fb-4422371d3afd');\n",
              "          const dataTable =\n",
              "            await google.colab.kernel.invokeFunction('convertToInteractive',\n",
              "                                                     [key], {});\n",
              "          if (!dataTable) return;\n",
              "\n",
              "          const docLinkHtml = 'Like what you see? Visit the ' +\n",
              "            '<a target=\"_blank\" href=https://colab.research.google.com/notebooks/data_table.ipynb>data table notebook</a>'\n",
              "            + ' to learn more about interactive tables.';\n",
              "          element.innerHTML = '';\n",
              "          dataTable['output_type'] = 'display_data';\n",
              "          await google.colab.output.renderOutput(dataTable, element);\n",
              "          const docLink = document.createElement('div');\n",
              "          docLink.innerHTML = docLinkHtml;\n",
              "          element.appendChild(docLink);\n",
              "        }\n",
              "      </script>\n",
              "    </div>\n",
              "  </div>\n",
              "  "
            ],
            "text/plain": [
              "     quantile       days  hazard  hazard2  hazard_i  hazard_i2      sf  sf_cumsum_i  sf_cumsum_i2\n",
              "0     0.00100    6.75152 0.00050  0.00057   0.00100    0.00100 0.99900      0.99900       0.99900\n",
              "1     0.00200    8.34647 0.00076  0.00088   0.00101    0.00116 0.99800      0.99900       0.99884\n",
              "2     0.00300    9.50881 0.00097  0.00111   0.00201    0.00231 0.99700      0.99799       0.99769\n",
              "3     0.00400   10.46389 0.00114  0.00131   0.00301    0.00346 0.99600      0.99699       0.99654\n",
              "4     0.00500   11.29286 0.00129  0.00148   0.00402    0.00462 0.99500      0.99599       0.99539\n",
              "..        ...        ...     ...      ...       ...        ...     ...          ...           ...\n",
              "994   0.99500 1950.47713 0.00148  0.00171   5.29755    6.09218 0.00500      0.00500       0.00226\n",
              "995   0.99600 2104.99803 0.00141  0.00162   5.52081    6.34893 0.00400      0.00400       0.00175\n",
              "996   0.99700 2316.42745 0.00132  0.00151   5.80873    6.68004 0.00300      0.00300       0.00126\n",
              "997   0.99800 2639.01690 0.00120  0.00138   6.21484    7.14707 0.00200      0.00200       0.00079\n",
              "998   0.99900 3262.44537 0.00103  0.00119   6.91100    7.94765 0.00100      0.00100       0.00035\n",
              "\n",
              "[999 rows x 9 columns]"
            ]
          },
          "metadata": {},
          "execution_count": 6
        }
      ]
    },
    {
      "cell_type": "code",
      "source": [
        "fig, ax = plt.subplots(nrows=1, ncols=6, figsize=(30, 3))\n",
        "df_surv.plot.line(ax=ax[0], x='days', y='pdf', grid=True, title='pdf')\n",
        "df_surv.plot.line(ax=ax[1], x='days', y='cdf', grid=True, title='cdf')\n",
        "df_surv.plot.line(ax=ax[2], x='days', y='sf', grid=True, title='survival curve')\n",
        "df_surv.plot.line(ax=ax[2], x='days', y='sf_cumsum_i', grid=True, title='survival curve')\n",
        "df_surv.plot.line(ax=ax[2], x='days', y='sf_cumsum_i2', grid=True, title='survival curve')\n",
        "df_surv.plot.line(ax=ax[3], x='days', y='hazard', grid=True, title='hazard pdf/(1-cdf)')\n",
        "df_surv.plot.line(ax=ax[4], x='days', y='hazard_log', grid=True, title='hazard_log')\n",
        "df_surv.plot.line(ax=ax[4], x='days', y='hazard2_log', grid=True, title='hazard2_log')\n",
        "df_surv.plot.line(ax=ax[5], x='days', y='hazard_i', grid=True, title='hazard_cumsun')\n",
        "df_surv.plot.line(ax=ax[5], x='days', y='hazard_i2', grid=True, title='hazard_cumsun')"
      ],
      "metadata": {
        "colab": {
          "base_uri": "https://localhost:8080/",
          "height": 258
        },
        "id": "hxfp8XabxfgV",
        "outputId": "ebd94ded-58cc-4cc4-ef03-d2f5d0631943"
      },
      "execution_count": 7,
      "outputs": [
        {
          "output_type": "execute_result",
          "data": {
            "text/plain": [
              "<matplotlib.axes._subplots.AxesSubplot at 0x7fca1c1e0a50>"
            ]
          },
          "metadata": {},
          "execution_count": 7
        },
        {
          "output_type": "display_data",
          "data": {
            "image/png": "[encoded data removed]",
            "text/plain": [
              "<Figure size 2160x216 with 6 Axes>"
            ]
          },
          "metadata": {
            "needs_background": "light"
          }
        }
      ]
    },
    {
      "cell_type": "code",
      "source": [
        ""
      ],
      "metadata": {
        "id": "sQ2_s0aCVXh2"
      },
      "execution_count": null,
      "outputs": []
    },
    {
      "cell_type": "code",
      "source": [
        "# build a dictionary from cdf\n",
        "import bisect\n",
        "\n",
        "def value_at(n):\n",
        "    index = bisect.bisect_left(limits, n)\n",
        "    return values[index]\n"
      ],
      "metadata": {
        "id": "PbKJZxnyQw5Z"
      },
      "execution_count": 8,
      "outputs": []
    },
    {
      "cell_type": "code",
      "source": [
        "# prob_sf=df_surv[['sf_cumsum_i','days']].drop_duplicates(keep='first').copy()\n",
        "# prob_sf=prob_sf.sort_values(by=['sf_cumsum_i'])\n",
        "\n",
        "prob_sf=df_surv.groupby('sf_cumsum_i')['days'].mean().to_frame().reset_index()\n",
        "\n",
        "limits=np.array(prob_sf.sf_cumsum_i)\n",
        "values=np.array(prob_sf.days)\n",
        "\n",
        "%time sample=pd.DataFrame(np.minimum(np.random.rand(5000),0.999), columns=['sf_cumsum_i'])\n",
        "%time sample['days']=np.array([value_at(v) for v in sample.sf_cumsum_i])"
      ],
      "metadata": {
        "colab": {
          "base_uri": "https://localhost:8080/"
        },
        "id": "avUaoyEvRNcl",
        "outputId": "7b418e7f-005b-4cf7-8bf4-b251040c77c1"
      },
      "execution_count": 9,
      "outputs": [
        {
          "output_type": "stream",
          "name": "stdout",
          "text": [
            "CPU times: user 538 µs, sys: 83 µs, total: 621 µs\n",
            "Wall time: 632 µs\n",
            "CPU times: user 28.8 ms, sys: 93 µs, total: 28.9 ms\n",
            "Wall time: 65.4 ms\n"
          ]
        }
      ]
    },
    {
      "cell_type": "code",
      "source": [
        "# prob_sf=df_surv[['sf_cumsum_i2','days']].drop_duplicates(keep='first').copy()\n",
        "# prob_sf=prob_sf.sort_values(by=['sf_cumsum_i2'])\n",
        "\n",
        "prob_sf=df_surv.groupby('sf_cumsum_i2')['days'].mean().to_frame().reset_index()\n",
        "limits=np.array(prob_sf.sf_cumsum_i2)\n",
        "values=np.array(prob_sf.days)\n",
        "\n",
        "%time sample2=pd.DataFrame(np.minimum(np.random.rand(5000),0.999), columns=['sf_cumsum_i'])\n",
        "%time sample2['days']=np.array([value_at(v) for v in sample.sf_cumsum_i])"
      ],
      "metadata": {
        "colab": {
          "base_uri": "https://localhost:8080/"
        },
        "id": "9NA01leDRNTZ",
        "outputId": "9703c274-189f-465e-b9db-f4ad4a696951"
      },
      "execution_count": 10,
      "outputs": [
        {
          "output_type": "stream",
          "name": "stdout",
          "text": [
            "CPU times: user 462 µs, sys: 72 µs, total: 534 µs\n",
            "Wall time: 544 µs\n",
            "CPU times: user 25.9 ms, sys: 0 ns, total: 25.9 ms\n",
            "Wall time: 64.8 ms\n"
          ]
        }
      ]
    },
    {
      "cell_type": "code",
      "source": [
        "sample['days_censored']=np.minimum(sample.days, 500)\n",
        "sample2['days_censored']=np.minimum(sample2.days, 500)"
      ],
      "metadata": {
        "id": "nnfqzQw-lnyg"
      },
      "execution_count": 24,
      "outputs": []
    },
    {
      "cell_type": "code",
      "source": [
        "sample.describe()"
      ],
      "metadata": {
        "colab": {
          "base_uri": "https://localhost:8080/",
          "height": 300
        },
        "id": "HdAW0Q7VRNNC",
        "outputId": "9c856a8e-303c-4e98-badf-37a936507ef0"
      },
      "execution_count": 25,
      "outputs": [
        {
          "output_type": "execute_result",
          "data": {
            "text/html": [
              "\n",
              "  <div id=\"df-78fc3fcb-bb0d-4550-b47d-b216f365c41c\">\n",
              "    <div class=\"colab-df-container\">\n",
              "      <div>\n",
              "<style scoped>\n",
              "    .dataframe tbody tr th:only-of-type {\n",
              "        vertical-align: middle;\n",
              "    }\n",
              "\n",
              "    .dataframe tbody tr th {\n",
              "        vertical-align: top;\n",
              "    }\n",
              "\n",
              "    .dataframe thead th {\n",
              "        text-align: right;\n",
              "    }\n",
              "</style>\n",
              "<table border=\"1\" class=\"dataframe\">\n",
              "  <thead>\n",
              "    <tr style=\"text-align: right;\">\n",
              "      <th></th>\n",
              "      <th>sf_cumsum_i</th>\n",
              "      <th>days</th>\n",
              "      <th>days_censored</th>\n",
              "    </tr>\n",
              "  </thead>\n",
              "  <tbody>\n",
              "    <tr>\n",
              "      <th>count</th>\n",
              "      <td>5000.00000</td>\n",
              "      <td>5000.00000</td>\n",
              "      <td>5000.00000</td>\n",
              "    </tr>\n",
              "    <tr>\n",
              "      <th>mean</th>\n",
              "      <td>0.49029</td>\n",
              "      <td>252.84123</td>\n",
              "      <td>204.06294</td>\n",
              "    </tr>\n",
              "    <tr>\n",
              "      <th>std</th>\n",
              "      <td>0.28907</td>\n",
              "      <td>311.95420</td>\n",
              "      <td>154.69145</td>\n",
              "    </tr>\n",
              "    <tr>\n",
              "      <th>min</th>\n",
              "      <td>0.00016</td>\n",
              "      <td>6.75152</td>\n",
              "      <td>6.75152</td>\n",
              "    </tr>\n",
              "    <tr>\n",
              "      <th>25%</th>\n",
              "      <td>0.23806</td>\n",
              "      <td>76.79675</td>\n",
              "      <td>76.79675</td>\n",
              "    </tr>\n",
              "    <tr>\n",
              "      <th>50%</th>\n",
              "      <td>0.48529</td>\n",
              "      <td>154.10101</td>\n",
              "      <td>154.10101</td>\n",
              "    </tr>\n",
              "    <tr>\n",
              "      <th>75%</th>\n",
              "      <td>0.74482</td>\n",
              "      <td>301.97097</td>\n",
              "      <td>301.97097</td>\n",
              "    </tr>\n",
              "    <tr>\n",
              "      <th>max</th>\n",
              "      <td>0.99900</td>\n",
              "      <td>3262.44537</td>\n",
              "      <td>500.00000</td>\n",
              "    </tr>\n",
              "  </tbody>\n",
              "</table>\n",
              "</div>\n",
              "      <button class=\"colab-df-convert\" onclick=\"convertToInteractive('df-78fc3fcb-bb0d-4550-b47d-b216f365c41c')\"\n",
              "              title=\"Convert this dataframe to an interactive table.\"\n",
              "              style=\"display:none;\">\n",
              "        \n",
              "  <svg xmlns=\"http://www.w3.org/2000/svg\" height=\"24px\"viewBox=\"0 0 24 24\"\n",
              "       width=\"24px\">\n",
              "    <path d=\"M0 0h24v24H0V0z\" fill=\"none\"/>\n",
              "    <path d=\"M18.56 5.44l.94 2.06.94-2.06 2.06-.94-2.06-.94-.94-2.06-.94 2.06-2.06.94zm-11 1L8.5 8.5l.94-2.06 2.06-.94-2.06-.94L8.5 2.5l-.94 2.06-2.06.94zm10 10l.94 2.06.94-2.06 2.06-.94-2.06-.94-.94-2.06-.94 2.06-2.06.94z\"/><path d=\"M17.41 7.96l-1.37-1.37c-.4-.4-.92-.59-1.43-.59-.52 0-1.04.2-1.43.59L10.3 9.45l-7.72 7.72c-.78.78-.78 2.05 0 2.83L4 21.41c.39.39.9.59 1.41.59.51 0 1.02-.2 1.41-.59l7.78-7.78 2.81-2.81c.8-.78.8-2.07 0-2.86zM5.41 20L4 18.59l7.72-7.72 1.47 1.35L5.41 20z\"/>\n",
              "  </svg>\n",
              "      </button>\n",
              "      \n",
              "  <style>\n",
              "    .colab-df-container {\n",
              "      display:flex;\n",
              "      flex-wrap:wrap;\n",
              "      gap: 12px;\n",
              "    }\n",
              "\n",
              "    .colab-df-convert {\n",
              "      background-color: #E8F0FE;\n",
              "      border: none;\n",
              "      border-radius: 50%;\n",
              "      cursor: pointer;\n",
              "      display: none;\n",
              "      fill: #1967D2;\n",
              "      height: 32px;\n",
              "      padding: 0 0 0 0;\n",
              "      width: 32px;\n",
              "    }\n",
              "\n",
              "    .colab-df-convert:hover {\n",
              "      background-color: #E2EBFA;\n",
              "      box-shadow: 0px 1px 2px rgba(60, 64, 67, 0.3), 0px 1px 3px 1px rgba(60, 64, 67, 0.15);\n",
              "      fill: #174EA6;\n",
              "    }\n",
              "\n",
              "    [theme=dark] .colab-df-convert {\n",
              "      background-color: #3B4455;\n",
              "      fill: #D2E3FC;\n",
              "    }\n",
              "\n",
              "    [theme=dark] .colab-df-convert:hover {\n",
              "      background-color: #434B5C;\n",
              "      box-shadow: 0px 1px 3px 1px rgba(0, 0, 0, 0.15);\n",
              "      filter: drop-shadow(0px 1px 2px rgba(0, 0, 0, 0.3));\n",
              "      fill: #FFFFFF;\n",
              "    }\n",
              "  </style>\n",
              "\n",
              "      <script>\n",
              "        const buttonEl =\n",
              "          document.querySelector('#df-78fc3fcb-bb0d-4550-b47d-b216f365c41c button.colab-df-convert');\n",
              "        buttonEl.style.display =\n",
              "          google.colab.kernel.accessAllowed ? 'block' : 'none';\n",
              "\n",
              "        async function convertToInteractive(key) {\n",
              "          const element = document.querySelector('#df-78fc3fcb-bb0d-4550-b47d-b216f365c41c');\n",
              "          const dataTable =\n",
              "            await google.colab.kernel.invokeFunction('convertToInteractive',\n",
              "                                                     [key], {});\n",
              "          if (!dataTable) return;\n",
              "\n",
              "          const docLinkHtml = 'Like what you see? Visit the ' +\n",
              "            '<a target=\"_blank\" href=https://colab.research.google.com/notebooks/data_table.ipynb>data table notebook</a>'\n",
              "            + ' to learn more about interactive tables.';\n",
              "          element.innerHTML = '';\n",
              "          dataTable['output_type'] = 'display_data';\n",
              "          await google.colab.output.renderOutput(dataTable, element);\n",
              "          const docLink = document.createElement('div');\n",
              "          docLink.innerHTML = docLinkHtml;\n",
              "          element.appendChild(docLink);\n",
              "        }\n",
              "      </script>\n",
              "    </div>\n",
              "  </div>\n",
              "  "
            ],
            "text/plain": [
              "       sf_cumsum_i       days  days_censored\n",
              "count   5000.00000 5000.00000     5000.00000\n",
              "mean       0.49029  252.84123      204.06294\n",
              "std        0.28907  311.95420      154.69145\n",
              "min        0.00016    6.75152        6.75152\n",
              "25%        0.23806   76.79675       76.79675\n",
              "50%        0.48529  154.10101      154.10101\n",
              "75%        0.74482  301.97097      301.97097\n",
              "max        0.99900 3262.44537      500.00000"
            ]
          },
          "metadata": {},
          "execution_count": 25
        }
      ]
    },
    {
      "cell_type": "code",
      "source": [
        "sample2.describe()"
      ],
      "metadata": {
        "colab": {
          "base_uri": "https://localhost:8080/",
          "height": 300
        },
        "id": "Nqj9lbL2RM-m",
        "outputId": "56182929-c22e-4fe8-889e-49437fb7ecb7"
      },
      "execution_count": 26,
      "outputs": [
        {
          "output_type": "execute_result",
          "data": {
            "text/html": [
              "\n",
              "  <div id=\"df-093894fc-5950-4ff9-ab78-b4767a333c34\">\n",
              "    <div class=\"colab-df-container\">\n",
              "      <div>\n",
              "<style scoped>\n",
              "    .dataframe tbody tr th:only-of-type {\n",
              "        vertical-align: middle;\n",
              "    }\n",
              "\n",
              "    .dataframe tbody tr th {\n",
              "        vertical-align: top;\n",
              "    }\n",
              "\n",
              "    .dataframe thead th {\n",
              "        text-align: right;\n",
              "    }\n",
              "</style>\n",
              "<table border=\"1\" class=\"dataframe\">\n",
              "  <thead>\n",
              "    <tr style=\"text-align: right;\">\n",
              "      <th></th>\n",
              "      <th>sf_cumsum_i</th>\n",
              "      <th>days</th>\n",
              "      <th>days_censored</th>\n",
              "    </tr>\n",
              "  </thead>\n",
              "  <tbody>\n",
              "    <tr>\n",
              "      <th>count</th>\n",
              "      <td>5000.00000</td>\n",
              "      <td>5000.00000</td>\n",
              "      <td>5000.00000</td>\n",
              "    </tr>\n",
              "    <tr>\n",
              "      <th>mean</th>\n",
              "      <td>0.50554</td>\n",
              "      <td>214.66064</td>\n",
              "      <td>184.69959</td>\n",
              "    </tr>\n",
              "    <tr>\n",
              "      <th>std</th>\n",
              "      <td>0.28929</td>\n",
              "      <td>252.10944</td>\n",
              "      <td>145.70091</td>\n",
              "    </tr>\n",
              "    <tr>\n",
              "      <th>min</th>\n",
              "      <td>0.00033</td>\n",
              "      <td>6.75152</td>\n",
              "      <td>6.75152</td>\n",
              "    </tr>\n",
              "    <tr>\n",
              "      <th>25%</th>\n",
              "      <td>0.25989</td>\n",
              "      <td>69.95940</td>\n",
              "      <td>69.95940</td>\n",
              "    </tr>\n",
              "    <tr>\n",
              "      <th>50%</th>\n",
              "      <td>0.50383</td>\n",
              "      <td>136.61773</td>\n",
              "      <td>136.61773</td>\n",
              "    </tr>\n",
              "    <tr>\n",
              "      <th>75%</th>\n",
              "      <td>0.75954</td>\n",
              "      <td>259.81533</td>\n",
              "      <td>259.81533</td>\n",
              "    </tr>\n",
              "    <tr>\n",
              "      <th>max</th>\n",
              "      <td>0.99900</td>\n",
              "      <td>3262.44537</td>\n",
              "      <td>500.00000</td>\n",
              "    </tr>\n",
              "  </tbody>\n",
              "</table>\n",
              "</div>\n",
              "      <button class=\"colab-df-convert\" onclick=\"convertToInteractive('df-093894fc-5950-4ff9-ab78-b4767a333c34')\"\n",
              "              title=\"Convert this dataframe to an interactive table.\"\n",
              "              style=\"display:none;\">\n",
              "        \n",
              "  <svg xmlns=\"http://www.w3.org/2000/svg\" height=\"24px\"viewBox=\"0 0 24 24\"\n",
              "       width=\"24px\">\n",
              "    <path d=\"M0 0h24v24H0V0z\" fill=\"none\"/>\n",
              "    <path d=\"M18.56 5.44l.94 2.06.94-2.06 2.06-.94-2.06-.94-.94-2.06-.94 2.06-2.06.94zm-11 1L8.5 8.5l.94-2.06 2.06-.94-2.06-.94L8.5 2.5l-.94 2.06-2.06.94zm10 10l.94 2.06.94-2.06 2.06-.94-2.06-.94-.94-2.06-.94 2.06-2.06.94z\"/><path d=\"M17.41 7.96l-1.37-1.37c-.4-.4-.92-.59-1.43-.59-.52 0-1.04.2-1.43.59L10.3 9.45l-7.72 7.72c-.78.78-.78 2.05 0 2.83L4 21.41c.39.39.9.59 1.41.59.51 0 1.02-.2 1.41-.59l7.78-7.78 2.81-2.81c.8-.78.8-2.07 0-2.86zM5.41 20L4 18.59l7.72-7.72 1.47 1.35L5.41 20z\"/>\n",
              "  </svg>\n",
              "      </button>\n",
              "      \n",
              "  <style>\n",
              "    .colab-df-container {\n",
              "      display:flex;\n",
              "      flex-wrap:wrap;\n",
              "      gap: 12px;\n",
              "    }\n",
              "\n",
              "    .colab-df-convert {\n",
              "      background-color: #E8F0FE;\n",
              "      border: none;\n",
              "      border-radius: 50%;\n",
              "      cursor: pointer;\n",
              "      display: none;\n",
              "      fill: #1967D2;\n",
              "      height: 32px;\n",
              "      padding: 0 0 0 0;\n",
              "      width: 32px;\n",
              "    }\n",
              "\n",
              "    .colab-df-convert:hover {\n",
              "      background-color: #E2EBFA;\n",
              "      box-shadow: 0px 1px 2px rgba(60, 64, 67, 0.3), 0px 1px 3px 1px rgba(60, 64, 67, 0.15);\n",
              "      fill: #174EA6;\n",
              "    }\n",
              "\n",
              "    [theme=dark] .colab-df-convert {\n",
              "      background-color: #3B4455;\n",
              "      fill: #D2E3FC;\n",
              "    }\n",
              "\n",
              "    [theme=dark] .colab-df-convert:hover {\n",
              "      background-color: #434B5C;\n",
              "      box-shadow: 0px 1px 3px 1px rgba(0, 0, 0, 0.15);\n",
              "      filter: drop-shadow(0px 1px 2px rgba(0, 0, 0, 0.3));\n",
              "      fill: #FFFFFF;\n",
              "    }\n",
              "  </style>\n",
              "\n",
              "      <script>\n",
              "        const buttonEl =\n",
              "          document.querySelector('#df-093894fc-5950-4ff9-ab78-b4767a333c34 button.colab-df-convert');\n",
              "        buttonEl.style.display =\n",
              "          google.colab.kernel.accessAllowed ? 'block' : 'none';\n",
              "\n",
              "        async function convertToInteractive(key) {\n",
              "          const element = document.querySelector('#df-093894fc-5950-4ff9-ab78-b4767a333c34');\n",
              "          const dataTable =\n",
              "            await google.colab.kernel.invokeFunction('convertToInteractive',\n",
              "                                                     [key], {});\n",
              "          if (!dataTable) return;\n",
              "\n",
              "          const docLinkHtml = 'Like what you see? Visit the ' +\n",
              "            '<a target=\"_blank\" href=https://colab.research.google.com/notebooks/data_table.ipynb>data table notebook</a>'\n",
              "            + ' to learn more about interactive tables.';\n",
              "          element.innerHTML = '';\n",
              "          dataTable['output_type'] = 'display_data';\n",
              "          await google.colab.output.renderOutput(dataTable, element);\n",
              "          const docLink = document.createElement('div');\n",
              "          docLink.innerHTML = docLinkHtml;\n",
              "          element.appendChild(docLink);\n",
              "        }\n",
              "      </script>\n",
              "    </div>\n",
              "  </div>\n",
              "  "
            ],
            "text/plain": [
              "       sf_cumsum_i       days  days_censored\n",
              "count   5000.00000 5000.00000     5000.00000\n",
              "mean       0.50554  214.66064      184.69959\n",
              "std        0.28929  252.10944      145.70091\n",
              "min        0.00033    6.75152        6.75152\n",
              "25%        0.25989   69.95940       69.95940\n",
              "50%        0.50383  136.61773      136.61773\n",
              "75%        0.75954  259.81533      259.81533\n",
              "max        0.99900 3262.44537      500.00000"
            ]
          },
          "metadata": {},
          "execution_count": 26
        }
      ]
    },
    {
      "cell_type": "code",
      "source": [
        "def _ll_survival(y, beta,censored):\n",
        "    mu=beta[0]\n",
        "    sigma=beta[1]\n",
        "    # X=np.where(y==censored, 0, 1)\n",
        "    # Y=np.log(y)\n",
        "    pdf=lognorm.pdf(y ,sigma, loc=0, scale=np.exp(mu))\n",
        "    cdf=lognorm.cdf(y, sigma, loc=0, scale=np.exp(mu))   \n",
        "    prob=(y<censored)*pdf + (y>=censored)*(1-cdf)\n",
        "    ll=np.log(prob)\n",
        "    return ll.sum() \n",
        "\n",
        "class MySurvical_mle(GenericLikelihoodModel):\n",
        "    def __init__(self, endog, exog=None, **kwds):\n",
        "      super(MySurvical_mle, self).__init__(endog, exog,  **kwds)\n",
        "\n",
        "    def nloglikeobs(self, params):\n",
        "\t    beta = params\n",
        "\t    ll = _ll_survival(self.endog, beta,censored)\n",
        "\t    return -ll\n",
        "\n",
        "    def fit(self, start_params=None, maxiter=10000, maxfun=5000,  **kwds):\n",
        "    # we have one additional parameter and we need to add it for summary\n",
        "      # self.exog_names.append('mu') ;self.exog_names.append('sigma');\n",
        "      if start_params == None:\n",
        "        # start_params =np.array([0.5,2,0,1,4,2])\n",
        "        start_params =np.array([1,1])\n",
        "        return super(MySurvical_mle, self).fit(start_params=start_params, maxiter=maxiter, maxfun=maxfun, method='nm', **kwds)\n",
        "\n",
        "y=sample.days_censored\n",
        "censored=500\n",
        "model_survival=MySurvical_mle(y).fit()\n",
        "print(model_survival.summary())\n",
        "print(model_survival.params)\n",
        "\n",
        "y=sample2.days_censored\n",
        "censored=500\n",
        "model_survival2=MySurvical_mle(y).fit()\n",
        "print(model_survival2.summary())\n",
        "print(model_survival2.params)\n"
      ],
      "metadata": {
        "colab": {
          "base_uri": "https://localhost:8080/"
        },
        "id": "2wVNPUTrc-wv",
        "outputId": "50c1518a-b857-431b-dba4-7a929df1edde"
      },
      "execution_count": 27,
      "outputs": [
        {
          "output_type": "stream",
          "name": "stderr",
          "text": [
            "/usr/local/lib/python3.7/dist-packages/ipykernel_launcher.py:9: RuntimeWarning: divide by zero encountered in log\n",
            "  if __name__ == '__main__':\n"
          ]
        },
        {
          "output_type": "stream",
          "name": "stdout",
          "text": [
            "Optimization terminated successfully.\n",
            "         Current function value: 5.595880\n",
            "         Iterations: 49\n",
            "         Function evaluations: 94\n",
            "                            MySurvical_mle Results                            \n",
            "==============================================================================\n",
            "Dep. Variable:          days_censored   Log-Likelihood:                -27979.\n",
            "Model:                 MySurvical_mle   AIC:                               nan\n",
            "Method:            Maximum Likelihood   BIC:                               nan\n",
            "Date:                Tue, 28 Dec 2021                                         \n",
            "Time:                        15:13:16                                         \n",
            "No. Observations:                5000                                         \n",
            "Df Residuals:                     NaN                                         \n",
            "Df Model:                         NaN                                         \n",
            "==============================================================================\n",
            "                 coef    std err          z      P>|z|      [0.025      0.975]\n",
            "------------------------------------------------------------------------------\n",
            "par0           5.0381      0.014    353.191      0.000       5.010       5.066\n",
            "par1           0.9952      0.011     90.691      0.000       0.974       1.017\n",
            "==============================================================================\n",
            "[5.04 0.995]\n",
            "Optimization terminated successfully.\n",
            "         Current function value: 5.684576\n",
            "         Iterations: 50\n",
            "         Function evaluations: 98\n",
            "                            MySurvical_mle Results                            \n",
            "==============================================================================\n",
            "Dep. Variable:          days_censored   Log-Likelihood:                -28423.\n",
            "Model:                 MySurvical_mle   AIC:                               nan\n",
            "Method:            Maximum Likelihood   BIC:                               nan\n",
            "Date:                Tue, 28 Dec 2021                                         \n",
            "Time:                        15:13:16                                         \n",
            "No. Observations:                5000                                         \n",
            "Df Residuals:                     NaN                                         \n",
            "Df Model:                         NaN                                         \n",
            "==============================================================================\n",
            "                 coef    std err          z      P>|z|      [0.025      0.975]\n",
            "------------------------------------------------------------------------------\n",
            "par0           4.9139      0.014    360.521      0.000       4.887       4.941\n",
            "par1           0.9559      0.010     93.216      0.000       0.936       0.976\n",
            "==============================================================================\n",
            "[4.91 0.956]\n"
          ]
        }
      ]
    },
    {
      "cell_type": "code",
      "source": [
        "scale, s=np.exp(model_survival.params[0]), model_survival.params[1]\n",
        "\n",
        "df_surv=pd.DataFrame([q  for q in np.arange(0.001,1,0.001)], columns=['quantile'])\n",
        "df_surv['days']=lognorm.ppf(df_surv['quantile'], s, loc=0, scale=scale)\n",
        "df_surv['pdf']=lognorm.pdf(df_surv.days, s, loc=0, scale=scale)\n",
        "df_surv['cdf']=lognorm.cdf(df_surv.days, s, loc=0, scale=scale)\n",
        "df_surv['sf']=lognorm.sf(df_surv.days, s, loc=0, scale=scale)\n",
        "df_surv['hazard']=df_surv.pdf/(df_surv.sf)\n",
        "df_surv['hazard_log']=np.log(df_surv.pdf/(df_surv.sf))\n",
        "df_surv['hazard2']=df_surv.hazard*(1+factor)\n",
        "df_surv['hazard2_log']=np.log(df_surv.hazard2)\n",
        "\n",
        "df_surv['hazard2_log']-df_surv['hazard_log']\n"
      ],
      "metadata": {
        "colab": {
          "base_uri": "https://localhost:8080/"
        },
        "id": "JatCXeIVc-uR",
        "outputId": "0ff663a0-388a-4057-96f0-6d2031c3bd87"
      },
      "execution_count": 28,
      "outputs": [
        {
          "output_type": "execute_result",
          "data": {
            "text/plain": [
              "0     0.13976\n",
              "1     0.13976\n",
              "2     0.13976\n",
              "3     0.13976\n",
              "4     0.13976\n",
              "        ...  \n",
              "994   0.13976\n",
              "995   0.13976\n",
              "996   0.13976\n",
              "997   0.13976\n",
              "998   0.13976\n",
              "Length: 999, dtype: float64"
            ]
          },
          "metadata": {},
          "execution_count": 28
        }
      ]
    },
    {
      "cell_type": "code",
      "source": [
        "scale, s=np.exp(model_survival2.params[0]), model_survival2.params[1]\n",
        "\n",
        "df_surv2=pd.DataFrame([q  for q in np.arange(0.001,1,0.001)], columns=['quantile'])\n",
        "df_surv2['days']=lognorm.ppf(df_surv2['quantile'], s, loc=0, scale=scale)\n",
        "df_surv2['pdf']=lognorm.pdf(df_surv2.days, s, loc=0, scale=scale)\n",
        "df_surv2['cdf']=lognorm.cdf(df_surv2.days, s, loc=0, scale=scale)\n",
        "df_surv2['sf']=lognorm.sf(df_surv2.days, s, loc=0, scale=scale)\n",
        "df_surv2['hazard']=df_surv2.pdf/(df_surv2.sf)\n",
        "df_surv2['hazard_log']=np.log(df_surv2.pdf/(df_surv2.sf))\n",
        "\n"
      ],
      "metadata": {
        "id": "FCUs9oRsc-qx"
      },
      "execution_count": 29,
      "outputs": []
    },
    {
      "cell_type": "code",
      "source": [
        "fig, ax = plt.subplots(nrows=1, ncols=5, figsize=(30, 3))\n",
        "df_surv.plot.line(ax=ax[0], x='days', y='pdf', grid=True, title='pdf')\n",
        "df_surv2.plot.line(ax=ax[0], x='days', y='pdf', grid=True, title='pdf')\n",
        "\n",
        "df_surv.plot.line(ax=ax[1], x='days', y='cdf', grid=True, title='cdf')\n",
        "df_surv2.plot.line(ax=ax[1], x='days', y='cdf', grid=True, title='cdf')\n",
        "\n",
        "df_surv.plot.line(ax=ax[2], x='days', y='sf', grid=True, title='survival curve')\n",
        "df_surv2.plot.line(ax=ax[2], x='days', y='sf', grid=True, title='survival curve')\n",
        "\n",
        "df_surv.plot.line(ax=ax[3], x='days', y='hazard', grid=True, title='hazard curve')\n",
        "df_surv.plot.line(ax=ax[3], x='days', y='hazard2', grid=True, title='hazard curve')\n",
        "df_surv2.plot.line(ax=ax[3], x='days', y='hazard', grid=True, title='hazard curve')\n",
        "\n",
        "df_surv.plot.line(ax=ax[4], x='days', y='hazard_log', grid=True, title='hazard_log')\n",
        "df_surv.plot.line(ax=ax[4], x='days', y='hazard2_log', grid=True, title='hazard2_log')\n",
        "df_surv2.plot.line(ax=ax[4], x='days', y='hazard_log', grid=True, title='hazard_log')\n"
      ],
      "metadata": {
        "colab": {
          "base_uri": "https://localhost:8080/",
          "height": 258
        },
        "id": "AteZEsBzc-m5",
        "outputId": "fc58ab1a-09af-445c-cf45-f0f23cdd55e1"
      },
      "execution_count": 30,
      "outputs": [
        {
          "output_type": "execute_result",
          "data": {
            "text/plain": [
              "<matplotlib.axes._subplots.AxesSubplot at 0x7fca15387350>"
            ]
          },
          "metadata": {},
          "execution_count": 30
        },
        {
          "output_type": "display_data",
          "data": {
            "image/png": "[encoded data removed]",
            "text/plain": [
              "<Figure size 2160x216 with 5 Axes>"
            ]
          },
          "metadata": {
            "needs_background": "light"
          }
        }
      ]
    },
    {
      "cell_type": "code",
      "source": [
        "df2=sample.append(sample2).reset_index()\n",
        "df2['flag']=1*(df2.index>5000)\n",
        "df2['event']=1*(df2.days<500)\n",
        "df2['days_censor']=np.where(df2['event']==1, df2['days'], 500 )"
      ],
      "metadata": {
        "id": "fo-dMLkDc-jD"
      },
      "execution_count": 31,
      "outputs": []
    },
    {
      "cell_type": "code",
      "source": [
        "df2.groupby('flag')['days_censor'].hist(bins=50, alpha = 0.8)"
      ],
      "metadata": {
        "colab": {
          "base_uri": "https://localhost:8080/",
          "height": 334
        },
        "id": "mxnXR4Kd6r7F",
        "outputId": "f392a30b-bb3d-4eed-a5d9-495b628395f1"
      },
      "execution_count": 34,
      "outputs": [
        {
          "output_type": "execute_result",
          "data": {
            "text/plain": [
              "flag\n",
              "0    AxesSubplot(0.125,0.125;0.775x0.755)\n",
              "1    AxesSubplot(0.125,0.125;0.775x0.755)\n",
              "Name: days_censor, dtype: object"
            ]
          },
          "metadata": {},
          "execution_count": 34
        },
        {
          "output_type": "display_data",
          "data": {
            "image/png": "[encoded data removed]",
            "text/plain": [
              "<Figure size 432x288 with 1 Axes>"
            ]
          },
          "metadata": {
            "needs_background": "light"
          }
        }
      ]
    },
    {
      "cell_type": "code",
      "source": [
        "df2.describe()"
      ],
      "metadata": {
        "colab": {
          "base_uri": "https://localhost:8080/",
          "height": 300
        },
        "id": "gY0Clw0Q4dWf",
        "outputId": "a1d98739-33f1-4b54-da21-cb6937d08917"
      },
      "execution_count": 35,
      "outputs": [
        {
          "output_type": "execute_result",
          "data": {
            "text/html": [
              "\n",
              "  <div id=\"df-4681b543-193d-486b-b142-a30b136dfe7a\">\n",
              "    <div class=\"colab-df-container\">\n",
              "      <div>\n",
              "<style scoped>\n",
              "    .dataframe tbody tr th:only-of-type {\n",
              "        vertical-align: middle;\n",
              "    }\n",
              "\n",
              "    .dataframe tbody tr th {\n",
              "        vertical-align: top;\n",
              "    }\n",
              "\n",
              "    .dataframe thead th {\n",
              "        text-align: right;\n",
              "    }\n",
              "</style>\n",
              "<table border=\"1\" class=\"dataframe\">\n",
              "  <thead>\n",
              "    <tr style=\"text-align: right;\">\n",
              "      <th></th>\n",
              "      <th>index</th>\n",
              "      <th>sf_cumsum_i</th>\n",
              "      <th>days</th>\n",
              "      <th>days_censored</th>\n",
              "      <th>flag</th>\n",
              "      <th>event</th>\n",
              "      <th>days_censor</th>\n",
              "    </tr>\n",
              "  </thead>\n",
              "  <tbody>\n",
              "    <tr>\n",
              "      <th>count</th>\n",
              "      <td>10000.00000</td>\n",
              "      <td>10000.00000</td>\n",
              "      <td>10000.00000</td>\n",
              "      <td>10000.00000</td>\n",
              "      <td>10000.00000</td>\n",
              "      <td>10000.00000</td>\n",
              "      <td>10000.00000</td>\n",
              "    </tr>\n",
              "    <tr>\n",
              "      <th>mean</th>\n",
              "      <td>2499.50000</td>\n",
              "      <td>0.49791</td>\n",
              "      <td>233.75094</td>\n",
              "      <td>194.38127</td>\n",
              "      <td>0.49990</td>\n",
              "      <td>0.89440</td>\n",
              "      <td>194.38127</td>\n",
              "    </tr>\n",
              "    <tr>\n",
              "      <th>std</th>\n",
              "      <td>1443.44782</td>\n",
              "      <td>0.28926</td>\n",
              "      <td>284.24238</td>\n",
              "      <td>150.56754</td>\n",
              "      <td>0.50002</td>\n",
              "      <td>0.30734</td>\n",
              "      <td>150.56754</td>\n",
              "    </tr>\n",
              "    <tr>\n",
              "      <th>min</th>\n",
              "      <td>0.00000</td>\n",
              "      <td>0.00016</td>\n",
              "      <td>6.75152</td>\n",
              "      <td>6.75152</td>\n",
              "      <td>0.00000</td>\n",
              "      <td>0.00000</td>\n",
              "      <td>6.75152</td>\n",
              "    </tr>\n",
              "    <tr>\n",
              "      <th>25%</th>\n",
              "      <td>1249.75000</td>\n",
              "      <td>0.24904</td>\n",
              "      <td>73.94452</td>\n",
              "      <td>73.94452</td>\n",
              "      <td>0.00000</td>\n",
              "      <td>1.00000</td>\n",
              "      <td>73.94452</td>\n",
              "    </tr>\n",
              "    <tr>\n",
              "      <th>50%</th>\n",
              "      <td>2499.50000</td>\n",
              "      <td>0.49436</td>\n",
              "      <td>144.37637</td>\n",
              "      <td>144.37637</td>\n",
              "      <td>0.00000</td>\n",
              "      <td>1.00000</td>\n",
              "      <td>144.37637</td>\n",
              "    </tr>\n",
              "    <tr>\n",
              "      <th>75%</th>\n",
              "      <td>3749.25000</td>\n",
              "      <td>0.75168</td>\n",
              "      <td>280.67339</td>\n",
              "      <td>280.67339</td>\n",
              "      <td>1.00000</td>\n",
              "      <td>1.00000</td>\n",
              "      <td>280.67339</td>\n",
              "    </tr>\n",
              "    <tr>\n",
              "      <th>max</th>\n",
              "      <td>4999.00000</td>\n",
              "      <td>0.99900</td>\n",
              "      <td>3262.44537</td>\n",
              "      <td>500.00000</td>\n",
              "      <td>1.00000</td>\n",
              "      <td>1.00000</td>\n",
              "      <td>500.00000</td>\n",
              "    </tr>\n",
              "  </tbody>\n",
              "</table>\n",
              "</div>\n",
              "      <button class=\"colab-df-convert\" onclick=\"convertToInteractive('df-4681b543-193d-486b-b142-a30b136dfe7a')\"\n",
              "              title=\"Convert this dataframe to an interactive table.\"\n",
              "              style=\"display:none;\">\n",
              "        \n",
              "  <svg xmlns=\"http://www.w3.org/2000/svg\" height=\"24px\"viewBox=\"0 0 24 24\"\n",
              "       width=\"24px\">\n",
              "    <path d=\"M0 0h24v24H0V0z\" fill=\"none\"/>\n",
              "    <path d=\"M18.56 5.44l.94 2.06.94-2.06 2.06-.94-2.06-.94-.94-2.06-.94 2.06-2.06.94zm-11 1L8.5 8.5l.94-2.06 2.06-.94-2.06-.94L8.5 2.5l-.94 2.06-2.06.94zm10 10l.94 2.06.94-2.06 2.06-.94-2.06-.94-.94-2.06-.94 2.06-2.06.94z\"/><path d=\"M17.41 7.96l-1.37-1.37c-.4-.4-.92-.59-1.43-.59-.52 0-1.04.2-1.43.59L10.3 9.45l-7.72 7.72c-.78.78-.78 2.05 0 2.83L4 21.41c.39.39.9.59 1.41.59.51 0 1.02-.2 1.41-.59l7.78-7.78 2.81-2.81c.8-.78.8-2.07 0-2.86zM5.41 20L4 18.59l7.72-7.72 1.47 1.35L5.41 20z\"/>\n",
              "  </svg>\n",
              "      </button>\n",
              "      \n",
              "  <style>\n",
              "    .colab-df-container {\n",
              "      display:flex;\n",
              "      flex-wrap:wrap;\n",
              "      gap: 12px;\n",
              "    }\n",
              "\n",
              "    .colab-df-convert {\n",
              "      background-color: #E8F0FE;\n",
              "      border: none;\n",
              "      border-radius: 50%;\n",
              "      cursor: pointer;\n",
              "      display: none;\n",
              "      fill: #1967D2;\n",
              "      height: 32px;\n",
              "      padding: 0 0 0 0;\n",
              "      width: 32px;\n",
              "    }\n",
              "\n",
              "    .colab-df-convert:hover {\n",
              "      background-color: #E2EBFA;\n",
              "      box-shadow: 0px 1px 2px rgba(60, 64, 67, 0.3), 0px 1px 3px 1px rgba(60, 64, 67, 0.15);\n",
              "      fill: #174EA6;\n",
              "    }\n",
              "\n",
              "    [theme=dark] .colab-df-convert {\n",
              "      background-color: #3B4455;\n",
              "      fill: #D2E3FC;\n",
              "    }\n",
              "\n",
              "    [theme=dark] .colab-df-convert:hover {\n",
              "      background-color: #434B5C;\n",
              "      box-shadow: 0px 1px 3px 1px rgba(0, 0, 0, 0.15);\n",
              "      filter: drop-shadow(0px 1px 2px rgba(0, 0, 0, 0.3));\n",
              "      fill: #FFFFFF;\n",
              "    }\n",
              "  </style>\n",
              "\n",
              "      <script>\n",
              "        const buttonEl =\n",
              "          document.querySelector('#df-4681b543-193d-486b-b142-a30b136dfe7a button.colab-df-convert');\n",
              "        buttonEl.style.display =\n",
              "          google.colab.kernel.accessAllowed ? 'block' : 'none';\n",
              "\n",
              "        async function convertToInteractive(key) {\n",
              "          const element = document.querySelector('#df-4681b543-193d-486b-b142-a30b136dfe7a');\n",
              "          const dataTable =\n",
              "            await google.colab.kernel.invokeFunction('convertToInteractive',\n",
              "                                                     [key], {});\n",
              "          if (!dataTable) return;\n",
              "\n",
              "          const docLinkHtml = 'Like what you see? Visit the ' +\n",
              "            '<a target=\"_blank\" href=https://colab.research.google.com/notebooks/data_table.ipynb>data table notebook</a>'\n",
              "            + ' to learn more about interactive tables.';\n",
              "          element.innerHTML = '';\n",
              "          dataTable['output_type'] = 'display_data';\n",
              "          await google.colab.output.renderOutput(dataTable, element);\n",
              "          const docLink = document.createElement('div');\n",
              "          docLink.innerHTML = docLinkHtml;\n",
              "          element.appendChild(docLink);\n",
              "        }\n",
              "      </script>\n",
              "    </div>\n",
              "  </div>\n",
              "  "
            ],
            "text/plain": [
              "            index  sf_cumsum_i        days  days_censored        flag       event  days_censor\n",
              "count 10000.00000  10000.00000 10000.00000    10000.00000 10000.00000 10000.00000  10000.00000\n",
              "mean   2499.50000      0.49791   233.75094      194.38127     0.49990     0.89440    194.38127\n",
              "std    1443.44782      0.28926   284.24238      150.56754     0.50002     0.30734    150.56754\n",
              "min       0.00000      0.00016     6.75152        6.75152     0.00000     0.00000      6.75152\n",
              "25%    1249.75000      0.24904    73.94452       73.94452     0.00000     1.00000     73.94452\n",
              "50%    2499.50000      0.49436   144.37637      144.37637     0.00000     1.00000    144.37637\n",
              "75%    3749.25000      0.75168   280.67339      280.67339     1.00000     1.00000    280.67339\n",
              "max    4999.00000      0.99900  3262.44537      500.00000     1.00000     1.00000    500.00000"
            ]
          },
          "metadata": {},
          "execution_count": 35
        }
      ]
    },
    {
      "cell_type": "code",
      "source": [
        "# df2"
      ],
      "metadata": {
        "id": "UmFGc1NE40mS"
      },
      "execution_count": 36,
      "outputs": []
    },
    {
      "cell_type": "code",
      "source": [
        "df_reg=df2[['event','days_censor', 'flag' ] ]\n",
        "from lifelines import CoxPHFitter\n",
        "%time cph = CoxPHFitter()\n",
        "%time cph.fit(df_reg, 'days_censor', 'event')\n",
        "%time cph.print_summary(model=\"untransformed variables\", decimals=6)\n",
        "\n",
        "cph.check_assumptions(df_reg, p_value_threshold=0.05, show_plots=True)"
      ],
      "metadata": {
        "colab": {
          "base_uri": "https://localhost:8080/",
          "height": 645
        },
        "id": "CrqMgZJpc-VP",
        "outputId": "1940fb71-41a0-4289-d0fd-63200c4e08d0"
      },
      "execution_count": 37,
      "outputs": [
        {
          "output_type": "stream",
          "name": "stdout",
          "text": [
            "CPU times: user 31 µs, sys: 2 µs, total: 33 µs\n",
            "Wall time: 38.1 µs\n",
            "CPU times: user 836 ms, sys: 64.3 ms, total: 900 ms\n",
            "Wall time: 836 ms\n"
          ]
        },
        {
          "output_type": "display_data",
          "data": {
            "text/latex": "\\begin{tabular}{lrrrrrrrrrr}\n\\toprule\n{} &     coef &  exp(coef) &  se(coef) &  coef lower 95\\% &  coef upper 95\\% &  exp(coef) lower 95\\% &  exp(coef) upper 95\\% &        z &        p &  -log2(p) \\\\\ncovariate &          &            &           &                 &                 &                      &                      &          &          &           \\\\\n\\midrule\nflag      & 0.140990 &   1.151413 &  0.021168 &        0.099502 &        0.182478 &             1.104620 &             1.200188 & 6.660544 & 0.000000 & 35.093280 \\\\\n\\bottomrule\n\\end{tabular}\n",
            "text/html": [
              "<div>\n",
              "<style scoped>\n",
              "    .dataframe tbody tr th:only-of-type {\n",
              "        vertical-align: middle;\n",
              "    }\n",
              "\n",
              "    .dataframe tbody tr th {\n",
              "        vertical-align: top;\n",
              "    }\n",
              "\n",
              "    .dataframe thead th {\n",
              "        text-align: right;\n",
              "    }\n",
              "</style>\n",
              "<table border=\"1\" class=\"dataframe\">\n",
              "  <tbody>\n",
              "    <tr>\n",
              "      <th>model</th>\n",
              "      <td>lifelines.CoxPHFitter</td>\n",
              "    </tr>\n",
              "    <tr>\n",
              "      <th>duration col</th>\n",
              "      <td>'days_censor'</td>\n",
              "    </tr>\n",
              "    <tr>\n",
              "      <th>event col</th>\n",
              "      <td>'event'</td>\n",
              "    </tr>\n",
              "    <tr>\n",
              "      <th>baseline estimation</th>\n",
              "      <td>breslow</td>\n",
              "    </tr>\n",
              "    <tr>\n",
              "      <th>number of observations</th>\n",
              "      <td>10000</td>\n",
              "    </tr>\n",
              "    <tr>\n",
              "      <th>number of events observed</th>\n",
              "      <td>8944</td>\n",
              "    </tr>\n",
              "    <tr>\n",
              "      <th>partial log-likelihood</th>\n",
              "      <td>-75786.215658</td>\n",
              "    </tr>\n",
              "    <tr>\n",
              "      <th>time fit was run</th>\n",
              "      <td>2021-12-28 15:17:05 UTC</td>\n",
              "    </tr>\n",
              "    <tr>\n",
              "      <th>model</th>\n",
              "      <td>untransformed variables</td>\n",
              "    </tr>\n",
              "  </tbody>\n",
              "</table>\n",
              "</div><table border=\"1\" class=\"dataframe\">\n",
              "  <thead>\n",
              "    <tr style=\"text-align: right;\">\n",
              "      <th style=\"min-width: 12px;\"></th>\n",
              "      <th style=\"min-width: 12px;\">coef</th>\n",
              "      <th style=\"min-width: 12px;\">exp(coef)</th>\n",
              "      <th style=\"min-width: 12px;\">se(coef)</th>\n",
              "      <th style=\"min-width: 12px;\">coef lower 95%</th>\n",
              "      <th style=\"min-width: 12px;\">coef upper 95%</th>\n",
              "      <th style=\"min-width: 12px;\">exp(coef) lower 95%</th>\n",
              "      <th style=\"min-width: 12px;\">exp(coef) upper 95%</th>\n",
              "      <th style=\"min-width: 12px;\">z</th>\n",
              "      <th style=\"min-width: 12px;\">p</th>\n",
              "      <th style=\"min-width: 12px;\">-log2(p)</th>\n",
              "    </tr>\n",
              "  </thead>\n",
              "  <tbody>\n",
              "    <tr>\n",
              "      <th>flag</th>\n",
              "      <td>0.140990</td>\n",
              "      <td>1.151413</td>\n",
              "      <td>0.021168</td>\n",
              "      <td>0.099502</td>\n",
              "      <td>0.182478</td>\n",
              "      <td>1.104620</td>\n",
              "      <td>1.200188</td>\n",
              "      <td>6.660544</td>\n",
              "      <td>&lt;5e-07</td>\n",
              "      <td>35.093280</td>\n",
              "    </tr>\n",
              "  </tbody>\n",
              "</table><br><div>\n",
              "<style scoped>\n",
              "    .dataframe tbody tr th:only-of-type {\n",
              "        vertical-align: middle;\n",
              "    }\n",
              "\n",
              "    .dataframe tbody tr th {\n",
              "        vertical-align: top;\n",
              "    }\n",
              "\n",
              "    .dataframe thead th {\n",
              "        text-align: right;\n",
              "    }\n",
              "</style>\n",
              "<table border=\"1\" class=\"dataframe\">\n",
              "  <tbody>\n",
              "    <tr>\n",
              "      <th>Concordance</th>\n",
              "      <td>0.517645</td>\n",
              "    </tr>\n",
              "    <tr>\n",
              "      <th>Partial AIC</th>\n",
              "      <td>151574.431317</td>\n",
              "    </tr>\n",
              "    <tr>\n",
              "      <th>log-likelihood ratio test</th>\n",
              "      <td>44.365882 on 1 df</td>\n",
              "    </tr>\n",
              "    <tr>\n",
              "      <th>-log2(p) of ll-ratio test</th>\n",
              "      <td>35.095518</td>\n",
              "    </tr>\n",
              "  </tbody>\n",
              "</table>\n",
              "</div>"
            ],
            "text/plain": [
              "<lifelines.CoxPHFitter: fitted with 10000 total observations, 1056 right-censored observations>\n",
              "             duration col = 'days_censor'\n",
              "                event col = 'event'\n",
              "      baseline estimation = breslow\n",
              "   number of observations = 10000\n",
              "number of events observed = 8944\n",
              "   partial log-likelihood = -75786.215658\n",
              "         time fit was run = 2021-12-28 15:17:05 UTC\n",
              "                    model = untransformed variables\n",
              "\n",
              "---\n",
              "              coef  exp(coef)   se(coef)   coef lower 95%   coef upper 95%  exp(coef) lower 95%  exp(coef) upper 95%\n",
              "covariate                                                                                                           \n",
              "flag      0.140990   1.151413   0.021168         0.099502         0.182478             1.104620             1.200188\n",
              "\n",
              "                 z      p   -log2(p)\n",
              "covariate                           \n",
              "flag      6.660544 <5e-07  35.093280\n",
              "---\n",
              "Concordance = 0.517645\n",
              "Partial AIC = 151574.431317\n",
              "log-likelihood ratio test = 44.365882 on 1 df\n",
              "-log2(p) of ll-ratio test = 35.095518"
            ]
          },
          "metadata": {}
        },
        {
          "output_type": "stream",
          "name": "stdout",
          "text": [
            "CPU times: user 116 ms, sys: 1.98 ms, total: 118 ms\n",
            "Wall time: 120 ms\n",
            "Proportional hazard assumption looks okay.\n"
          ]
        },
        {
          "output_type": "execute_result",
          "data": {
            "text/plain": [
              "[]"
            ]
          },
          "metadata": {},
          "execution_count": 37
        }
      ]
    },
    {
      "cell_type": "code",
      "source": [
        ""
      ],
      "metadata": {
        "id": "2LIcpw_06VGV"
      },
      "execution_count": null,
      "outputs": []
    },
    {
      "cell_type": "code",
      "source": [
        ""
      ],
      "metadata": {
        "id": "gw7HsFCfJmgy"
      },
      "execution_count": null,
      "outputs": []
    },
    {
      "cell_type": "code",
      "source": [
        "# import numpy\n",
        "# import scipy.integrate\n",
        "\n",
        "# class HazardSampler(object):\n",
        "#     def __init__(self, hazard, start=0.0, step=None):\n",
        "#         self.hazard = hazard\n",
        "#         if step is None:\n",
        "#             h0 = hazard(0.0)\n",
        "#             if h0 > 0:\n",
        "#                 step = 2.0 / hazard(0.0)\n",
        "#             else:\n",
        "#                 # Reasonable default.  Not efficient in some cases.\n",
        "#                 step = 200.0 / scipy.integrate.quad(hazard, 0.0, 100.0) \n",
        "#         self.cumulative_hazard = CumulativeHazard(hazard)\n",
        "#         self.survival_function = SurvivalFunction(self.cumulative_hazard)\n",
        "#         self.cdf = Cdf(self.survival_function)\n",
        "#         self.inverse_cdf = InverseCdf(self.cdf, start=start, step=step, lower=0.0)\n",
        "#         self.sampler = InversionTransformSampler(self.inverse_cdf)\n",
        "\n",
        "#     def draw(self):\n",
        "#         return self.sampler.draw()\n",
        "\n",
        "# class InversionTransformSampler(object):\n",
        "#     def __init__(self, inverse_cdf):\n",
        "#         self.inverse_cdf = inverse_cdf\n",
        "\n",
        "#     def draw(self):\n",
        "#         u = numpy.random.uniform(0,1)\n",
        "#         return self.inverse_cdf(u)\n",
        "\n",
        "# class CumulativeHazard(object):\n",
        "#     def __init__(self, hazard):\n",
        "#         self.hazard = hazard\n",
        "\n",
        "#     def __call__(self, t):\n",
        "#         return scipy.integrate.quad(self.hazard, 0.0, t)[0]\n",
        "\n",
        "# class SurvivalFunction(object):\n",
        "#     def __init__(self, cumulative_hazard):\n",
        "#         self.cumulative_hazard = cumulative_hazard\n",
        "\n",
        "#     def __call__(self, t):\n",
        "#         return numpy.exp(-self.cumulative_hazard(t))\n",
        "\n",
        "# class Cdf(object):\n",
        "#     def __init__(self, survival_function):\n",
        "#         self.survival_function = survival_function\n",
        "\n",
        "#     def __call__(self, t):\n",
        "#         return 1.0 - self.survival_function(t)\n",
        "\n",
        "# class InverseCdf(object):\n",
        "#     def __init__(self, cdf, start, step, precision=1e-8, lower=float('-inf'),\n",
        "#                  upper=float('inf')):\n",
        "#         self.cdf = cdf\n",
        "#         self.precision = precision\n",
        "#         self.start = start\n",
        "#         self.step = step\n",
        "#         self.lower = lower\n",
        "#         self.upper = upper\n",
        "\n",
        "#     def __call__(self, p):\n",
        "#         last_diff = None\n",
        "#         step = self.step\n",
        "#         current = self.start\n",
        "#         while True:\n",
        "#             value = self.cdf(current)\n",
        "#             diff = value - p\n",
        "#             if abs(diff) < self.precision:\n",
        "#                 break\n",
        "#             elif diff < 0:\n",
        "#                 current = min(current + step, self.upper)\n",
        "#                 if last_diff is not None and last_diff > 0:\n",
        "#                     step *= 0.5\n",
        "#                 last_diff = diff\n",
        "#             else:\n",
        "#                 current = max(current - step, self.lower)\n",
        "#                 if last_diff is not None and last_diff < 0:\n",
        "#                     step *= 0.5\n",
        "#                 last_diff = diff\n",
        "#         return current"
      ],
      "metadata": {
        "id": "f3bBA72_g-_3"
      },
      "execution_count": null,
      "outputs": []
    },
    {
      "cell_type": "code",
      "source": [
        "# import numpy\n",
        "# # from samplers import HazardSampler\n",
        "\n",
        "# # Set a random seed and sample size\n",
        "# numpy.random.seed(1)\n",
        "# m = 1000\n",
        "\n",
        "# # Use this totally crazy hazard function\n",
        "# hazard = lambda t: numpy.exp(numpy.sin(t) - 2.0)\n",
        "\n",
        "# # Sample failure times from the hazard function\n",
        "# sampler = HazardSampler(hazard)\n",
        "# failure_times = numpy.array([sampler.draw() for _ in range(m)])\n",
        "\n",
        "# # Apply some non-informative right censoring, just to demonstrate how it's done\n",
        "# censor_times = numpy.random.uniform(0.0, 25.0, size=m)\n",
        "# y = numpy.minimum(failure_times, censor_times)\n",
        "# c = 1.0 * (censor_times > failure_times)\n",
        "\n",
        "# # Make some plots of the simulated data\n",
        "# from matplotlib import pyplot\n",
        "# from statsmodels.distributions import ECDF\n",
        "\n",
        "# # Plot a histogram of failure times from this hazard function\n",
        "# pyplot.hist(failure_times, bins=50)\n",
        "# pyplot.title('Uncensored Failure Times')\n",
        "# pyplot.savefig('uncensored_hist.png')\n",
        "# pyplot.show()\n",
        "\n",
        "# # Plot a histogram of censored failure times from this hazard function\n",
        "# pyplot.hist(y, bins=50)\n",
        "# pyplot.title('Non-informatively Right Censored Failure Times')\n",
        "# pyplot.savefig('censored_hist.png')\n",
        "# pyplot.show()\n",
        "\n",
        "# # Plot the empirical survival function (based on the censored sample) against the actual survival function\n",
        "# t = numpy.arange(0,20.0,.1)\n",
        "# S = numpy.array([sampler.survival_function(t[i]) for i in range(len(t))])\n",
        "# S_hat = 1.0 - ECDF(failure_times)(t)\n",
        "# pyplot.figure()\n",
        "# pyplot.title('Survival Function Comparison')\n",
        "# pyplot.plot(t, S, 'r', lw=3, label='True survival function')\n",
        "# pyplot.plot(t, S_hat, 'b--', lw=3, label='Sampled survival function (1 - ECDF)')\n",
        "# pyplot.legend()\n",
        "# pyplot.xlabel('Time')\n",
        "# pyplot.ylabel('Proportion Still Alive')\n",
        "# pyplot.savefig('survival_comp.png')\n",
        "# pyplot.show()\n"
      ],
      "metadata": {
        "id": "iPwRVXfeJmdm"
      },
      "execution_count": null,
      "outputs": []
    },
    {
      "cell_type": "code",
      "source": [
        ""
      ],
      "metadata": {
        "id": "vsKUNnr1JmXG"
      },
      "execution_count": null,
      "outputs": []
    },
    {
      "cell_type": "code",
      "source": [
        ""
      ],
      "metadata": {
        "id": "ny2FHi_RJmKV"
      },
      "execution_count": null,
      "outputs": []
    },
    {
      "cell_type": "code",
      "source": [
        ""
      ],
      "metadata": {
        "id": "O5p6fcw0HYSy"
      },
      "execution_count": null,
      "outputs": []
    },
    {
      "cell_type": "code",
      "source": [
        ""
      ],
      "metadata": {
        "id": "vdevwaDPHYGH"
      },
      "execution_count": null,
      "outputs": []
    },
    {
      "cell_type": "code",
      "source": [
        ""
      ],
      "metadata": {
        "id": "FrpBz3z5HYCh"
      },
      "execution_count": null,
      "outputs": []
    },
    {
      "cell_type": "code",
      "source": [
        ""
      ],
      "metadata": {
        "id": "jLGkO5yxRb1Z"
      },
      "execution_count": null,
      "outputs": []
    }
  ]
}