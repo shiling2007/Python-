{
  "nbformat": 4,
  "nbformat_minor": 0,
  "metadata": {
    "colab": {
      "name": "survival model likelihood estimator.ipynb",
      "provenance": [],
      "collapsed_sections": [],
      "authorship_tag": "ABX9TyOxf74k/UZ88So+SkaM3Ay6",
      "include_colab_link": true
    },
    "kernelspec": {
      "display_name": "Python 3",
      "name": "python3"
    },
    "language_info": {
      "name": "python"
    }
  },
  "cells": [
    {
      "cell_type": "markdown",
      "metadata": {
        "id": "view-in-github",
        "colab_type": "text"
      },
      "source": [
        "<a href=\"https://colab.research.google.com/github/shiling2007/Python-/blob/main/survival_model_likelihood_estimator.ipynb\" target=\"_parent\"><img src=\"https://colab.research.google.com/assets/colab-badge.svg\" alt=\"Open In Colab\"/></a>"
      ]
    },
    {
      "cell_type": "code",
      "metadata": {
        "colab": {
          "base_uri": "https://localhost:8080/",
          "height": 17
        },
        "id": "g7sSfY_7o-pn",
        "outputId": "853dd5a0-a0ce-4252-8785-011ffcfc8ec0"
      },
      "source": [
        "# https://nbviewer.org/gist/AustinRochford/92b06d174a7f84fded6e\n",
        "\n",
        "from IPython.core.display import display, HTML, Image\n",
        "display(HTML(\"<style>.container { width:100% !important; }</style>\"))\n",
        "# from IPython.core.interactiveshell import InteractiveShell\n",
        "# InteractiveShell.ast_node_interactivity = \"all\"\n",
        "# from google.colab import drive\n",
        "# drive.mount('/content/drive')\n",
        "# from google.colab import files\n",
        "# files.download('/content/drive/MyDrive/Colab Notebooks/Lease Payment Formula.ipynb') \n",
        "import matplotlib.pyplot as plt\n",
        "import numpy as np\n",
        "np.set_printoptions(edgeitems=30, linewidth=100000, \n",
        "    formatter=dict(float=lambda x: \"%.3g\" % x))\n",
        "import pandas as pd\n",
        "pd.set_option('display.max_rows', 10)\n",
        "pd.set_option('display.max_columns', 500)\n",
        "pd.set_option('display.width', 999)\n",
        "pd.set_option(\"max_colwidth\", 500)\n",
        "# try:\n",
        "#  device_name = os.environ['COLAB_TPU_ADDR']\n",
        "#  TPU_ADDRESS = 'grpc://' + device_name\n",
        "#  print('Found TPU at: {}'.format(TPU_ADDRESS))\n",
        "# except KeyError:\n",
        "#  print('TPU not found')\n",
        "%load_ext autoreload\n",
        "%autoreload 2"
      ],
      "execution_count": 1,
      "outputs": [
        {
          "output_type": "display_data",
          "data": {
            "text/html": [
              "<style>.container { width:100% !important; }</style>"
            ],
            "text/plain": [
              "<IPython.core.display.HTML object>"
            ]
          },
          "metadata": {}
        }
      ]
    },
    {
      "cell_type": "code",
      "source": [
        "# !pip install lifelines"
      ],
      "metadata": {
        "id": "bprTj58yj9B4"
      },
      "execution_count": 3,
      "outputs": []
    },
    {
      "cell_type": "code",
      "source": [
        "import statsmodels.api as sm\n",
        "from statsmodels.base.model import GenericLikelihoodModel\n",
        "from statsmodels import api\n",
        "from scipy.optimize import minimize\n",
        "from scipy.stats import norm, uniform\n",
        "from statsmodels.formula.api import probit\n",
        "from lifelines import (KaplanMeierFitter, WeibullFitter,  NelsonAalenFitter, PiecewiseExponentialFitter, LogLogisticFitter, LogNormalFitter, CoxPHFitter, ExponentialFitter)\n",
        "from scipy.stats import weibull_min, expon, randint , lognorm, norm"
      ],
      "metadata": {
        "id": "D_tC40tZwx_e",
        "colab": {
          "base_uri": "https://localhost:8080/"
        },
        "outputId": "5130570d-8cc6-4012-e95a-d1cb7956129e"
      },
      "execution_count": 4,
      "outputs": [
        {
          "output_type": "stream",
          "name": "stderr",
          "text": [
            "/usr/local/lib/python3.7/dist-packages/statsmodels/tools/_testing.py:19: FutureWarning: pandas.util.testing is deprecated. Use the functions in the public API at pandas.testing instead.\n",
            "  import pandas.util.testing as tm\n"
          ]
        }
      ]
    },
    {
      "cell_type": "code",
      "source": [
        "#survival data generation"
      ],
      "metadata": {
        "id": "1V9QtO3v8GUZ"
      },
      "execution_count": 5,
      "outputs": []
    },
    {
      "cell_type": "code",
      "source": [
        "n_obs=1250\n",
        "censored=800\n",
        "loc=6.0; scale=0.8;\n",
        "\n",
        "days=np.exp(norm.rvs(loc=loc, scale=scale, size=n_obs, random_state=123))\n",
        "days_censored=np.minimum(days, censored)\n",
        "event=np.where(days_censored==censored, 0,1)\n",
        "\n",
        "data=pd.DataFrame(np.c_[days,days_censored,event], columns=['days','days_censored','event'])\n",
        "data.days.hist(bins=30)\n",
        "plt.show()\n",
        "data.days_censored.hist(bins=30)\n",
        "plt.show()\n",
        "data.event.hist(bins=30)\n"
      ],
      "metadata": {
        "id": "sQFt6vWp8GRO",
        "colab": {
          "base_uri": "https://localhost:8080/",
          "height": 778
        },
        "outputId": "34478313-0094-4baf-d69a-179b849abc7c"
      },
      "execution_count": 6,
      "outputs": [
        {
          "output_type": "display_data",
          "data": {
            "image/png": "[encoded data removed]",
            "text/plain": [
              "<Figure size 432x288 with 1 Axes>"
            ]
          },
          "metadata": {
            "needs_background": "light"
          }
        },
        {
          "output_type": "display_data",
          "data": {
            "image/png": "[encoded data removed]",
            "text/plain": [
              "<Figure size 432x288 with 1 Axes>"
            ]
          },
          "metadata": {
            "needs_background": "light"
          }
        },
        {
          "output_type": "execute_result",
          "data": {
            "text/plain": [
              "<matplotlib.axes._subplots.AxesSubplot at 0x7f59a7081e90>"
            ]
          },
          "metadata": {},
          "execution_count": 6
        },
        {
          "output_type": "display_data",
          "data": {
            "image/png": "[encoded data removed]",
            "text/plain": [
              "<Figure size 432x288 with 1 Axes>"
            ]
          },
          "metadata": {
            "needs_background": "light"
          }
        }
      ]
    },
    {
      "cell_type": "code",
      "source": [
        "fig, ax = plt.subplots(nrows=1, ncols=3, figsize=(15, 4))\n",
        "lnf = LogNormalFitter().fit(data[\"days_censored\"], data[\"event\"])\n",
        "print(lnf)\n",
        "lnf.plot_hazard(ax=ax[0], grid=True)\n",
        "lnf.plot_cumulative_hazard(ax=ax[1], grid=True)\n",
        "lnf.plot_survival_function(ax=ax[2], grid=True)\n",
        "ax[0].set_title(\"hazard\"); ax[1].set_title(\"cumulative_hazard\"); ax[2].set_title(\"survival_function\")\n",
        "\n",
        "lnf.print_summary(3)"
      ],
      "metadata": {
        "colab": {
          "base_uri": "https://localhost:8080/",
          "height": 598
        },
        "id": "wNiycag15GE4",
        "outputId": "1854d40e-d6e8-478a-dee3-a1a8f1b6a2a0"
      },
      "execution_count": 7,
      "outputs": [
        {
          "output_type": "stream",
          "name": "stdout",
          "text": [
            "<lifelines.LogNormalFitter:\"LogNormal_estimate\", fitted with 1250 total observations, 243 right-censored observations>\n"
          ]
        },
        {
          "output_type": "display_data",
          "data": {
            "text/latex": "\\begin{tabular}{lrrrrrrr}\n\\toprule\n{} &  coef &  se(coef) &  coef lower 95\\% &  coef upper 95\\% &       z &     p &  -log2(p) \\\\\n\\midrule\nmu\\_    & 5.981 &     0.023 &           5.936 &           6.027 & 255.821 & 0.000 &       inf \\\\\nsigma\\_ & 0.803 &     0.019 &           0.767 &           0.840 & -10.471 & 0.000 &    82.812 \\\\\n\\bottomrule\n\\end{tabular}\n",
            "text/html": [
              "<div>\n",
              "<style scoped>\n",
              "    .dataframe tbody tr th:only-of-type {\n",
              "        vertical-align: middle;\n",
              "    }\n",
              "\n",
              "    .dataframe tbody tr th {\n",
              "        vertical-align: top;\n",
              "    }\n",
              "\n",
              "    .dataframe thead th {\n",
              "        text-align: right;\n",
              "    }\n",
              "</style>\n",
              "<table border=\"1\" class=\"dataframe\">\n",
              "  <tbody>\n",
              "    <tr>\n",
              "      <th>model</th>\n",
              "      <td>lifelines.LogNormalFitter</td>\n",
              "    </tr>\n",
              "    <tr>\n",
              "      <th>number of observations</th>\n",
              "      <td>1250</td>\n",
              "    </tr>\n",
              "    <tr>\n",
              "      <th>number of events observed</th>\n",
              "      <td>1007</td>\n",
              "    </tr>\n",
              "    <tr>\n",
              "      <th>log-likelihood</th>\n",
              "      <td>-7204.240</td>\n",
              "    </tr>\n",
              "    <tr>\n",
              "      <th>hypothesis</th>\n",
              "      <td>mu_ != 0, sigma_ != 1</td>\n",
              "    </tr>\n",
              "  </tbody>\n",
              "</table>\n",
              "</div><table border=\"1\" class=\"dataframe\">\n",
              "  <thead>\n",
              "    <tr style=\"text-align: right;\">\n",
              "      <th style=\"min-width: 12px;\"></th>\n",
              "      <th style=\"min-width: 12px;\">coef</th>\n",
              "      <th style=\"min-width: 12px;\">se(coef)</th>\n",
              "      <th style=\"min-width: 12px;\">coef lower 95%</th>\n",
              "      <th style=\"min-width: 12px;\">coef upper 95%</th>\n",
              "      <th style=\"min-width: 12px;\">z</th>\n",
              "      <th style=\"min-width: 12px;\">p</th>\n",
              "      <th style=\"min-width: 12px;\">-log2(p)</th>\n",
              "    </tr>\n",
              "  </thead>\n",
              "  <tbody>\n",
              "    <tr>\n",
              "      <th>mu_</th>\n",
              "      <td>5.981</td>\n",
              "      <td>0.023</td>\n",
              "      <td>5.936</td>\n",
              "      <td>6.027</td>\n",
              "      <td>255.821</td>\n",
              "      <td>&lt;0.0005</td>\n",
              "      <td>inf</td>\n",
              "    </tr>\n",
              "    <tr>\n",
              "      <th>sigma_</th>\n",
              "      <td>0.803</td>\n",
              "      <td>0.019</td>\n",
              "      <td>0.767</td>\n",
              "      <td>0.840</td>\n",
              "      <td>-10.471</td>\n",
              "      <td>&lt;0.0005</td>\n",
              "      <td>82.812</td>\n",
              "    </tr>\n",
              "  </tbody>\n",
              "</table><br><div>\n",
              "<style scoped>\n",
              "    .dataframe tbody tr th:only-of-type {\n",
              "        vertical-align: middle;\n",
              "    }\n",
              "\n",
              "    .dataframe tbody tr th {\n",
              "        vertical-align: top;\n",
              "    }\n",
              "\n",
              "    .dataframe thead th {\n",
              "        text-align: right;\n",
              "    }\n",
              "</style>\n",
              "<table border=\"1\" class=\"dataframe\">\n",
              "  <tbody>\n",
              "    <tr>\n",
              "      <th>AIC</th>\n",
              "      <td>14412.481</td>\n",
              "    </tr>\n",
              "  </tbody>\n",
              "</table>\n",
              "</div>"
            ],
            "text/plain": [
              "<lifelines.LogNormalFitter:\"LogNormal_estimate\", fitted with 1250 total observations, 243 right-censored observations>\n",
              "   number of observations = 1250\n",
              "number of events observed = 1007\n",
              "           log-likelihood = -7204.240\n",
              "               hypothesis = mu_ != 0, sigma_ != 1\n",
              "\n",
              "---\n",
              "         coef   se(coef)   coef lower 95%   coef upper 95%       z       p   -log2(p)\n",
              "mu_     5.981      0.023            5.936            6.027 255.821 <0.0005        inf\n",
              "sigma_  0.803      0.019            0.767            0.840 -10.471 <0.0005     82.812\n",
              "---\n",
              "AIC = 14412.481"
            ]
          },
          "metadata": {}
        },
        {
          "output_type": "display_data",
          "data": {
            "image/png": "[encoded data removed]",
            "text/plain": [
              "<Figure size 1080x288 with 3 Axes>"
            ]
          },
          "metadata": {
            "needs_background": "light"
          }
        }
      ]
    },
    {
      "cell_type": "code",
      "source": [
        "data"
      ],
      "metadata": {
        "colab": {
          "base_uri": "https://localhost:8080/",
          "height": 423
        },
        "id": "dtq90tkYUdSC",
        "outputId": "a9e9dadf-b371-4388-e552-bee842a54f68"
      },
      "execution_count": 8,
      "outputs": [
        {
          "output_type": "execute_result",
          "data": {
            "text/html": [
              "\n",
              "  <div id=\"df-99bc46ed-4b01-4386-8516-90e6fd6908a3\">\n",
              "    <div class=\"colab-df-container\">\n",
              "      <div>\n",
              "<style scoped>\n",
              "    .dataframe tbody tr th:only-of-type {\n",
              "        vertical-align: middle;\n",
              "    }\n",
              "\n",
              "    .dataframe tbody tr th {\n",
              "        vertical-align: top;\n",
              "    }\n",
              "\n",
              "    .dataframe thead th {\n",
              "        text-align: right;\n",
              "    }\n",
              "</style>\n",
              "<table border=\"1\" class=\"dataframe\">\n",
              "  <thead>\n",
              "    <tr style=\"text-align: right;\">\n",
              "      <th></th>\n",
              "      <th>days</th>\n",
              "      <th>days_censored</th>\n",
              "      <th>event</th>\n",
              "    </tr>\n",
              "  </thead>\n",
              "  <tbody>\n",
              "    <tr>\n",
              "      <th>0</th>\n",
              "      <td>169.270075</td>\n",
              "      <td>169.270075</td>\n",
              "      <td>1.0</td>\n",
              "    </tr>\n",
              "    <tr>\n",
              "      <th>1</th>\n",
              "      <td>895.942608</td>\n",
              "      <td>800.000000</td>\n",
              "      <td>0.0</td>\n",
              "    </tr>\n",
              "    <tr>\n",
              "      <th>2</th>\n",
              "      <td>505.922147</td>\n",
              "      <td>505.922147</td>\n",
              "      <td>1.0</td>\n",
              "    </tr>\n",
              "    <tr>\n",
              "      <th>3</th>\n",
              "      <td>120.900057</td>\n",
              "      <td>120.900057</td>\n",
              "      <td>1.0</td>\n",
              "    </tr>\n",
              "    <tr>\n",
              "      <th>4</th>\n",
              "      <td>253.945531</td>\n",
              "      <td>253.945531</td>\n",
              "      <td>1.0</td>\n",
              "    </tr>\n",
              "    <tr>\n",
              "      <th>...</th>\n",
              "      <td>...</td>\n",
              "      <td>...</td>\n",
              "      <td>...</td>\n",
              "    </tr>\n",
              "    <tr>\n",
              "      <th>1245</th>\n",
              "      <td>170.184385</td>\n",
              "      <td>170.184385</td>\n",
              "      <td>1.0</td>\n",
              "    </tr>\n",
              "    <tr>\n",
              "      <th>1246</th>\n",
              "      <td>191.876095</td>\n",
              "      <td>191.876095</td>\n",
              "      <td>1.0</td>\n",
              "    </tr>\n",
              "    <tr>\n",
              "      <th>1247</th>\n",
              "      <td>224.957459</td>\n",
              "      <td>224.957459</td>\n",
              "      <td>1.0</td>\n",
              "    </tr>\n",
              "    <tr>\n",
              "      <th>1248</th>\n",
              "      <td>256.997036</td>\n",
              "      <td>256.997036</td>\n",
              "      <td>1.0</td>\n",
              "    </tr>\n",
              "    <tr>\n",
              "      <th>1249</th>\n",
              "      <td>1391.779764</td>\n",
              "      <td>800.000000</td>\n",
              "      <td>0.0</td>\n",
              "    </tr>\n",
              "  </tbody>\n",
              "</table>\n",
              "<p>1250 rows × 3 columns</p>\n",
              "</div>\n",
              "      <button class=\"colab-df-convert\" onclick=\"convertToInteractive('df-99bc46ed-4b01-4386-8516-90e6fd6908a3')\"\n",
              "              title=\"Convert this dataframe to an interactive table.\"\n",
              "              style=\"display:none;\">\n",
              "        \n",
              "  <svg xmlns=\"http://www.w3.org/2000/svg\" height=\"24px\"viewBox=\"0 0 24 24\"\n",
              "       width=\"24px\">\n",
              "    <path d=\"M0 0h24v24H0V0z\" fill=\"none\"/>\n",
              "    <path d=\"M18.56 5.44l.94 2.06.94-2.06 2.06-.94-2.06-.94-.94-2.06-.94 2.06-2.06.94zm-11 1L8.5 8.5l.94-2.06 2.06-.94-2.06-.94L8.5 2.5l-.94 2.06-2.06.94zm10 10l.94 2.06.94-2.06 2.06-.94-2.06-.94-.94-2.06-.94 2.06-2.06.94z\"/><path d=\"M17.41 7.96l-1.37-1.37c-.4-.4-.92-.59-1.43-.59-.52 0-1.04.2-1.43.59L10.3 9.45l-7.72 7.72c-.78.78-.78 2.05 0 2.83L4 21.41c.39.39.9.59 1.41.59.51 0 1.02-.2 1.41-.59l7.78-7.78 2.81-2.81c.8-.78.8-2.07 0-2.86zM5.41 20L4 18.59l7.72-7.72 1.47 1.35L5.41 20z\"/>\n",
              "  </svg>\n",
              "      </button>\n",
              "      \n",
              "  <style>\n",
              "    .colab-df-container {\n",
              "      display:flex;\n",
              "      flex-wrap:wrap;\n",
              "      gap: 12px;\n",
              "    }\n",
              "\n",
              "    .colab-df-convert {\n",
              "      background-color: #E8F0FE;\n",
              "      border: none;\n",
              "      border-radius: 50%;\n",
              "      cursor: pointer;\n",
              "      display: none;\n",
              "      fill: #1967D2;\n",
              "      height: 32px;\n",
              "      padding: 0 0 0 0;\n",
              "      width: 32px;\n",
              "    }\n",
              "\n",
              "    .colab-df-convert:hover {\n",
              "      background-color: #E2EBFA;\n",
              "      box-shadow: 0px 1px 2px rgba(60, 64, 67, 0.3), 0px 1px 3px 1px rgba(60, 64, 67, 0.15);\n",
              "      fill: #174EA6;\n",
              "    }\n",
              "\n",
              "    [theme=dark] .colab-df-convert {\n",
              "      background-color: #3B4455;\n",
              "      fill: #D2E3FC;\n",
              "    }\n",
              "\n",
              "    [theme=dark] .colab-df-convert:hover {\n",
              "      background-color: #434B5C;\n",
              "      box-shadow: 0px 1px 3px 1px rgba(0, 0, 0, 0.15);\n",
              "      filter: drop-shadow(0px 1px 2px rgba(0, 0, 0, 0.3));\n",
              "      fill: #FFFFFF;\n",
              "    }\n",
              "  </style>\n",
              "\n",
              "      <script>\n",
              "        const buttonEl =\n",
              "          document.querySelector('#df-99bc46ed-4b01-4386-8516-90e6fd6908a3 button.colab-df-convert');\n",
              "        buttonEl.style.display =\n",
              "          google.colab.kernel.accessAllowed ? 'block' : 'none';\n",
              "\n",
              "        async function convertToInteractive(key) {\n",
              "          const element = document.querySelector('#df-99bc46ed-4b01-4386-8516-90e6fd6908a3');\n",
              "          const dataTable =\n",
              "            await google.colab.kernel.invokeFunction('convertToInteractive',\n",
              "                                                     [key], {});\n",
              "          if (!dataTable) return;\n",
              "\n",
              "          const docLinkHtml = 'Like what you see? Visit the ' +\n",
              "            '<a target=\"_blank\" href=https://colab.research.google.com/notebooks/data_table.ipynb>data table notebook</a>'\n",
              "            + ' to learn more about interactive tables.';\n",
              "          element.innerHTML = '';\n",
              "          dataTable['output_type'] = 'display_data';\n",
              "          await google.colab.output.renderOutput(dataTable, element);\n",
              "          const docLink = document.createElement('div');\n",
              "          docLink.innerHTML = docLinkHtml;\n",
              "          element.appendChild(docLink);\n",
              "        }\n",
              "      </script>\n",
              "    </div>\n",
              "  </div>\n",
              "  "
            ],
            "text/plain": [
              "             days  days_censored  event\n",
              "0      169.270075     169.270075    1.0\n",
              "1      895.942608     800.000000    0.0\n",
              "2      505.922147     505.922147    1.0\n",
              "3      120.900057     120.900057    1.0\n",
              "4      253.945531     253.945531    1.0\n",
              "...           ...            ...    ...\n",
              "1245   170.184385     170.184385    1.0\n",
              "1246   191.876095     191.876095    1.0\n",
              "1247   224.957459     224.957459    1.0\n",
              "1248   256.997036     256.997036    1.0\n",
              "1249  1391.779764     800.000000    0.0\n",
              "\n",
              "[1250 rows x 3 columns]"
            ]
          },
          "metadata": {},
          "execution_count": 8
        }
      ]
    },
    {
      "cell_type": "code",
      "source": [
        "#lognormal survival distribution\n",
        "def _ll_survival(y, beta, censored):\n",
        "    mu=beta[0]\n",
        "    sigma=beta[1]\n",
        "    # X=np.where(y==censored, 0, 1)\n",
        "    Y=np.log(y)\n",
        "    pdf=norm.pdf(Y,  loc=mu, scale=sigma)\n",
        "    cdf=norm.cdf(Y,  loc=mu, scale=sigma)   \n",
        "    prob=(y<censored)*pdf + (y>=censored)*(1-cdf)\n",
        "    ll=np.log(prob)\n",
        "    return ll.sum() \n",
        "\n",
        "class MySurvical_mle(GenericLikelihoodModel):\n",
        "    def __init__(self, endog, exog=None,  **kwds):\n",
        "      super(MySurvical_mle, self).__init__(endog, exog,  **kwds)\n",
        "\n",
        "    def nloglikeobs(self, params):\n",
        "\t    beta = params\n",
        "\t    ll = _ll_survival(self.endog, beta, censored)\n",
        "\t    return -ll\n",
        "\n",
        "    def fit(self, start_params=None, maxiter=10000, maxfun=5000, **kwds):\n",
        "    # we have one additional parameter and we need to add it for summary\n",
        "      # self.exog_names.append('mu') ;self.exog_names.append('sigma');\n",
        "      if start_params == None:\n",
        "        # start_params =np.array([0.5,2,0,1,4,2])\n",
        "        start_params =np.array([1,1])\n",
        "        return super(MySurvical_mle, self).fit(start_params=start_params, maxiter=maxiter, maxfun=maxfun,  **kwds)\n",
        "\n",
        "y=data.days_censored\n",
        "X=data.event\n",
        "model_survival=MySurvical_mle(y).fit()\n",
        "print(model_survival.summary())\n",
        "print(model_survival.params)"
      ],
      "metadata": {
        "colab": {
          "base_uri": "https://localhost:8080/"
        },
        "id": "JZHWeYiI5F8D",
        "outputId": "24b73c52-5f63-4b57-c546-1158038d33f1"
      },
      "execution_count": 9,
      "outputs": [
        {
          "output_type": "stream",
          "name": "stdout",
          "text": [
            "Optimization terminated successfully.\n",
            "         Current function value: 1.167510\n",
            "         Iterations: 56\n",
            "         Function evaluations: 108\n",
            "                            MySurvical_mle Results                            \n",
            "==============================================================================\n",
            "Dep. Variable:          days_censored   Log-Likelihood:                -1459.4\n",
            "Model:                 MySurvical_mle   AIC:                               nan\n",
            "Method:            Maximum Likelihood   BIC:                               nan\n",
            "Date:                Tue, 21 Dec 2021                                         \n",
            "Time:                        22:09:20                                         \n",
            "No. Observations:                1250                                         \n",
            "Df Residuals:                     NaN                                         \n",
            "Df Model:                         NaN                                         \n",
            "==============================================================================\n",
            "                 coef    std err          z      P>|z|      [0.025      0.975]\n",
            "------------------------------------------------------------------------------\n",
            "par0           5.9814      0.023    255.825      0.000       5.936       6.027\n",
            "par1           0.8034      0.019     42.780      0.000       0.767       0.840\n",
            "==============================================================================\n",
            "[5.98 0.803]\n"
          ]
        }
      ]
    },
    {
      "cell_type": "code",
      "source": [
        "def _ll_survival(y, beta, censored):\n",
        "    mu=beta[0]\n",
        "    sigma=beta[1]\n",
        "    # X=np.where(y==censored, 0, 1)\n",
        "    Y=np.log(y)\n",
        "    pdf=norm.pdf(Y,  loc=mu, scale=sigma)\n",
        "    cdf=norm.cdf(Y,  loc=mu, scale=sigma)   \n",
        "    prob=(y<censored)*pdf + (y>=censored)*(1-cdf)\n",
        "    ll=np.log(prob)\n",
        "    return ll.sum() \n",
        "y=data.days_censored\n",
        "X=data.event\n",
        "beta= model_survival.params\n",
        "\n",
        "ll= _ll_survival(y,  beta, censored)\n",
        "\n",
        "\n",
        "print(ll)"
      ],
      "metadata": {
        "colab": {
          "base_uri": "https://localhost:8080/"
        },
        "id": "mCb3CFjAsuQ1",
        "outputId": "91b15cda-0c48-4c3b-98e4-a78566d8c155"
      },
      "execution_count": 10,
      "outputs": [
        {
          "output_type": "stream",
          "name": "stdout",
          "text": [
            "-1459.3868817443938\n"
          ]
        }
      ]
    },
    {
      "cell_type": "code",
      "source": [
        "#lognormal survival distribution\n",
        "def _ll_survival(y, beta,censored):\n",
        "    mu=beta[0]\n",
        "    sigma=beta[1]\n",
        "    # X=np.where(y==censored, 0, 1)\n",
        "    # Y=np.log(y)\n",
        "    pdf=lognorm.pdf(y ,sigma, loc=0, scale=np.exp(mu))\n",
        "    cdf=lognorm.cdf(y, sigma, loc=0, scale=np.exp(mu))   \n",
        "    prob=(y<censored)*pdf + (y>=censored)*(1-cdf)\n",
        "    ll=np.log(prob)\n",
        "    return ll.sum() \n",
        "\n",
        "class MySurvical_mle(GenericLikelihoodModel):\n",
        "    def __init__(self, endog, exog=None, **kwds):\n",
        "      super(MySurvical_mle, self).__init__(endog, exog,  **kwds)\n",
        "\n",
        "    def nloglikeobs(self, params):\n",
        "\t    beta = params\n",
        "\t    ll = _ll_survival(self.endog, beta,censored)\n",
        "\t    return -ll\n",
        "\n",
        "    def fit(self, start_params=None, maxiter=10000, maxfun=5000, **kwds):\n",
        "    # we have one additional parameter and we need to add it for summary\n",
        "      # self.exog_names.append('mu') ;self.exog_names.append('sigma');\n",
        "      if start_params == None:\n",
        "        # start_params =np.array([0.5,2,0,1,4,2])\n",
        "        start_params =np.array([1,1])\n",
        "        return super(MySurvical_mle, self).fit(start_params=start_params, maxiter=maxiter, maxfun=maxfun,  **kwds)\n",
        "\n",
        "y=data.days_censored\n",
        "X=data.event\n",
        "model_survival=MySurvical_mle(y).fit()\n",
        "print(model_survival.summary())\n",
        "print(model_survival.params)"
      ],
      "metadata": {
        "colab": {
          "base_uri": "https://localhost:8080/"
        },
        "id": "csviEDSayR7L",
        "outputId": "bd611a62-05fe-42e6-9d0a-968ba490ce00"
      },
      "execution_count": 11,
      "outputs": [
        {
          "output_type": "stream",
          "name": "stdout",
          "text": [
            "Optimization terminated successfully.\n",
            "         Current function value: 5.763392\n",
            "         Iterations: 56\n",
            "         Function evaluations: 108\n",
            "                            MySurvical_mle Results                            \n",
            "==============================================================================\n",
            "Dep. Variable:          days_censored   Log-Likelihood:                -7204.2\n",
            "Model:                 MySurvical_mle   AIC:                               nan\n",
            "Method:            Maximum Likelihood   BIC:                               nan\n",
            "Date:                Tue, 21 Dec 2021                                         \n",
            "Time:                        22:10:05                                         \n",
            "No. Observations:                1250                                         \n",
            "Df Residuals:                     NaN                                         \n",
            "Df Model:                         NaN                                         \n",
            "==============================================================================\n",
            "                 coef    std err          z      P>|z|      [0.025      0.975]\n",
            "------------------------------------------------------------------------------\n",
            "par0           5.9814      0.023    255.825      0.000       5.936       6.027\n",
            "par1           0.8034      0.019     42.780      0.000       0.767       0.840\n",
            "==============================================================================\n",
            "[5.98 0.803]\n"
          ]
        }
      ]
    },
    {
      "cell_type": "code",
      "source": [
        ""
      ],
      "metadata": {
        "id": "kdWwj9ITyR1G"
      },
      "execution_count": null,
      "outputs": []
    },
    {
      "cell_type": "code",
      "source": [
        ""
      ],
      "metadata": {
        "id": "s59IU2_kyRyH"
      },
      "execution_count": null,
      "outputs": []
    },
    {
      "cell_type": "code",
      "source": [
        ""
      ],
      "metadata": {
        "id": "h93TQhbVyRu0"
      },
      "execution_count": null,
      "outputs": []
    },
    {
      "cell_type": "code",
      "source": [
        ""
      ],
      "metadata": {
        "id": "G9ndG16JyRsW"
      },
      "execution_count": null,
      "outputs": []
    }
  ]
}