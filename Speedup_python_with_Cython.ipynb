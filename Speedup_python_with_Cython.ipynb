{
  "nbformat": 4,
  "nbformat_minor": 0,
  "metadata": {
    "colab": {
      "name": "Speedup python with Cython.ipynb",
      "provenance": [],
      "collapsed_sections": [],
      "authorship_tag": "ABX9TyM4jegNsWT4MbEULQ1HOspp",
      "include_colab_link": true
    },
    "kernelspec": {
      "display_name": "Python 3",
      "name": "python3"
    },
    "language_info": {
      "name": "python"
    }
  },
  "cells": [
    {
      "cell_type": "markdown",
      "metadata": {
        "id": "view-in-github",
        "colab_type": "text"
      },
      "source": [
        "<a href=\"https://colab.research.google.com/github/shiling2007/Python-/blob/main/Speedup_python_with_Cython.ipynb\" target=\"_parent\"><img src=\"https://colab.research.google.com/assets/colab-badge.svg\" alt=\"Open In Colab\"/></a>"
      ]
    },
    {
      "cell_type": "code",
      "metadata": {
        "colab": {
          "base_uri": "https://localhost:8080/",
          "height": 17
        },
        "id": "g7sSfY_7o-pn",
        "outputId": "b1738d25-5937-431b-8b6a-530d22d97e67"
      },
      "source": [
        "# https://colab.research.google.com/drive/1oXcSCor9mH72N8NVeYX4Sl2jD0UWII2n#scrollTo=ooRjCqo0JpW5\n",
        "\n",
        "from IPython.core.display import display, HTML, Image\n",
        "display(HTML(\"<style>.container { width:100% !important; }</style>\"))\n",
        "# from IPython.core.interactiveshell import InteractiveShell\n",
        "# InteractiveShell.ast_node_interactivity = \"all\"\n",
        "# from google.colab import drive\n",
        "# drive.mount('/content/drive')\n",
        "# from google.colab import files\n",
        "# files.download('/content/drive/MyDrive/Colab Notebooks/Lease Payment Formula.ipynb') \n",
        "import matplotlib.pyplot as plt\n",
        "import numpy as np\n",
        "np.set_printoptions(edgeitems=30, linewidth=100000, \n",
        "    formatter=dict(float=lambda x: \"%.5g\" % x))\n",
        "import pandas as pd\n",
        "pd.set_option('display.max_rows', 10)\n",
        "pd.set_option('display.max_columns', 500)\n",
        "pd.set_option('display.width', 999)\n",
        "pd.set_option(\"max_colwidth\", 500)\n",
        "# try:\n",
        "#  device_name = os.environ['COLAB_TPU_ADDR']\n",
        "#  TPU_ADDRESS = 'grpc://' + device_name\n",
        "#  print('Found TPU at: {}'.format(TPU_ADDRESS))\n",
        "# except KeyError:\n",
        "#  print('TPU not found')\n",
        "%load_ext autoreload\n",
        "%autoreload 2"
      ],
      "execution_count": null,
      "outputs": [
        {
          "output_type": "display_data",
          "data": {
            "text/plain": [
              "<IPython.core.display.HTML object>"
            ],
            "text/html": [
              "<style>.container { width:100% !important; }</style>"
            ]
          },
          "metadata": {}
        }
      ]
    },
    {
      "cell_type": "code",
      "source": [
        "# Getting started with Cython\n",
        "# Introduction\n",
        "# As a big data engineer and machine learning engineer at a multinational reinsurance firm, I frequently have to build data pipelines \n",
        "# and these pipelines can often be slow when utilizing standard python. To circumvent clogs in certain memory intensive tasks, I make use of cython\n",
        "# The Cython language is a superset of Python, this means that almost all python code works in cython. The reason for using cython is \n",
        "# that python code can sometimes be slow and by converting some of the slow python code into cython, we can dramatically reduce the \n",
        "# runtime. As always, it's best if we begin with an example of the speed benefits of cython.\n",
        "\n",
        "# To begin, we must load in the cython extension when working inside a jupyter notebook."
      ],
      "metadata": {
        "id": "yWXCgGSBuUPe"
      },
      "execution_count": null,
      "outputs": []
    },
    {
      "cell_type": "code",
      "source": [
        "%load_ext cython"
      ],
      "metadata": {
        "id": "EBouzmkxn-am"
      },
      "execution_count": null,
      "outputs": []
    },
    {
      "cell_type": "code",
      "source": [
        "%%cython\n",
        "\n",
        "# - python version\n",
        "def py_sum(n):\n",
        "  \"\"\"Compute the sum\"\"\"\n",
        "  i = 0\n",
        "  the_sum = 0\n",
        "  for i in range(n):\n",
        "    the_sum += i\n",
        "  return the_sum\n",
        "\n",
        "# - cython version\n",
        "cdef inline int cy_sum(int n):\n",
        "  cdef int i = 0\n",
        "  cdef int the_sum = 0\n",
        "  for i in range(n):\n",
        "    the_sum += i\n",
        "  return the_sum\n",
        "\n",
        "# - cython version bypassing the gil\n",
        "cdef inline int cy_sum_nogil(int n) nogil:\n",
        "  cdef int i = 0\n",
        "  cdef int the_sum = 0\n",
        "  for i in range(n):\n",
        "    the_sum += i\n",
        "  return the_sum\n",
        "\n",
        "def cy_wrapper(int n):\n",
        "  return cy_sum(n)\n",
        "\n",
        "def cy_nogil_wrapper(int n):\n",
        "  return cy_sum_nogil(n)"
      ],
      "metadata": {
        "id": "vcOW0UwKn-Xr"
      },
      "execution_count": null,
      "outputs": []
    },
    {
      "cell_type": "code",
      "source": [
        "import numpy as np\n",
        "\n",
        "n=100000000\n",
        "\n",
        "print(\"python time complexity\")\n",
        "%timeit py_sum(n)\n",
        "print('\\n')\n",
        "\n",
        "print('cython time complexity')\n",
        "%timeit cy_wrapper(n)\n",
        "print('\\n')\n",
        "\n",
        "print('cython nogil time complexity')\n",
        "%timeit cy_nogil_wrapper(n)\n",
        "print('\\n')\n",
        "\n",
        "\n",
        "print(\"python sum function\")\n",
        "%timeit sum(range(1,n))\n",
        "print('\\n')\n",
        "\n",
        "print(\"numpy sum\")\n",
        "%timeit np.sum(range(1, n))"
      ],
      "metadata": {
        "colab": {
          "base_uri": "https://localhost:8080/"
        },
        "id": "EmPpQ1a5n-U-",
        "outputId": "9c9c475b-2f2b-4780-de5b-46bbc687d684"
      },
      "execution_count": null,
      "outputs": [
        {
          "output_type": "stream",
          "name": "stdout",
          "text": [
            "python time complexity\n",
            "1 loop, best of 5: 4.02 s per loop\n",
            "\n",
            "\n",
            "cython time complexity\n",
            "10 loops, best of 5: 76.6 ms per loop\n",
            "\n",
            "\n",
            "cython nogil time complexity\n",
            "10 loops, best of 5: 38.5 ms per loop\n",
            "\n",
            "\n",
            "python sum function\n",
            "1 loop, best of 5: 2.11 s per loop\n",
            "\n",
            "\n",
            "numpy sum\n",
            "1 loop, best of 5: 10.5 s per loop\n"
          ]
        }
      ]
    },
    {
      "cell_type": "code",
      "source": [
        "cdef int i            # declare an integer variable\n",
        "cdef double d = 10.1  # declare a double and initialize it to 10.1"
      ],
      "metadata": {
        "id": "iwnDCwaCn-Rv"
      },
      "execution_count": null,
      "outputs": []
    },
    {
      "cell_type": "code",
      "source": [
        "4.02*1000/76.6"
      ],
      "metadata": {
        "colab": {
          "base_uri": "https://localhost:8080/"
        },
        "id": "fkDA4HUCn-Ov",
        "outputId": "02c9ca0d-98f3-49ed-d5d4-81f46efcec51"
      },
      "execution_count": null,
      "outputs": [
        {
          "output_type": "execute_result",
          "data": {
            "text/plain": [
              "52.48041775456919"
            ]
          },
          "metadata": {},
          "execution_count": 23
        }
      ]
    },
    {
      "cell_type": "code",
      "source": [
        "%%cython\n",
        "# add -a to check python iteration\n",
        "\n",
        "\n",
        "# - declaration of basic C variable types\n",
        "cdef:\n",
        "  int i = 0       # integer \n",
        "  bint b = True   # boolean\n",
        "  char c = b'w'   # character\n",
        "  double d = 10.1 # double\n",
        "  float f = 1.10  # floating point\n",
        "  long l = 1000   # long int\n",
        "  long double ld = 100000000000.10 # long double\n",
        "  \n",
        "# - declaration of python types within C\n",
        "#    these python objects are declared by cython\n",
        "#    as C pointers to built-in Python struct type\n",
        "cdef list cy_list\n",
        "cdef dict cy_dict\n",
        "cdef str cy_str\n",
        "cdef set cy_set"
      ],
      "metadata": {
        "id": "pmqwGv3en-MW"
      },
      "execution_count": null,
      "outputs": []
    },
    {
      "cell_type": "code",
      "source": [
        "%%cython\n",
        "cimport cython\n",
        "from libc.stdlib cimport malloc, realloc, free # import C level functions for memory allocation\n",
        "\n",
        "# - declare a pointer to a char\n",
        "cdef char* token = NULL; # good practice to initialize pointers to NULL\n",
        "# - allocate 5 bytes of memory to token\n",
        "token = <char*>malloc(5*sizeof(char))\n",
        "\n",
        "# - insert values into the token array\n",
        "token[0] = b'h'\n",
        "token[1] = b'e'\n",
        "token[2] = b'l'\n",
        "token[3] = b'l'\n",
        "token[4] = b'o'\n",
        "cdef int i = 0\n",
        "print(chr(token[i]))\n",
        "print(chr(token[i+1]))\n",
        "print(chr(token[i+2]))\n",
        "print(chr(token[i+3]))\n",
        "print(chr(token[i+4]))\n",
        "print('\\n\\n')\n",
        "# - !WARNING: you must be careful with pointers as you can access memory \n",
        "# that may be storing other functions or variables and you can accidentally \n",
        "# overwrite them. Use caution when using pointers.\n",
        "\n",
        "#print(chr(token[i+5])) # we access a memory location not assigned to token\n",
        "\n",
        "# - if we need more memory, we can use realloc just the C code above\n",
        "token = <char*>realloc(token, 11*sizeof(char))\n",
        "token[5] = b' '\n",
        "token[6] = b'w'\n",
        "token[7] = b'o'\n",
        "token[8] = b'r'\n",
        "token[9] = b'l'\n",
        "token[10] = b'd'\n",
        "print(chr(token[i]))\n",
        "print(chr(token[i+1]))\n",
        "print(chr(token[i+2]))\n",
        "print(chr(token[i+3]))\n",
        "print(chr(token[i+4]))\n",
        "print(chr(token[i+5]))\n",
        "print(chr(token[i+6]))\n",
        "print(chr(token[i+7]))\n",
        "print(chr(token[i+8]))\n",
        "print(chr(token[i+9]))\n",
        "print(chr(token[i+10]))\n",
        "\n",
        "# - we the C's free function to release the memory taken from the free store(heap)\n",
        "free(token) # release memory back to the heap\n",
        "#print(token) # !WARNING: this will cause an error to be raised."
      ],
      "metadata": {
        "colab": {
          "base_uri": "https://localhost:8080/"
        },
        "id": "6-pNyXDMq2Wk",
        "outputId": "4cd20706-0ad0-45f1-fcbd-9573bb9a14a1"
      },
      "execution_count": null,
      "outputs": [
        {
          "output_type": "stream",
          "name": "stdout",
          "text": [
            "h\n",
            "e\n",
            "l\n",
            "l\n",
            "o\n",
            "\n",
            "\n",
            "\n",
            "h\n",
            "e\n",
            "l\n",
            "l\n",
            "o\n",
            " \n",
            "w\n",
            "o\n",
            "r\n",
            "l\n",
            "d\n"
          ]
        }
      ]
    },
    {
      "cell_type": "code",
      "source": [
        "%%cython\n",
        "import warnings\n",
        "from libc.stdlib cimport malloc, realloc, free\n",
        "warnings.filterwarnings(action='once')\n",
        "# - create a struct called __tok__\n",
        "cdef struct __tok__:\n",
        "  char **tokens\n",
        "  int *num_tokens\n",
        "  \n",
        "# - create an enum called week_days\n",
        "cdef enum week_days:\n",
        "  Sunday, Monday, Tuesday,\n",
        "  Wednesday, Thursday,\n",
        "  Friday, Saturday\n",
        "  \n",
        "# - create a union called data\n",
        "cdef union data:\n",
        "  double *d_data_array\n",
        "  int *i_data_array\n",
        "  char *c_data_array\n",
        "  float *f_data_array\n",
        "  \n",
        "# - create a struct pointer to __tok__ and allocate memory\n",
        "cdef __tok__ *tPtr = <__tok__*>malloc(sizeof(__tok__))\n",
        "tPtr.tokens = <char**>malloc(5*sizeof(char*)) # allocate memory for 5 tokens\n",
        "\n",
        "# - iterate through each token container and allocate memory\n",
        "cdef int j = 0\n",
        "for j in range(5):\n",
        "  tPtr.tokens[j] = <char*>malloc(5*sizeof(char)) ## assign a size of 5 for each token\n",
        "  \n",
        "# - load tokens into tPtr.tokens\n",
        "b1 = b'hello'\n",
        "b2 = b'world'\n",
        "b3 = b'there'\n",
        "b4 = b'other'\n",
        "b5 = b'nicer'\n",
        "\n",
        "tPtr.tokens[0] = b1\n",
        "tPtr.tokens[1] = b2\n",
        "tPtr.tokens[2] = b3\n",
        "tPtr.tokens[3] = b4\n",
        "tPtr.tokens[4] = b5\n",
        "\n",
        "print(tPtr.tokens[0])\n",
        "print(tPtr.tokens[1])\n",
        "print(tPtr.tokens[2])\n",
        "print(tPtr.tokens[3])\n",
        "print(tPtr.tokens[4])"
      ],
      "metadata": {
        "colab": {
          "base_uri": "https://localhost:8080/"
        },
        "id": "aygmZra4q2Sy",
        "outputId": "2ecf70da-cfc9-4457-9e6c-519fcb4d4d51"
      },
      "execution_count": null,
      "outputs": [
        {
          "output_type": "stream",
          "name": "stderr",
          "text": [
            "warning: /root/.cache/ipython/cython/_cython_magic_74303f733c5b6bcfe8eea8c1c8d0c397.pyx:38:17: Obtaining 'char *' from externally modifiable global Python value\n",
            "warning: /root/.cache/ipython/cython/_cython_magic_74303f733c5b6bcfe8eea8c1c8d0c397.pyx:39:17: Obtaining 'char *' from externally modifiable global Python value\n",
            "warning: /root/.cache/ipython/cython/_cython_magic_74303f733c5b6bcfe8eea8c1c8d0c397.pyx:40:17: Obtaining 'char *' from externally modifiable global Python value\n",
            "warning: /root/.cache/ipython/cython/_cython_magic_74303f733c5b6bcfe8eea8c1c8d0c397.pyx:41:17: Obtaining 'char *' from externally modifiable global Python value\n",
            "warning: /root/.cache/ipython/cython/_cython_magic_74303f733c5b6bcfe8eea8c1c8d0c397.pyx:42:17: Obtaining 'char *' from externally modifiable global Python value\n"
          ]
        },
        {
          "output_type": "stream",
          "name": "stdout",
          "text": [
            "b'hello'\n",
            "b'world'\n",
            "b'there'\n",
            "b'other'\n",
            "b'nicer'\n"
          ]
        }
      ]
    },
    {
      "cell_type": "code",
      "source": [
        "%%cython\n",
        "\n",
        "# - fused types\n",
        "# fused types allow generic programming within cython\n",
        "# Currently, only variables and function/method arguments can be fuesd types\n",
        "ctypedef fused int_float_double:\n",
        "  int\n",
        "  float\n",
        "  double\n",
        "\n",
        "# - ctypedef for the function pointer opr\n",
        "ctypedef int (*opr)(int, int)\n",
        "\n",
        "# - same as opr but using fused types\n",
        "ctypedef int_float_double (*operation)(int_float_double v1, int_float_double v2)\n",
        "\n",
        "# - compute takes in a function pointer and 2 ints\n",
        "cdef int compute(opr op, int x, int y):\n",
        "  return op(x, y)\n",
        "\n",
        "cdef int add(int a, int b):\n",
        "  return a + b\n",
        "cdef int mult(int a, int b):\n",
        "  return a * b\n",
        "\n",
        "cdef int_float_double addf(int_float_double a, int_float_double b):\n",
        "  return a + b\n",
        "cdef int_float_double multf(int_float_double a, int_float_double b):\n",
        "  return a * b\n",
        "\n",
        "\n",
        "# - utilizing the function pointer and ctypedef\n",
        "print(compute(mult, 10, 20))\n",
        "print(compute(add, 100, 99))\n",
        "\n",
        "# - utilizing fused type function pointer and ctypedef\n",
        "print(addf(10.1, 10))\n",
        "print(multf(100.1, .512))"
      ],
      "metadata": {
        "colab": {
          "base_uri": "https://localhost:8080/"
        },
        "id": "8QyAidWrq2QX",
        "outputId": "1a5e32e8-e77e-4f82-811b-65b465966553"
      },
      "execution_count": null,
      "outputs": [
        {
          "output_type": "stream",
          "name": "stdout",
          "text": [
            "200\n",
            "199\n",
            "20.1\n",
            "51.2512\n"
          ]
        }
      ]
    },
    {
      "cell_type": "code",
      "source": [
        ""
      ],
      "metadata": {
        "id": "WCh4U8j8q2Nn"
      },
      "execution_count": null,
      "outputs": []
    },
    {
      "cell_type": "code",
      "metadata": {
        "id": "zbaxrrpEKvGk",
        "colab": {
          "base_uri": "https://localhost:8080/"
        },
        "outputId": "792102fa-3e93-4afd-e851-d1a321867af6"
      },
      "source": [
        "%%cython -f\n",
        "# distutils: extra_compile_args = -fopenmp\n",
        "# distutils: extra_link_args = -fopenmp\n",
        "# cython: boundscheck = False\n",
        "\n",
        "# - logic of declarations above\n",
        "# make sure open mp library is being used\n",
        "\n",
        "cimport openmp\n",
        "from cython.parallel import prange, parallel, threadid\n",
        "from libc.stdlib cimport malloc, realloc, free, abort\n",
        "from libc.math cimport log\n",
        "\n",
        "cdef int i\n",
        "cdef int n = 100000\n",
        "cdef int sum_ = 0\n",
        "\n",
        "for i in prange(n, nogil=True): # release the gil\n",
        "  sum_ += i\n",
        "print(sum_)\n",
        "\n",
        "# - function is safe to call from a nogil block\n",
        "# this does not release the lock\n",
        "cdef int f(int x) nogil:\n",
        "  cdef int y\n",
        "  y = x + 1\n",
        "  return x + 1\n",
        "\n",
        "# - function uses the with nogil which releases the lock\n",
        "cdef int h(int x):\n",
        "  cdef int y = 0\n",
        "  cdef int i = 0\n",
        "  with nogil:\n",
        "    for i in range(x):\n",
        "      y += i\n",
        "  return y\n",
        "    \n",
        "def f1(double[:] x, double[:] out):\n",
        "  cdef int i, n = x.shape[0]\n",
        "  for i in range(n):\n",
        "    out[i] = log(x[i])\n",
        "\n",
        "def f2(double[:] x, double[:] out):\n",
        "  cdef int i, n = x.shape[0]\n",
        "  for i in prange(n, nogil=True):\n",
        "    out[i] = log(x[i])\n"
      ],
      "execution_count": null,
      "outputs": [
        {
          "output_type": "stream",
          "name": "stdout",
          "text": [
            "704982704\n"
          ]
        }
      ]
    },
    {
      "cell_type": "code",
      "source": [
        "import numpy as np\n",
        "# - setup data loading\n",
        "data = np.random.rand(10000000)\n",
        "out = np.zeros_like(data)\n",
        "\n",
        "print(\"f1 time complexity\")\n",
        "%timeit f1(data, out)\n",
        "print('\\n')\n",
        "\n",
        "print(\"numpy.log time complexity\")\n",
        "%timeit np.log(data, out)\n",
        "print('\\n')\n",
        "\n",
        "print(\"f2 time complexity\")\n",
        "%timeit f2(data, out)\n",
        "print('\\n')"
      ],
      "metadata": {
        "colab": {
          "base_uri": "https://localhost:8080/"
        },
        "id": "A-Unrd2Vq2K6",
        "outputId": "89ccf4ee-2e83-4cf8-9e64-224000eb20c8"
      },
      "execution_count": null,
      "outputs": [
        {
          "output_type": "stream",
          "name": "stdout",
          "text": [
            "f1 time complexity\n",
            "1 loop, best of 5: 358 ms per loop\n",
            "\n",
            "\n",
            "numpy.log time complexity\n",
            "1 loop, best of 5: 312 ms per loop\n",
            "\n",
            "\n",
            "f2 time complexity\n",
            "1 loop, best of 5: 245 ms per loop\n",
            "\n",
            "\n"
          ]
        }
      ]
    },
    {
      "cell_type": "code",
      "source": [
        "%%cython -f\n",
        "# distutils: extra_compile_args = -fopenmp\n",
        "# distutils: extra_link_args = -fopenmp\n",
        "# cython: boundscheck = False\n",
        "\n",
        "cimport openmp\n",
        "from cython.parallel import prange, parallel, threadid\n",
        "from libc.stdlib cimport malloc, realloc, free, abort\n",
        "from libc.math cimport log\n",
        "\n",
        "def f_single(double[:] x):\n",
        "  cdef int i, n = x.shape[0]\n",
        "  cdef double result = 0\n",
        "  for i in range(n):\n",
        "    if x[i] > 0.5:\n",
        "      result += log(x[i])\n",
        "    else:\n",
        "      result += 1.0\n",
        "  return result\n",
        "\n",
        "def f_parallel(double[:] x):\n",
        "  cdef int i, n = x.shape[0]\n",
        "  cdef double tmp, result = 0\n",
        "  for i in prange(n, nogil=True):\n",
        "    if x[i] > 0.5:\n",
        "      tmp = log(x[i])\n",
        "    else:\n",
        "      tmp = 1.0\n",
        "    result += tmp\n",
        "  return result\n"
      ],
      "metadata": {
        "id": "FHBUHp7Lq2H6"
      },
      "execution_count": null,
      "outputs": []
    },
    {
      "cell_type": "code",
      "source": [
        "import numpy as np\n",
        "data = np.random.rand(10000000)\n",
        "out = np.zeros_like(data)\n",
        "\n",
        "%timeit f_single(data)\n",
        "%timeit f_parallel(data)"
      ],
      "metadata": {
        "colab": {
          "base_uri": "https://localhost:8080/"
        },
        "id": "YUFU6RtSn-JQ",
        "outputId": "2257bbb5-d1a1-4d4b-c5bc-e5df349ccec5"
      },
      "execution_count": null,
      "outputs": [
        {
          "output_type": "stream",
          "name": "stdout",
          "text": [
            "1 loop, best of 5: 201 ms per loop\n",
            "10 loops, best of 5: 161 ms per loop\n"
          ]
        }
      ]
    },
    {
      "cell_type": "code",
      "source": [
        "358 / 201 "
      ],
      "metadata": {
        "colab": {
          "base_uri": "https://localhost:8080/"
        },
        "id": "Ch5nXKMFsi0I",
        "outputId": "818e5924-ba94-4411-8b1e-633061363286"
      },
      "execution_count": null,
      "outputs": [
        {
          "output_type": "execute_result",
          "data": {
            "text/plain": [
              "1.7810945273631842"
            ]
          },
          "metadata": {},
          "execution_count": 35
        }
      ]
    },
    {
      "cell_type": "code",
      "source": [
        "from concurrent.futures import ThreadPoolExecutor\n",
        "\n",
        "def run(f, x, num_threads=4):\n",
        "  \"\"\"\n",
        "  f: function with array parameter\n",
        "  x: an array\n",
        "  \"\"\"\n",
        "  with ThreadPoolExecutor(max_workers=num_threads) as pool:\n",
        "    # - sections are memory views(aka pointers) not copies!\n",
        "    sections = np.array_split(x, num_threads)\n",
        "    # - create a job for each section of the array\n",
        "    jobs = [pool.submit(f, s) for s in sections]\n",
        "  # - wait for each job to finish, return the results\n",
        "  return sum(j.result() for j in jobs)\n",
        "    "
      ],
      "metadata": {
        "id": "5qqFh614sijH"
      },
      "execution_count": null,
      "outputs": []
    },
    {
      "cell_type": "code",
      "source": [
        "%%cython -f\n",
        "# cython: boundscheck = False\n",
        "from libc.math cimport log\n",
        "from libc.stdio cimport *\n",
        "\n",
        "def f_single(double[:] x):\n",
        "  cdef int i, n = x.shape[0]\n",
        "  cdef double result = 0\n",
        "  for i in range(n):\n",
        "    if x[i] > 0.5:\n",
        "      result += log(x[i])\n",
        "    else:\n",
        "      result += 1.0\n",
        "  return result\n",
        "\n",
        "def f_parallel(double[:] x):\n",
        "  cdef int i, n = x.shape[0]\n",
        "  cdef double result = 0\n",
        "  with nogil:  # <--- this releases the gil!\n",
        "    for i in range(n):\n",
        "      if x[i] > 0.5:\n",
        "        result = log(x[i])\n",
        "      else:\n",
        "        result += 1.0\n",
        "  return result"
      ],
      "metadata": {
        "id": "mKGzkSMtsigV"
      },
      "execution_count": null,
      "outputs": []
    },
    {
      "cell_type": "code",
      "source": [
        "print('Direct Calls')\n",
        "%timeit f_single(data)\n",
        "%timeit f_parallel(data)\n",
        "print('\\n')\n",
        "print('using threads')\n",
        "%timeit run(f_single, data)\n",
        "%timeit run(f_parallel, data)"
      ],
      "metadata": {
        "colab": {
          "base_uri": "https://localhost:8080/"
        },
        "id": "AnVl8vyZsicm",
        "outputId": "fd4ce5ba-193b-48da-9c36-c5b207a7d9d9"
      },
      "execution_count": null,
      "outputs": [
        {
          "output_type": "stream",
          "name": "stdout",
          "text": [
            "Direct Calls\n",
            "1 loop, best of 5: 203 ms per loop\n",
            "1 loop, best of 5: 198 ms per loop\n",
            "\n",
            "\n",
            "using threads\n",
            "1 loop, best of 5: 204 ms per loop\n",
            "10 loops, best of 5: 149 ms per loop\n"
          ]
        }
      ]
    },
    {
      "cell_type": "code",
      "source": [
        "%%cython -f\n",
        "# distutils: extra_compile_args = -fopenmp\n",
        "# distutils: extra_link_args = -fopenmp\n",
        "# cython: boundscheck = False\n",
        "from libc.math cimport log\n",
        "from cython.parallel cimport prange\n",
        "\n",
        "def f_openmp(double[:] x):\n",
        "  cdef int i, n = x.shape[0]\n",
        "  cdef double tmp, result = 0\n",
        "  for i in prange(n, nogil=True):\n",
        "    if x[i] > 0.5:\n",
        "      tmp = log(x[i])\n",
        "    else:\n",
        "      tmp = 1.0\n",
        "    result += tmp\n",
        "  return result"
      ],
      "metadata": {
        "id": "eeNtwn8lsiZ9"
      },
      "execution_count": null,
      "outputs": []
    },
    {
      "cell_type": "code",
      "source": [
        "# - check results\n",
        "print(f_parallel(data))\n",
        "print(run(f_parallel, data))\n",
        "print(f_openmp(data))\n",
        "\n",
        "%timeit run(f_parallel, data)\n",
        "%timeit f_openmp(data)\n",
        "%timeit run(f_parallel, data, num_threads=8)"
      ],
      "metadata": {
        "colab": {
          "base_uri": "https://localhost:8080/"
        },
        "id": "KLhNFtQtsiXJ",
        "outputId": "260f2e83-594a-440b-d20b-2d30d72744b6"
      },
      "execution_count": null,
      "outputs": [
        {
          "output_type": "stream",
          "name": "stdout",
          "text": [
            "0.9058745367256471\n",
            "2.027412683905241\n",
            "3464268.9774599327\n",
            "10 loops, best of 5: 148 ms per loop\n",
            "10 loops, best of 5: 163 ms per loop\n",
            "10 loops, best of 5: 151 ms per loop\n"
          ]
        }
      ]
    },
    {
      "cell_type": "code",
      "source": [
        ""
      ],
      "metadata": {
        "id": "pUXyKWa9siUS"
      },
      "execution_count": null,
      "outputs": []
    },
    {
      "cell_type": "code",
      "source": [
        ""
      ],
      "metadata": {
        "id": "E-YNgqoEsiRA"
      },
      "execution_count": null,
      "outputs": []
    },
    {
      "cell_type": "code",
      "source": [
        ""
      ],
      "metadata": {
        "id": "e_dJwiGCsiOE"
      },
      "execution_count": null,
      "outputs": []
    },
    {
      "cell_type": "code",
      "source": [
        ""
      ],
      "metadata": {
        "id": "1A8NK_3LsiK7"
      },
      "execution_count": null,
      "outputs": []
    },
    {
      "cell_type": "code",
      "source": [
        ""
      ],
      "metadata": {
        "id": "F6zK6IuLUkHS"
      },
      "execution_count": null,
      "outputs": []
    },
    {
      "cell_type": "code",
      "source": [
        ""
      ],
      "metadata": {
        "id": "YMlkJI1yUkEX"
      },
      "execution_count": null,
      "outputs": []
    },
    {
      "cell_type": "code",
      "source": [
        ""
      ],
      "metadata": {
        "id": "AKK67lx2UkBe"
      },
      "execution_count": null,
      "outputs": []
    },
    {
      "cell_type": "code",
      "source": [
        ""
      ],
      "metadata": {
        "id": "oezXM5UqUj-w"
      },
      "execution_count": null,
      "outputs": []
    },
    {
      "cell_type": "code",
      "source": [
        ""
      ],
      "metadata": {
        "id": "y6-_LzxDUj7w"
      },
      "execution_count": null,
      "outputs": []
    },
    {
      "cell_type": "code",
      "source": [
        ""
      ],
      "metadata": {
        "id": "w7b6S4lEUj43"
      },
      "execution_count": null,
      "outputs": []
    },
    {
      "cell_type": "code",
      "source": [
        ""
      ],
      "metadata": {
        "id": "_u7sGiR2Uj1y"
      },
      "execution_count": null,
      "outputs": []
    },
    {
      "cell_type": "code",
      "source": [
        ""
      ],
      "metadata": {
        "id": "K_zdru9ULpNf"
      },
      "execution_count": null,
      "outputs": []
    },
    {
      "cell_type": "code",
      "source": [
        ""
      ],
      "metadata": {
        "id": "Iku7ft5dLpAK"
      },
      "execution_count": null,
      "outputs": []
    },
    {
      "cell_type": "code",
      "source": [
        ""
      ],
      "metadata": {
        "id": "FJ3oyDdRLopI"
      },
      "execution_count": null,
      "outputs": []
    }
  ]
}