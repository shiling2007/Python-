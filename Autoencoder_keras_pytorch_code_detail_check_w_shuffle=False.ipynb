{
  "nbformat": 4,
  "nbformat_minor": 0,
  "metadata": {
    "colab": {
      "name": "Autoencoder-keras-pytorch-code-detail-check-w-shuffle=False.ipynb",
      "provenance": [],
      "collapsed_sections": [],
      "authorship_tag": "ABX9TyNTv2T/WY+GHKk8kTy/7Znw",
      "include_colab_link": true
    },
    "kernelspec": {
      "display_name": "Python 3",
      "name": "python3"
    },
    "language_info": {
      "name": "python"
    }
  },
  "cells": [
    {
      "cell_type": "markdown",
      "metadata": {
        "id": "view-in-github",
        "colab_type": "text"
      },
      "source": [
        "<a href=\"https://colab.research.google.com/github/shiling2007/Python-/blob/main/Autoencoder_keras_pytorch_code_detail_check_w_shuffle%3DFalse.ipynb\" target=\"_parent\"><img src=\"https://colab.research.google.com/assets/colab-badge.svg\" alt=\"Open In Colab\"/></a>"
      ]
    },
    {
      "cell_type": "code",
      "metadata": {
        "colab": {
          "base_uri": "https://localhost:8080/",
          "height": 17
        },
        "id": "g7sSfY_7o-pn",
        "outputId": "1fc0af1f-282e-4226-8a93-502e254f99fa"
      },
      "source": [
        "# https://deeplizard.com/learn/video/lu7TCu7HeYc\n",
        "\n",
        "from IPython.core.display import display, HTML, Image\n",
        "display(HTML(\"<style>.container { width:100% !important; }</style>\"))\n",
        "# from IPython.core.interactiveshell import InteractiveShell\n",
        "# InteractiveShell.ast_node_interactivity = \"all\"\n",
        "# from google.colab import drive\n",
        "# drive.mount('/content/drive')\n",
        "# from google.colab import files\n",
        "# files.download('/content/drive/MyDrive/Colab Notebooks/Lease Payment Formula.ipynb') \n",
        "import matplotlib.pyplot as plt\n",
        "import numpy as np\n",
        "np.set_printoptions(edgeitems=30, linewidth=100000, \n",
        "    formatter=dict(float=lambda x: \"%.5g\" % x))\n",
        "import pandas as pd\n",
        "pd.set_option('display.max_rows', 10)\n",
        "pd.set_option('display.max_columns', 500)\n",
        "pd.set_option('display.width', 999)\n",
        "pd.set_option(\"max_colwidth\", 500)\n",
        "# try:\n",
        "#  device_name = os.environ['COLAB_TPU_ADDR']\n",
        "#  TPU_ADDRESS = 'grpc://' + device_name\n",
        "#  print('Found TPU at: {}'.format(TPU_ADDRESS))\n",
        "# except KeyError:\n",
        "#  print('TPU not found')\n",
        "%load_ext autoreload\n",
        "%autoreload 2"
      ],
      "execution_count": 1,
      "outputs": [
        {
          "output_type": "display_data",
          "data": {
            "text/html": [
              "<style>.container { width:100% !important; }</style>"
            ],
            "text/plain": [
              "<IPython.core.display.HTML object>"
            ]
          },
          "metadata": {}
        }
      ]
    },
    {
      "cell_type": "code",
      "source": [
        "##Keras model"
      ],
      "metadata": {
        "id": "2CCLB5cuLbvw"
      },
      "execution_count": 2,
      "outputs": []
    },
    {
      "cell_type": "code",
      "source": [
        "import keras\n",
        "import numpy as np\n",
        "import matplotlib.pyplot as plt\n",
        "%matplotlib inline\n",
        "\n",
        "from keras.datasets import mnist\n",
        "from keras.models import Model\n",
        "from keras.layers import Input, add\n",
        "from keras.layers import Layer, Dense, Dropout, Activation, Flatten, Reshape\n",
        "from keras import regularizers\n",
        "from keras.regularizers import l2\n",
        "from keras.layers.convolutional import Conv2D, MaxPooling2D, UpSampling2D, ZeroPadding2D\n",
        "from keras.utils import np_utils\n",
        "\n",
        "(X_train, _), (X_test, _) = mnist.load_data()\n",
        "\n",
        "X_train = X_train.reshape(X_train.shape[0], 28, 28, 1)\n",
        "X_test = X_test.reshape(X_test.shape[0], 28, 28, 1)\n",
        "\n",
        "X_train = X_train.astype(\"float32\")/255.\n",
        "X_test = X_test.astype(\"float32\")/255.\n",
        "\n",
        "print('X_train shape:', X_train.shape)\n",
        "print(X_train.shape[0], 'train samples')\n",
        "print(X_test.shape[0], 'test samples')\n",
        "\n",
        "X_train = X_train.reshape((len(X_train), np.prod(X_train.shape[1:])))\n",
        "X_test = X_test.reshape((len(X_test), np.prod(X_test.shape[1:])))\n",
        "test= X_test.reshape(10000*28*4,7)[:200,:]\n",
        "test_x= X_test.reshape(10000*28*4,7)[:200,:]"
      ],
      "metadata": {
        "colab": {
          "base_uri": "https://localhost:8080/"
        },
        "id": "IwIEy_8FKOkP",
        "outputId": "9defe2c5-3bae-4ff7-d2fa-273edd634220"
      },
      "execution_count": 3,
      "outputs": [
        {
          "output_type": "stream",
          "name": "stdout",
          "text": [
            "X_train shape: (60000, 28, 28, 1)\n",
            "60000 train samples\n",
            "10000 test samples\n"
          ]
        }
      ]
    },
    {
      "cell_type": "code",
      "source": [
        "test.shape, test_x.shape"
      ],
      "metadata": {
        "colab": {
          "base_uri": "https://localhost:8080/"
        },
        "id": "OS0wONi4X2UF",
        "outputId": "3152612c-667f-4d51-9660-e1b04df2c6ea"
      },
      "execution_count": 4,
      "outputs": [
        {
          "output_type": "execute_result",
          "data": {
            "text/plain": [
              "((200, 7), (200, 7))"
            ]
          },
          "metadata": {},
          "execution_count": 4
        }
      ]
    },
    {
      "cell_type": "code",
      "source": [
        "input_size = 7\n",
        "hidden_size = 2\n",
        "output_size = 7\n",
        "\n",
        "x = Input(shape=(input_size,))\n",
        "h = Dense(hidden_size, activation='relu')(x)\n",
        "r = Dense(output_size, activation='sigmoid')(h)\n",
        "\n",
        "autoencoder = Model(inputs=x, outputs=r)\n",
        "\n",
        "autoencoder.compile(optimizer=\"Adam\", loss='mse')\n",
        "autoencoder.summary()"
      ],
      "metadata": {
        "id": "Dvl0Br1EdA3y",
        "colab": {
          "base_uri": "https://localhost:8080/"
        },
        "outputId": "c4cc50a6-fdb8-4334-dbdf-a24d3bb0ba72"
      },
      "execution_count": 5,
      "outputs": [
        {
          "output_type": "stream",
          "name": "stdout",
          "text": [
            "Model: \"model\"\n",
            "_________________________________________________________________\n",
            " Layer (type)                Output Shape              Param #   \n",
            "=================================================================\n",
            " input_1 (InputLayer)        [(None, 7)]               0         \n",
            "                                                                 \n",
            " dense (Dense)               (None, 2)                 16        \n",
            "                                                                 \n",
            " dense_1 (Dense)             (None, 7)                 21        \n",
            "                                                                 \n",
            "=================================================================\n",
            "Total params: 37\n",
            "Trainable params: 37\n",
            "Non-trainable params: 0\n",
            "_________________________________________________________________\n"
          ]
        }
      ]
    },
    {
      "cell_type": "code",
      "source": [
        "initial_weights = autoencoder.get_weights()\n",
        "initial_weights"
      ],
      "metadata": {
        "colab": {
          "base_uri": "https://localhost:8080/"
        },
        "id": "9egX6bDZLL1p",
        "outputId": "5f06fac4-19f2-4517-9380-039116656d1e"
      },
      "execution_count": 6,
      "outputs": [
        {
          "output_type": "execute_result",
          "data": {
            "text/plain": [
              "[array([[0.1369, -0.16234],\n",
              "        [-0.29068, -0.54233],\n",
              "        [-0.80185, 0.31959],\n",
              "        [-0.14667, -0.41297],\n",
              "        [0.78419, -0.055459],\n",
              "        [-0.77239, 0.067517],\n",
              "        [0.28439, -0.22734]], dtype=float32),\n",
              " array([0, 0], dtype=float32),\n",
              " array([[0.23004, 0.11316, -0.13335, -0.078073, 0.043858, 0.74084, -0.77655],\n",
              "        [0.16993, -0.43666, -0.60856, 0.49987, 0.69798, 0.75596, -0.65672]], dtype=float32),\n",
              " array([0, 0, 0, 0, 0, 0, 0], dtype=float32)]"
            ]
          },
          "metadata": {},
          "execution_count": 6
        }
      ]
    },
    {
      "cell_type": "code",
      "source": [
        "autoencoder.set_weights(\n",
        "    [np.array([[0.3, 0.3],\n",
        "        [0.3, 0.3],\n",
        "        [0.3, 0.3],\n",
        "        [0.3, 0.3],\n",
        "        [0.3, 0.3],\n",
        "        [0.3, 0.3],\n",
        "        [0.3, 0.3]]),\n",
        " np.array([0.3, 0.3]),\n",
        " np.array([[0.3, 0.3, 0.3, 0.3, 0.3, 0.3, 0.3],\n",
        "        [0.3, 0.3, 0.3, 0.3, 0.3, 0.3, 0.3]]),\n",
        " np.array([0.3, 0.3, 0.3, 0.3, 0.3, 0.3, 0.3])]\n",
        ")"
      ],
      "metadata": {
        "id": "ejwz6WG2ekQV"
      },
      "execution_count": 7,
      "outputs": []
    },
    {
      "cell_type": "code",
      "source": [
        "initial_weights = autoencoder.get_weights()\n",
        "initial_weights"
      ],
      "metadata": {
        "colab": {
          "base_uri": "https://localhost:8080/"
        },
        "id": "PjeQhJknelwq",
        "outputId": "4959b41b-8931-4463-cb13-23b6d56458f0"
      },
      "execution_count": 8,
      "outputs": [
        {
          "output_type": "execute_result",
          "data": {
            "text/plain": [
              "[array([[0.3, 0.3],\n",
              "        [0.3, 0.3],\n",
              "        [0.3, 0.3],\n",
              "        [0.3, 0.3],\n",
              "        [0.3, 0.3],\n",
              "        [0.3, 0.3],\n",
              "        [0.3, 0.3]], dtype=float32),\n",
              " array([0.3, 0.3], dtype=float32),\n",
              " array([[0.3, 0.3, 0.3, 0.3, 0.3, 0.3, 0.3],\n",
              "        [0.3, 0.3, 0.3, 0.3, 0.3, 0.3, 0.3]], dtype=float32),\n",
              " array([0.3, 0.3, 0.3, 0.3, 0.3, 0.3, 0.3], dtype=float32)]"
            ]
          },
          "metadata": {},
          "execution_count": 8
        }
      ]
    },
    {
      "cell_type": "code",
      "source": [
        "epochs = 10\n",
        "batch_size = test.shape[0]\n",
        "# batch_size = int(test.shape[0]/2)\n",
        "batch_size = int(test.shape[0]/4)\n",
        "# batch_size = int(test.shape[0]/8)\n",
        "\n",
        "history = autoencoder.fit(test, test, batch_size=batch_size, epochs=epochs, verbose=1, validation_data=(test_x, test_x), shuffle=False)"
      ],
      "metadata": {
        "colab": {
          "base_uri": "https://localhost:8080/"
        },
        "id": "M43zZ1l8fUS5",
        "outputId": "1265ec95-80a9-4bb7-d045-a0292f5bd8e6"
      },
      "execution_count": 9,
      "outputs": [
        {
          "output_type": "stream",
          "name": "stdout",
          "text": [
            "Epoch 1/10\n",
            "4/4 [==============================] - 1s 58ms/step - loss: 0.3430 - val_loss: 0.3415\n",
            "Epoch 2/10\n",
            "4/4 [==============================] - 0s 17ms/step - loss: 0.3406 - val_loss: 0.3390\n",
            "Epoch 3/10\n",
            "4/4 [==============================] - 0s 18ms/step - loss: 0.3381 - val_loss: 0.3366\n",
            "Epoch 4/10\n",
            "4/4 [==============================] - 0s 16ms/step - loss: 0.3357 - val_loss: 0.3342\n",
            "Epoch 5/10\n",
            "4/4 [==============================] - 0s 16ms/step - loss: 0.3333 - val_loss: 0.3318\n",
            "Epoch 6/10\n",
            "4/4 [==============================] - 0s 16ms/step - loss: 0.3310 - val_loss: 0.3295\n",
            "Epoch 7/10\n",
            "4/4 [==============================] - 0s 11ms/step - loss: 0.3287 - val_loss: 0.3272\n",
            "Epoch 8/10\n",
            "4/4 [==============================] - 0s 17ms/step - loss: 0.3264 - val_loss: 0.3250\n",
            "Epoch 9/10\n",
            "4/4 [==============================] - 0s 11ms/step - loss: 0.3242 - val_loss: 0.3228\n",
            "Epoch 10/10\n",
            "4/4 [==============================] - 0s 12ms/step - loss: 0.3220 - val_loss: 0.3206\n"
          ]
        }
      ]
    },
    {
      "cell_type": "code",
      "source": [
        "import torch\n",
        "from torchvision import datasets\n",
        "import torchvision.transforms as transforms\n",
        "\n",
        "import torch.nn as nn\n",
        "import torch.nn.functional as F\n",
        "\n",
        "device = 'cuda' if torch.cuda.is_available() else 'cpu'\n",
        "print(device)"
      ],
      "metadata": {
        "colab": {
          "base_uri": "https://localhost:8080/"
        },
        "id": "OiyVPOnefUO_",
        "outputId": "b869907e-e78a-4906-a631-d332f597a876"
      },
      "execution_count": 10,
      "outputs": [
        {
          "output_type": "stream",
          "name": "stdout",
          "text": [
            "cpu\n"
          ]
        }
      ]
    },
    {
      "cell_type": "code",
      "source": [
        "# prepare data loaders\n",
        "train_loader = torch.utils.data.DataLoader(test, batch_size=batch_size, num_workers=1, shuffle=False)\n",
        "test_loader = torch.utils.data.DataLoader(test_x, batch_size=batch_size, num_workers=1, shuffle=False)"
      ],
      "metadata": {
        "id": "xRo2FRs4fUGE"
      },
      "execution_count": 11,
      "outputs": []
    },
    {
      "cell_type": "code",
      "source": [
        "# train_loader.dataset"
      ],
      "metadata": {
        "id": "ighOj5m1fUCX"
      },
      "execution_count": 12,
      "outputs": []
    },
    {
      "cell_type": "code",
      "source": [
        "# train_loader.batch_size"
      ],
      "metadata": {
        "id": "5ZTLIizJfTxk"
      },
      "execution_count": 13,
      "outputs": []
    },
    {
      "cell_type": "code",
      "source": [
        "# Model definition\n",
        "class FullyConnectedAutoencoder(nn.Module):\n",
        "    def __init__(self, input_dim, hidden_dim, output_dim):\n",
        "        super().__init__()\n",
        "        # Encoder: affine function\n",
        "        self.fc1 = nn.Linear(input_dim, hidden_dim)\n",
        "        # Decoder: affine function\n",
        "        self.fc2 = nn.Linear(hidden_dim, output_dim)\n",
        "\n",
        "    def forward(self, x):\n",
        "        # Encoder: affine function\n",
        "        out = self.fc1(x)\n",
        "        # Encoder: non-linear function\n",
        "        # out = F.leaky_relu(out)\n",
        "        out = F.relu(out)\n",
        "\n",
        "        # Decoder: affine function\n",
        "        out = self.fc2(out)\n",
        "        # Decoder: non-linear function\n",
        "        out = torch.sigmoid(out)\n",
        "\n",
        "        return out"
      ],
      "metadata": {
        "id": "3ICmsGqHpNRx"
      },
      "execution_count": 14,
      "outputs": []
    },
    {
      "cell_type": "code",
      "source": [
        "# Dimensions for overcomplete (larger latent representation)\n",
        "input_dim = 7\n",
        "hidden_dim = int(2)\n",
        "output_dim = 7\n",
        "\n",
        "# Instantiate Fully-connected Autoencoder (FC-AE)\n",
        "# And assign to model object\n",
        "model = FullyConnectedAutoencoder(input_dim, hidden_dim, output_dim)\n",
        "print(model)"
      ],
      "metadata": {
        "colab": {
          "base_uri": "https://localhost:8080/"
        },
        "id": "4zSG33B5pNOT",
        "outputId": "a3c19b7c-c19a-4167-8907-cea21d93ff79"
      },
      "execution_count": 15,
      "outputs": [
        {
          "output_type": "stream",
          "name": "stdout",
          "text": [
            "FullyConnectedAutoencoder(\n",
            "  (fc1): Linear(in_features=7, out_features=2, bias=True)\n",
            "  (fc2): Linear(in_features=2, out_features=7, bias=True)\n",
            ")\n"
          ]
        }
      ]
    },
    {
      "cell_type": "code",
      "source": [
        "criterion = nn.MSELoss()\n",
        "# Using basic Adam optimizer\n",
        "learning_rate = 1e-3\n",
        "optimizer = torch.optim.Adam(model.parameters(), lr=learning_rate)  "
      ],
      "metadata": {
        "id": "dxlKZLpRpM_1"
      },
      "execution_count": 16,
      "outputs": []
    },
    {
      "cell_type": "code",
      "source": [
        "num_epochs=epochs\n",
        "\n",
        "for p in model.parameters():\n",
        "  p.data.fill_(0.3)\n",
        "\n",
        "print(model.state_dict())"
      ],
      "metadata": {
        "colab": {
          "base_uri": "https://localhost:8080/"
        },
        "id": "l56_FoJWq7XL",
        "outputId": "57dfdaa4-2cc4-4b2b-af44-022f533211b2"
      },
      "execution_count": 17,
      "outputs": [
        {
          "output_type": "stream",
          "name": "stdout",
          "text": [
            "OrderedDict([('fc1.weight', tensor([[0.3000, 0.3000, 0.3000, 0.3000, 0.3000, 0.3000, 0.3000],\n",
            "        [0.3000, 0.3000, 0.3000, 0.3000, 0.3000, 0.3000, 0.3000]])), ('fc1.bias', tensor([0.3000, 0.3000])), ('fc2.weight', tensor([[0.3000, 0.3000],\n",
            "        [0.3000, 0.3000],\n",
            "        [0.3000, 0.3000],\n",
            "        [0.3000, 0.3000],\n",
            "        [0.3000, 0.3000],\n",
            "        [0.3000, 0.3000],\n",
            "        [0.3000, 0.3000]])), ('fc2.bias', tensor([0.3000, 0.3000, 0.3000, 0.3000, 0.3000, 0.3000, 0.3000]))])\n"
          ]
        }
      ]
    },
    {
      "cell_type": "code",
      "source": [
        "# dir(model)"
      ],
      "metadata": {
        "id": "Poo36l6xsngI"
      },
      "execution_count": 18,
      "outputs": []
    },
    {
      "cell_type": "code",
      "source": [
        "def make_train_step(model, loss_fn, optimizer):\n",
        "    # Builds function that performs a step in the train loop\n",
        "    def train_step(x, y):\n",
        "        # Sets model to TRAIN mode\n",
        "        model.train()\n",
        "        # Makes predictions\n",
        "        yhat = model(x)\n",
        "        # Computes loss\n",
        "        loss = loss_fn(y, yhat)\n",
        "        # Computes gradients\n",
        "        loss.backward()\n",
        "        # Updates parameters and zeroes gradients\n",
        "        optimizer.step()\n",
        "        optimizer.zero_grad()\n",
        "        # Returns the loss\n",
        "        return loss.item()\n",
        "\n",
        "    # Returns the function that will be called inside the train loop\n",
        "    return train_step\n",
        "\n",
        "# Creates the train_step function for our model, loss function and optimizer\n",
        "\n",
        "losses = []\n",
        "loss_fn = nn.MSELoss(reduction='mean')\n",
        "learning_rate = 1e-3\n",
        "optimizer = torch.optim.Adam(model.parameters(), lr=learning_rate) \n",
        "train_step = make_train_step(model, loss_fn, optimizer)"
      ],
      "metadata": {
        "id": "C-RAt4HvwOoR"
      },
      "execution_count": 19,
      "outputs": []
    },
    {
      "cell_type": "code",
      "source": [
        "# prepare data loaders\n",
        "# train_loader = torch.utils.data.DataLoader(test, batch_size=batch_size, num_workers=1)\n",
        "# test_loader = torch.utils.data.DataLoader(test_x, batch_size=batch_size, num_workers=1)"
      ],
      "metadata": {
        "id": "-d_LnPb_ztKQ"
      },
      "execution_count": 20,
      "outputs": []
    },
    {
      "cell_type": "code",
      "source": [
        "# Training loop\n",
        "for epoch in range(num_epochs):\n",
        "    # Uses loader to fetch one mini-batch for training\n",
        "    for x_batch in train_loader:\n",
        "\n",
        "        x_batch1 = x_batch.to('cpu')\n",
        "        x_batch2 = x_batch.to('cpu')\n",
        "        # One stpe of training\n",
        "        loss = train_step(x_batch1, x_batch2)\n",
        "        losses.append(loss)\n"
      ],
      "metadata": {
        "id": "VWuy2rtAuFio"
      },
      "execution_count": 21,
      "outputs": []
    },
    {
      "cell_type": "code",
      "source": [
        "print('pytorch model')\n",
        "print(model.state_dict())"
      ],
      "metadata": {
        "colab": {
          "base_uri": "https://localhost:8080/"
        },
        "id": "_HEm-xA1nM4U",
        "outputId": "b66bca60-1c5f-4edc-c69d-dba9483ae2f5"
      },
      "execution_count": 22,
      "outputs": [
        {
          "output_type": "stream",
          "name": "stdout",
          "text": [
            "pytorch model\n",
            "OrderedDict([('fc1.weight', tensor([[0.2616, 0.2657, 0.2656, 0.2659, 0.2660, 0.2631, 0.2625],\n",
            "        [0.2616, 0.2657, 0.2656, 0.2659, 0.2660, 0.2631, 0.2625]])), ('fc1.bias', tensor([0.2609, 0.2609])), ('fc2.weight', tensor([[0.2608, 0.2608],\n",
            "        [0.2613, 0.2613],\n",
            "        [0.2614, 0.2614],\n",
            "        [0.2611, 0.2611],\n",
            "        [0.2610, 0.2610],\n",
            "        [0.2610, 0.2610],\n",
            "        [0.2610, 0.2610]])), ('fc2.bias', tensor([0.2602, 0.2604, 0.2604, 0.2604, 0.2603, 0.2602, 0.2601]))])\n"
          ]
        }
      ]
    },
    {
      "cell_type": "code",
      "source": [
        "print('keras model')\n",
        "autoencoder.get_weights()"
      ],
      "metadata": {
        "colab": {
          "base_uri": "https://localhost:8080/"
        },
        "id": "nySuKcFJncso",
        "outputId": "8aa5c022-64d8-4f9a-b4b5-9dfa37721908"
      },
      "execution_count": 23,
      "outputs": [
        {
          "output_type": "stream",
          "name": "stdout",
          "text": [
            "keras model\n"
          ]
        },
        {
          "output_type": "execute_result",
          "data": {
            "text/plain": [
              "[array([[0.2616, 0.2616],\n",
              "        [0.26568, 0.26568],\n",
              "        [0.2656, 0.2656],\n",
              "        [0.26594, 0.26594],\n",
              "        [0.26597, 0.26597],\n",
              "        [0.26307, 0.26307],\n",
              "        [0.26251, 0.26251]], dtype=float32),\n",
              " array([0.26085, 0.26085], dtype=float32),\n",
              " array([[0.26083, 0.26132, 0.26143, 0.26114, 0.26105, 0.26096, 0.261],\n",
              "        [0.26083, 0.26132, 0.26143, 0.26114, 0.26105, 0.26096, 0.261]], dtype=float32),\n",
              " array([0.26015, 0.26044, 0.26042, 0.26038, 0.26034, 0.26023, 0.26015], dtype=float32)]"
            ]
          },
          "metadata": {},
          "execution_count": 23
        }
      ]
    },
    {
      "cell_type": "code",
      "source": [
        "# loss_avg=np.array(losses).reshape(num_epochs, int(test.shape[0]/batch_size)).mean(axis=1)\n",
        "# loss_avg\n",
        "# history.history.get('loss')"
      ],
      "metadata": {
        "id": "5c7-8kz7-f8z"
      },
      "execution_count": 24,
      "outputs": []
    },
    {
      "cell_type": "code",
      "source": [
        "loss_avg=np.array(losses).reshape(num_epochs, int(test.shape[0]/batch_size)).mean(axis=1)\n",
        "df_loss=pd.DataFrame(np.c_[history.history.get('loss'), loss_avg], columns=['keras_loss','pytorch_loss'])\n",
        "df_loss"
      ],
      "metadata": {
        "colab": {
          "base_uri": "https://localhost:8080/",
          "height": 363
        },
        "id": "HCH5lCE_4GUb",
        "outputId": "33327d06-bc13-4b28-fdd4-f417d4cc8262"
      },
      "execution_count": 25,
      "outputs": [
        {
          "output_type": "execute_result",
          "data": {
            "text/html": [
              "\n",
              "  <div id=\"df-5e889e6b-36ad-48c4-a00a-18e15dd06bcd\">\n",
              "    <div class=\"colab-df-container\">\n",
              "      <div>\n",
              "<style scoped>\n",
              "    .dataframe tbody tr th:only-of-type {\n",
              "        vertical-align: middle;\n",
              "    }\n",
              "\n",
              "    .dataframe tbody tr th {\n",
              "        vertical-align: top;\n",
              "    }\n",
              "\n",
              "    .dataframe thead th {\n",
              "        text-align: right;\n",
              "    }\n",
              "</style>\n",
              "<table border=\"1\" class=\"dataframe\">\n",
              "  <thead>\n",
              "    <tr style=\"text-align: right;\">\n",
              "      <th></th>\n",
              "      <th>keras_loss</th>\n",
              "      <th>pytorch_loss</th>\n",
              "    </tr>\n",
              "  </thead>\n",
              "  <tbody>\n",
              "    <tr>\n",
              "      <th>0</th>\n",
              "      <td>0.343034</td>\n",
              "      <td>0.343034</td>\n",
              "    </tr>\n",
              "    <tr>\n",
              "      <th>1</th>\n",
              "      <td>0.340556</td>\n",
              "      <td>0.340556</td>\n",
              "    </tr>\n",
              "    <tr>\n",
              "      <th>2</th>\n",
              "      <td>0.338111</td>\n",
              "      <td>0.338111</td>\n",
              "    </tr>\n",
              "    <tr>\n",
              "      <th>3</th>\n",
              "      <td>0.335699</td>\n",
              "      <td>0.335698</td>\n",
              "    </tr>\n",
              "    <tr>\n",
              "      <th>4</th>\n",
              "      <td>0.333321</td>\n",
              "      <td>0.333320</td>\n",
              "    </tr>\n",
              "    <tr>\n",
              "      <th>5</th>\n",
              "      <td>0.330979</td>\n",
              "      <td>0.330978</td>\n",
              "    </tr>\n",
              "    <tr>\n",
              "      <th>6</th>\n",
              "      <td>0.328674</td>\n",
              "      <td>0.328673</td>\n",
              "    </tr>\n",
              "    <tr>\n",
              "      <th>7</th>\n",
              "      <td>0.326408</td>\n",
              "      <td>0.326407</td>\n",
              "    </tr>\n",
              "    <tr>\n",
              "      <th>8</th>\n",
              "      <td>0.324180</td>\n",
              "      <td>0.324179</td>\n",
              "    </tr>\n",
              "    <tr>\n",
              "      <th>9</th>\n",
              "      <td>0.321992</td>\n",
              "      <td>0.321991</td>\n",
              "    </tr>\n",
              "  </tbody>\n",
              "</table>\n",
              "</div>\n",
              "      <button class=\"colab-df-convert\" onclick=\"convertToInteractive('df-5e889e6b-36ad-48c4-a00a-18e15dd06bcd')\"\n",
              "              title=\"Convert this dataframe to an interactive table.\"\n",
              "              style=\"display:none;\">\n",
              "        \n",
              "  <svg xmlns=\"http://www.w3.org/2000/svg\" height=\"24px\"viewBox=\"0 0 24 24\"\n",
              "       width=\"24px\">\n",
              "    <path d=\"M0 0h24v24H0V0z\" fill=\"none\"/>\n",
              "    <path d=\"M18.56 5.44l.94 2.06.94-2.06 2.06-.94-2.06-.94-.94-2.06-.94 2.06-2.06.94zm-11 1L8.5 8.5l.94-2.06 2.06-.94-2.06-.94L8.5 2.5l-.94 2.06-2.06.94zm10 10l.94 2.06.94-2.06 2.06-.94-2.06-.94-.94-2.06-.94 2.06-2.06.94z\"/><path d=\"M17.41 7.96l-1.37-1.37c-.4-.4-.92-.59-1.43-.59-.52 0-1.04.2-1.43.59L10.3 9.45l-7.72 7.72c-.78.78-.78 2.05 0 2.83L4 21.41c.39.39.9.59 1.41.59.51 0 1.02-.2 1.41-.59l7.78-7.78 2.81-2.81c.8-.78.8-2.07 0-2.86zM5.41 20L4 18.59l7.72-7.72 1.47 1.35L5.41 20z\"/>\n",
              "  </svg>\n",
              "      </button>\n",
              "      \n",
              "  <style>\n",
              "    .colab-df-container {\n",
              "      display:flex;\n",
              "      flex-wrap:wrap;\n",
              "      gap: 12px;\n",
              "    }\n",
              "\n",
              "    .colab-df-convert {\n",
              "      background-color: #E8F0FE;\n",
              "      border: none;\n",
              "      border-radius: 50%;\n",
              "      cursor: pointer;\n",
              "      display: none;\n",
              "      fill: #1967D2;\n",
              "      height: 32px;\n",
              "      padding: 0 0 0 0;\n",
              "      width: 32px;\n",
              "    }\n",
              "\n",
              "    .colab-df-convert:hover {\n",
              "      background-color: #E2EBFA;\n",
              "      box-shadow: 0px 1px 2px rgba(60, 64, 67, 0.3), 0px 1px 3px 1px rgba(60, 64, 67, 0.15);\n",
              "      fill: #174EA6;\n",
              "    }\n",
              "\n",
              "    [theme=dark] .colab-df-convert {\n",
              "      background-color: #3B4455;\n",
              "      fill: #D2E3FC;\n",
              "    }\n",
              "\n",
              "    [theme=dark] .colab-df-convert:hover {\n",
              "      background-color: #434B5C;\n",
              "      box-shadow: 0px 1px 3px 1px rgba(0, 0, 0, 0.15);\n",
              "      filter: drop-shadow(0px 1px 2px rgba(0, 0, 0, 0.3));\n",
              "      fill: #FFFFFF;\n",
              "    }\n",
              "  </style>\n",
              "\n",
              "      <script>\n",
              "        const buttonEl =\n",
              "          document.querySelector('#df-5e889e6b-36ad-48c4-a00a-18e15dd06bcd button.colab-df-convert');\n",
              "        buttonEl.style.display =\n",
              "          google.colab.kernel.accessAllowed ? 'block' : 'none';\n",
              "\n",
              "        async function convertToInteractive(key) {\n",
              "          const element = document.querySelector('#df-5e889e6b-36ad-48c4-a00a-18e15dd06bcd');\n",
              "          const dataTable =\n",
              "            await google.colab.kernel.invokeFunction('convertToInteractive',\n",
              "                                                     [key], {});\n",
              "          if (!dataTable) return;\n",
              "\n",
              "          const docLinkHtml = 'Like what you see? Visit the ' +\n",
              "            '<a target=\"_blank\" href=https://colab.research.google.com/notebooks/data_table.ipynb>data table notebook</a>'\n",
              "            + ' to learn more about interactive tables.';\n",
              "          element.innerHTML = '';\n",
              "          dataTable['output_type'] = 'display_data';\n",
              "          await google.colab.output.renderOutput(dataTable, element);\n",
              "          const docLink = document.createElement('div');\n",
              "          docLink.innerHTML = docLinkHtml;\n",
              "          element.appendChild(docLink);\n",
              "        }\n",
              "      </script>\n",
              "    </div>\n",
              "  </div>\n",
              "  "
            ],
            "text/plain": [
              "   keras_loss  pytorch_loss\n",
              "0    0.343034      0.343034\n",
              "1    0.340556      0.340556\n",
              "2    0.338111      0.338111\n",
              "3    0.335699      0.335698\n",
              "4    0.333321      0.333320\n",
              "5    0.330979      0.330978\n",
              "6    0.328674      0.328673\n",
              "7    0.326408      0.326407\n",
              "8    0.324180      0.324179\n",
              "9    0.321992      0.321991"
            ]
          },
          "metadata": {},
          "execution_count": 25
        }
      ]
    },
    {
      "cell_type": "code",
      "source": [
        "P=df_loss.plot()\n",
        "P.set_facecolor('grey') \n",
        "plt.grid()"
      ],
      "metadata": {
        "colab": {
          "base_uri": "https://localhost:8080/",
          "height": 265
        },
        "id": "UEwDc6e26Rcr",
        "outputId": "9a1b7ce7-62dc-41e1-e881-1ac08aecec17"
      },
      "execution_count": 26,
      "outputs": [
        {
          "output_type": "display_data",
          "data": {
            "image/png": "[encoded data removed]",
            "text/plain": [
              "<Figure size 432x288 with 1 Axes>"
            ]
          },
          "metadata": {
            "needs_background": "light"
          }
        }
      ]
    },
    {
      "cell_type": "code",
      "source": [
        ""
      ],
      "metadata": {
        "id": "5xmq2hlf-HyX"
      },
      "execution_count": 26,
      "outputs": []
    },
    {
      "cell_type": "code",
      "source": [
        ""
      ],
      "metadata": {
        "id": "SHqk-_72-HmD"
      },
      "execution_count": 26,
      "outputs": []
    },
    {
      "cell_type": "code",
      "source": [
        "# for i in range(len(initial_weights)):\n",
        "#     # print(initial_weights[i].shape)\n",
        "#     print(i, '\\t', initial_weights[i])"
      ],
      "metadata": {
        "id": "2IDYplgSLpQQ"
      },
      "execution_count": 27,
      "outputs": []
    },
    {
      "cell_type": "code",
      "source": [
        "# import tensorflow\n",
        "# model_cloned = tensorflow.keras.models.clone_model(autoencoder)\n",
        "# print(\"Original weights\", initial_weights[0])\n",
        "# print(\"========================================================\")\n",
        "# print(\"========================================================\")\n",
        "# print(\"========================================================\")\n",
        "# # model_cloned = tensorflow.keras.models.clone_model(model_base)\n",
        "# new_weights = model_cloned.get_weights()\n",
        "# print(\"New weights\", new_weights[0])"
      ],
      "metadata": {
        "id": "9zqpWvevRCzV"
      },
      "execution_count": 28,
      "outputs": []
    },
    {
      "cell_type": "code",
      "source": [
        "# for ix, layer in enumerate(autoencoder.layers):\n",
        "#     if hasattr(autoencoder.layers[ix], 'kernel_initializer') and \\\n",
        "#             hasattr(autoencoder.layers[ix], 'bias_initializer'):\n",
        "#         weight_initializer = autoencoder.layers[ix].kernel_initializer\n",
        "#         bias_initializer = autoencoder.layers[ix].bias_initializer\n",
        "\n",
        "#         old_weights, old_biases = autoencoder.layers[ix].get_weights()\n",
        "\n",
        "#         autoencoder.layers[ix].set_weights([\n",
        "#             weight_initializer(shape=old_weights.shape),\n",
        "#             bias_initializer(shape=old_biases.shape)]) \n"
      ],
      "metadata": {
        "id": "JOS6fvANLLyq"
      },
      "execution_count": 29,
      "outputs": []
    }
  ]
}