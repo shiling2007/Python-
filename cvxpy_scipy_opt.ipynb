{
  "nbformat": 4,
  "nbformat_minor": 0,
  "metadata": {
    "colab": {
      "name": "cvxpy-scipy-opt.ipynb",
      "provenance": [],
      "collapsed_sections": [],
      "authorship_tag": "ABX9TyPdITth8i++TJz+KPz5DaNF",
      "include_colab_link": true
    },
    "kernelspec": {
      "display_name": "Python 3",
      "name": "python3"
    },
    "language_info": {
      "name": "python"
    }
  },
  "cells": [
    {
      "cell_type": "markdown",
      "metadata": {
        "id": "view-in-github",
        "colab_type": "text"
      },
      "source": [
        "<a href=\"https://colab.research.google.com/github/shiling2007/Python-/blob/main/cvxpy_scipy_opt.ipynb\" target=\"_parent\"><img src=\"https://colab.research.google.com/assets/colab-badge.svg\" alt=\"Open In Colab\"/></a>"
      ]
    },
    {
      "cell_type": "code",
      "metadata": {
        "colab": {
          "base_uri": "https://localhost:8080/",
          "height": 17
        },
        "id": "g7sSfY_7o-pn",
        "outputId": "f5b64394-b31f-42f2-832b-a3b61a7138da"
      },
      "source": [
        "# https://machinelearningmastery.com/function-optimization-with-scipy/\n",
        "\n",
        "from IPython.core.display import display, HTML, Image\n",
        "display(HTML(\"<style>.container { width:100% !important; }</style>\"))\n",
        "# from IPython.core.interactiveshell import InteractiveShell\n",
        "# InteractiveShell.ast_node_interactivity = \"all\"\n",
        "# from google.colab import drive\n",
        "# drive.mount('/content/drive')\n",
        "# from google.colab import files\n",
        "# files.download('/content/drive/MyDrive/Colab Notebooks/Lease Payment Formula.ipynb') \n",
        "import matplotlib.pyplot as plt\n",
        "import numpy as np\n",
        "np.set_printoptions(edgeitems=30, linewidth=100000, \n",
        "    formatter=dict(float=lambda x: \"%.5g\" % x))\n",
        "import pandas as pd\n",
        "pd.set_option('display.max_rows', 10)\n",
        "pd.set_option('display.max_columns', 500)\n",
        "pd.set_option('display.width', 999)\n",
        "pd.set_option(\"max_colwidth\", 500)\n",
        "# try:\n",
        "#  device_name = os.environ['COLAB_TPU_ADDR']\n",
        "#  TPU_ADDRESS = 'grpc://' + device_name\n",
        "#  print('Found TPU at: {}'.format(TPU_ADDRESS))\n",
        "# except KeyError:\n",
        "#  print('TPU not found')\n",
        "%load_ext autoreload\n",
        "%autoreload 2"
      ],
      "execution_count": 1,
      "outputs": [
        {
          "output_type": "display_data",
          "data": {
            "text/plain": [
              "<IPython.core.display.HTML object>"
            ],
            "text/html": [
              "<style>.container { width:100% !important; }</style>"
            ]
          },
          "metadata": {}
        }
      ]
    },
    {
      "cell_type": "code",
      "source": [
        "# Generate data for control problem.\n",
        "import numpy as np\n",
        "np.set_printoptions(edgeitems=30, linewidth=100000, \n",
        "    formatter=dict(float=lambda x: \"%.5g\" % x))\n",
        "np.random.seed(2)\n",
        "n = 2\n",
        "m = 1\n",
        "T = 30\n",
        "\n",
        "# A = np.eye(n) + np.random.randn(n,n)\n",
        "A = np.array([[1, 0.1],[0,1]])\n",
        "B = np.random.randn(n,m)\n",
        "x_0 = np.random.randn(n)\n",
        "x_T = np.random.randn(n)\n",
        "\n",
        "# Form and solve control problem.\n",
        "import cvxpy as cp\n",
        "\n",
        "x = cp.Variable((n, T+1))\n",
        "u = cp.Variable((m, T))\n",
        "umin=0.5\n",
        "umax=1\n",
        "cost = 0\n",
        "constr = []\n",
        "for t in range(T):\n",
        "    cost += cp.sum_squares(x[:,t+1]) + cp.sum_squares(u[:,t])\n",
        "    constr += [x[:,t+1] == A@x[:,t] + B@u[:,t]]\n",
        "# sums problem objectives and concatenates constraints.\n",
        "constr += [ x[:,0] == x_0]\n",
        "constr += [ u<=umax ]\n",
        "constr += [ u>=umin]\n",
        "\n",
        "\n",
        "problem = cp.Problem(cp.Minimize(cost), constr)\n",
        "%time problem.solve(solver=cp.ECOS)\n",
        "print(x.value)\n",
        "print(u.value)\n",
        "print(cost.value)"
      ],
      "metadata": {
        "colab": {
          "base_uri": "https://localhost:8080/"
        },
        "id": "tCx_ikI_2wGo",
        "outputId": "e3943e9e-0083-4350-8740-52069e257393"
      },
      "execution_count": 2,
      "outputs": [
        {
          "output_type": "stream",
          "name": "stdout",
          "text": [
            "CPU times: user 387 ms, sys: 11.4 ms, total: 399 ms\n",
            "Wall time: 529 ms\n",
            "[[-2.1362 -2.1805 -2.2277 -2.2777 -2.3305 -2.3861 -2.4445 -2.5057 -2.5698 -2.6366 -2.7063 -2.7788 -2.8541 -2.9322 -3.0131 -3.0969 -3.1834 -3.2728 -3.365 -3.46 -3.5578 -3.6584 -3.7618 -3.8681 -3.9771 -4.089 -4.2037 -4.3212 -4.4415 -4.5646 -4.6906]\n",
            " [1.6403 1.6121 1.584 1.5559 1.5277 1.4996 1.4715 1.4433 1.4152 1.3871 1.3589 1.3308 1.3027 1.2745 1.2464 1.2183 1.1901 1.162 1.1339 1.1057 1.0776 1.0495 1.0213 0.9932 0.96507 0.93694 0.9088 0.88067 0.85254 0.8244 0.79627]]\n",
            "[[0.5 0.5 0.5 0.5 0.5 0.5 0.5 0.5 0.5 0.5 0.5 0.5 0.5 0.5 0.5 0.5 0.5 0.5 0.5 0.5 0.5 0.5 0.5 0.5 0.5 0.5 0.5 0.5 0.5 0.5]]\n",
            "385.8203997743301\n"
          ]
        }
      ]
    },
    {
      "cell_type": "code",
      "source": [
        "#use functions\n",
        "from scipy.optimize import minimize\n",
        "# from numba import jit, float64, int64\n",
        "# @jit(float64(float64[:], int64), nopython=True, parallel=True)\n",
        "def dynamics(X, A, B, U, x_0):\n",
        "  X[:,0]=x_0\n",
        "  for t in range(T):\n",
        "    X[:,t+1]=A@X[:,t]+B@U[:,t]\n",
        "  # X[:,1:(T+1)]=A@X[:,0:T]+B@U[:,0:T]\n",
        "  return X\n",
        "\n",
        "def cost(x, *args):\n",
        "    A, B, T, x_0, x_size, x_shape, u_shape = args\n",
        "    X = x[:x_size].reshape(x_shape)\n",
        "    U = x[x_size:].reshape(u_shape)\n",
        "    \n",
        "    X=dynamics(X, A, B, U, x_0)\n",
        "\n",
        "    return np.sum(X[:,1:]*X[:,1:])+np.sum(U[:]*U[:])\n",
        "\n",
        "x0 = np.zeros(shape=(n*(T+1)+m*T))\n",
        "\n",
        "bnds=[]\n",
        "for i in range(n*(T+1)+m*T):\n",
        "  if i<n*(T+1):\n",
        "    bnds.append((-np.inf, +np.inf))\n",
        "  else:\n",
        "    bnds.append((0.5, 1))\n",
        "\n",
        "out = minimize(cost, x0, args=(A, B , T, x_0, n*(T+1), (n,T+1),  (m,T)), bounds=bnds, method='slsqp',  options={'maxiter': 100, 'ftol': 1e-6, 'iprint': 1, 'disp': False,})\n",
        "out.fun"
      ],
      "metadata": {
        "colab": {
          "base_uri": "https://localhost:8080/"
        },
        "id": "hIHL1tf72wAu",
        "outputId": "bbe88c0d-d1b8-4947-9499-0c355264fc64"
      },
      "execution_count": 3,
      "outputs": [
        {
          "output_type": "execute_result",
          "data": {
            "text/plain": [
              "385.8204032951738"
            ]
          },
          "metadata": {},
          "execution_count": 3
        }
      ]
    },
    {
      "cell_type": "code",
      "source": [
        "%timeit out = minimize(cost, x0, args=(A, B , T, x_0, n*(T+1), (n,T+1),  (m,T)), bounds=bnds, method='slsqp',  options={'maxiter': 100, 'ftol': 1e-6, 'iprint': 1, 'disp': False,})"
      ],
      "metadata": {
        "colab": {
          "base_uri": "https://localhost:8080/"
        },
        "id": "NyM3EoRuPMaK",
        "outputId": "1c62f137-da02-4666-9ce0-58efbb900771"
      },
      "execution_count": 4,
      "outputs": [
        {
          "output_type": "stream",
          "name": "stdout",
          "text": [
            "10 loops, best of 5: 37.9 ms per loop\n"
          ]
        }
      ]
    },
    {
      "cell_type": "code",
      "source": [
        "##use class\n",
        "class opt_test():\n",
        "\n",
        "    def __init__(self, *args):\n",
        "\n",
        "        self.A, self.B, self.T, self.x_0, self.x_size, self.x_shape, self.u_shape = args  # state matrix \n",
        "\n",
        "        # self.Q = np.eye(2)\n",
        "        # self.R = np.eye(1)\n",
        "\n",
        "\n",
        "    def dynamics(self, x):\n",
        "        X = x[:self.x_size].reshape(self.x_shape)\n",
        "        U = x[self.x_size:].reshape(self.u_shape) \n",
        "        X[:,0]=self.x_0\n",
        "        for t in range(self.T):\n",
        "          X[:,t+1]=self.A@X[:,t]+self.B@U[:,t]\n",
        "        return X\n",
        "        \n",
        "\n",
        "    def cost(self, x):\n",
        "        X = x[:self.x_size].reshape(self.x_shape)\n",
        "        U = x[self.x_size:].reshape(self.u_shape) \n",
        "    \n",
        "        X=self.dynamics(x)\n",
        "\n",
        "        return np.sum(X[:,1:]*X[:,1:])+np.sum(U[:]*U[:])\n",
        "        \n",
        "    def bd(self):\n",
        "        bnds=[]\n",
        "        for i in range(self.x_size+ self.B.shape[-1]*self.T):\n",
        "          if i<self.x_size:\n",
        "            bnds.append((-np.inf, +np.inf))\n",
        "          else:\n",
        "            bnds.append((0.5, 1))\n",
        "        return bnds\n",
        "\n",
        "    def opt(self, x0):\n",
        "\n",
        "        res = minimize(self.cost, x0,  method='SLSQP',  bounds=self.bd(),\n",
        "                         options={'maxiter': 200, 'disp': False})\n",
        "        return res\n"
      ],
      "metadata": {
        "id": "rNyCYYVdv0G2"
      },
      "execution_count": 5,
      "outputs": []
    },
    {
      "cell_type": "code",
      "source": [
        "x0 = np.zeros(shape=(n*(T+1)+m*T))\n",
        "opt=opt_test(A, B , T, x_0, n*(T+1), (n,T+1),  (m,T))\n",
        "res=opt.opt(x0)"
      ],
      "metadata": {
        "id": "_1Lx5fMmaDLj"
      },
      "execution_count": 6,
      "outputs": []
    },
    {
      "cell_type": "code",
      "source": [
        "res"
      ],
      "metadata": {
        "colab": {
          "base_uri": "https://localhost:8080/"
        },
        "id": "naOw1VrJafMd",
        "outputId": "093b9e03-d34a-42ba-b631-298e7ba0f451"
      },
      "execution_count": 7,
      "outputs": [
        {
          "output_type": "execute_result",
          "data": {
            "text/plain": [
              "     fun: 385.8204032951738\n",
              "     jac: array([0, 0, 0, 0, 0, 0, 0, 0, 0, 0, 0, 0, 0, 0, 0, 0, 0, 0, 0, 0, 0, 0, 0, 0, 0, 0, 0, 0, 0, 0, 0, 0, 0, 0, 0, 0, 0, 0, 0, 0, 0, 0, 0, 0, 0, 0, 0, 0, 0, 0, 0, 0, 0, 0, 0, 0, 0, 0, 0, 0, 0, 0, 96.157, 93.45, 90.725, 87.981, 85.217, 82.429, 79.618, 76.78, 73.915, 71.02, 68.095, 65.137, 62.146, 59.119, 56.055, 52.954, 49.813, 46.631, 43.407, 40.14, 36.828, 33.47, 30.065, 26.611, 23.109, 19.556, 15.952, 12.295, 8.5847, 4.82])\n",
              " message: 'Optimization terminated successfully.'\n",
              "    nfev: 94\n",
              "     nit: 1\n",
              "    njev: 1\n",
              "  status: 0\n",
              " success: True\n",
              "       x: array([-2.1362, -2.1805, -2.2277, -2.2777, -2.3305, -2.3861, -2.4445, -2.5057, -2.5698, -2.6366, -2.7063, -2.7788, -2.8541, -2.9322, -3.0131, -3.0969, -3.1834, -3.2728, -3.365, -3.46, -3.5578, -3.6584, -3.7618, -3.8681, -3.9771, -4.089, -4.2037, -4.3212, -4.4415, -4.5646, -4.6906, 1.6403, 1.6121, 1.584, 1.5559, 1.5277, 1.4996, 1.4715, 1.4433, 1.4152, 1.3871, 1.3589, 1.3308, 1.3027, 1.2745, 1.2464, 1.2183, 1.1901, 1.162, 1.1339, 1.1057, 1.0776, 1.0495, 1.0213, 0.9932, 0.96507, 0.93694, 0.9088, 0.88067, 0.85254, 0.8244, 0.79627, 0.5, 0.5, 0.5, 0.5, 0.5, 0.5, 0.5, 0.5, 0.5, 0.5, 0.5, 0.5, 0.5, 0.5, 0.5, 0.5, 0.5, 0.5, 0.5, 0.5, 0.5, 0.5, 0.5, 0.5, 0.5, 0.5, 0.5, 0.5, 0.5, 0.5])"
            ]
          },
          "metadata": {},
          "execution_count": 7
        }
      ]
    },
    {
      "cell_type": "code",
      "source": [
        "%timeit res=opt.opt(x0)"
      ],
      "metadata": {
        "colab": {
          "base_uri": "https://localhost:8080/"
        },
        "id": "26WGhsqAaYJJ",
        "outputId": "dc87aba7-eff8-409b-8565-132e4c739b6a"
      },
      "execution_count": 8,
      "outputs": [
        {
          "output_type": "stream",
          "name": "stdout",
          "text": [
            "10 loops, best of 5: 47.6 ms per loop\n"
          ]
        }
      ]
    },
    {
      "cell_type": "code",
      "source": [
        "# x0 = np.zeros(shape=(n*(T+1)+m*T))\n",
        "# xlist=[x_0]\n",
        "# for i in range(1000):\n",
        "#   opt=opt_test(A, B , T, x_0, n*(T+1), (n,T+1),  (m,T))\n",
        "#   %timeit res = opt.opt(x0)\n",
        "#   break\n",
        "#   x_0=res.x[0:n*(T+1)].reshape(n,T+1)[:,1]\n",
        "#   xlist.append(x_0)"
      ],
      "metadata": {
        "id": "QLuKBdbu5R5o"
      },
      "execution_count": 9,
      "outputs": []
    },
    {
      "cell_type": "code",
      "source": [
        "##use class and dynamics constraints , need to work on more general cases for constraints of auto generation\n",
        "class opt_test():\n",
        "\n",
        "    def __init__(self, *args):\n",
        "\n",
        "        self.A, self.B, self.T, self.x_0, self.x_size, self.x_shape, self.u_shape = args  # state matrix \n",
        "\n",
        "        # self.Q = np.eye(2)\n",
        "        # self.R = np.eye(1)\n",
        "\n",
        "\n",
        "    def dynamics(self, x):\n",
        "        X = x[:self.x_size].reshape(self.x_shape)\n",
        "        U = x[self.x_size:].reshape(self.u_shape) \n",
        "        X[:,0]=self.x_0\n",
        "        for t in range(self.T):\n",
        "          X[:,t+1]=self.A@X[:,t]+self.B@U[:,t]\n",
        "        return X\n",
        "        \n",
        "\n",
        "    def cost(self, x):\n",
        "        X = x[:self.x_size].reshape(self.x_shape)\n",
        "        U = x[self.x_size:].reshape(self.u_shape) \n",
        "    \n",
        "        X=self.dynamics(x)\n",
        "\n",
        "        return np.sum(X[:,1:]*X[:,1:])+np.sum(U[:]*U[:])\n",
        "        # return np.sum(x[(self.T+1):self.x_size]*x[(self.T+1):self.x_size])+np.sum(x[self.x_size:]*x[self.x_size:])\n",
        "        \n",
        "    def bd(self):\n",
        "        bnds=[]\n",
        "        for i in range(self.x_size+ self.B.shape[-1]*self.T):\n",
        "          if i<self.x_size:\n",
        "            bnds.append((-np.inf, +np.inf))\n",
        "          else:\n",
        "            bnds.append((0.5, 1))\n",
        "        return bnds\n",
        "\n",
        "    def constrain_list(self, x):\n",
        "        constrain_list=[]\n",
        "    \n",
        "        for t in range(self.T):\n",
        "\n",
        "          constrain_list.append( { 'type':'eq', 'fun': lambda x:  (x[t+1],x[t+1+(self.T+1)])-(A@(x[t],x[t+(self.T+1)]) + B@(x[2*(self.T+1)+t].reshape(1)))} )\n",
        "    \n",
        "        return constrain_list\n",
        "\n",
        "    def opt(self, x0):\n",
        "\n",
        "        res = minimize(self.cost, x0,  method='SLSQP',   bounds=self.bd(),\n",
        "                       constraints = self.constrain_list(x),\n",
        "                         options={'maxiter': 200, 'disp': False})\n",
        "        return res\n",
        "# ({ 'type':'eq', 'fun': lambda x:  (x[0+1],x[0+1+(T+1)])-(A@(x[0],x[0+(T+1)]) + B@(x[n*(T+1)+0].reshape(1)))},\n",
        "#                                       { 'type':'eq', 'fun': lambda x:  (x[1+1],x[1+1+(T+1)])-(A@(x[1],x[1+(T+1)]) + B@(x[n*(T+1)+1].reshape(1)))},\n",
        "#                                       { 'type':'eq', 'fun': lambda x:  (x[2+1],x[2+1+(T+1)])-(A@(x[2],x[2+(T+1)]) + B@(x[n*(T+1)+2].reshape(1)))},\n",
        "#                                       { 'type':'eq', 'fun': lambda x:  (x[3+1],x[3+1+(T+1)])-(A@(x[3],x[3+(T+1)]) + B@(x[n*(T+1)+3].reshape(1)))},)"
      ],
      "metadata": {
        "id": "7T8rnghPh3_J"
      },
      "execution_count": 10,
      "outputs": []
    },
    {
      "cell_type": "code",
      "source": [
        ""
      ],
      "metadata": {
        "id": "kSfBWVXUw8Y4"
      },
      "execution_count": 10,
      "outputs": []
    },
    {
      "cell_type": "code",
      "source": [
        "x0 = np.zeros(shape=(n*(T+1)+m*T))\n",
        "opt=opt_test(A, B , T, x_0, n*(T+1), (n,T+1),  (m,T))\n",
        "res2=opt.opt(x0)"
      ],
      "metadata": {
        "id": "CLerX1-Ch37u"
      },
      "execution_count": 11,
      "outputs": []
    },
    {
      "cell_type": "code",
      "source": [
        "res2"
      ],
      "metadata": {
        "colab": {
          "base_uri": "https://localhost:8080/"
        },
        "id": "vONHmum-h34g",
        "outputId": "4b136a78-1d98-4cb4-84ab-dcf6f3e3e311"
      },
      "execution_count": 12,
      "outputs": [
        {
          "output_type": "execute_result",
          "data": {
            "text/plain": [
              "     fun: 385.8204032951738\n",
              "     jac: array([0, 0, 0, 0, 0, 0, 0, 0, 0, 0, 0, 0, 0, 0, 0, 0, 0, 0, 0, 0, 0, 0, 0, 0, 0, 0, 0, 0, 0, 0, 0, 0, 0, 0, 0, 0, 0, 0, 0, 0, 0, 0, 0, 0, 0, 0, 0, 0, 0, 0, 0, 0, 0, 0, 0, 0, 0, 0, 0, 0, 0, 0, 96.157, 93.45, 90.725, 87.981, 85.217, 82.429, 79.618, 76.78, 73.915, 71.02, 68.095, 65.137, 62.146, 59.119, 56.055, 52.954, 49.813, 46.631, 43.407, 40.14, 36.828, 33.47, 30.065, 26.611, 23.109, 19.556, 15.952, 12.295, 8.5847, 4.82])\n",
              " message: 'Singular matrix C in LSQ subproblem'\n",
              "    nfev: 94\n",
              "     nit: 1\n",
              "    njev: 1\n",
              "  status: 6\n",
              " success: False\n",
              "       x: array([-2.1362, -2.1805, -2.2277, -2.2777, -2.3305, -2.3861, -2.4445, -2.5057, -2.5698, -2.6366, -2.7063, -2.7788, -2.8541, -2.9322, -3.0131, -3.0969, -3.1834, -3.2728, -3.365, -3.46, -3.5578, -3.6584, -3.7618, -3.8681, -3.9771, -4.089, -4.2037, -4.3212, -4.4415, -4.5646, -4.6906, 1.6403, 1.6121, 1.584, 1.5559, 1.5277, 1.4996, 1.4715, 1.4433, 1.4152, 1.3871, 1.3589, 1.3308, 1.3027, 1.2745, 1.2464, 1.2183, 1.1901, 1.162, 1.1339, 1.1057, 1.0776, 1.0495, 1.0213, 0.9932, 0.96507, 0.93694, 0.9088, 0.88067, 0.85254, 0.8244, 0.79627, 0.5, 0.5, 0.5, 0.5, 0.5, 0.5, 0.5, 0.5, 0.5, 0.5, 0.5, 0.5, 0.5, 0.5, 0.5, 0.5, 0.5, 0.5, 0.5, 0.5, 0.5, 0.5, 0.5, 0.5, 0.5, 0.5, 0.5, 0.5, 0.5, 0.5])"
            ]
          },
          "metadata": {},
          "execution_count": 12
        }
      ]
    },
    {
      "cell_type": "code",
      "source": [
        "%timeit res2=opt.opt(x0)"
      ],
      "metadata": {
        "colab": {
          "base_uri": "https://localhost:8080/"
        },
        "id": "Ps6CbM-1h303",
        "outputId": "948ebd6f-8e48-4734-bdb4-92c36cf61f49"
      },
      "execution_count": 13,
      "outputs": [
        {
          "output_type": "stream",
          "name": "stdout",
          "text": [
            "10 loops, best of 5: 54.1 ms per loop\n"
          ]
        }
      ]
    },
    {
      "cell_type": "code",
      "source": [
        ""
      ],
      "metadata": {
        "id": "wqQGDTUmidnZ"
      },
      "execution_count": 13,
      "outputs": []
    },
    {
      "cell_type": "code",
      "source": [
        ""
      ],
      "metadata": {
        "id": "m2znlLzwidfi"
      },
      "execution_count": 13,
      "outputs": []
    },
    {
      "cell_type": "code",
      "source": [
        ""
      ],
      "metadata": {
        "id": "AtXYtSlyidVs"
      },
      "execution_count": 13,
      "outputs": []
    },
    {
      "cell_type": "code",
      "source": [
        ""
      ],
      "metadata": {
        "id": "XmyhT3l3idRP"
      },
      "execution_count": 13,
      "outputs": []
    },
    {
      "cell_type": "code",
      "source": [
        ""
      ],
      "metadata": {
        "id": "-RBL_yU-IqcD"
      },
      "execution_count": 13,
      "outputs": []
    },
    {
      "cell_type": "code",
      "source": [
        ""
      ],
      "metadata": {
        "id": "gdBm96wmIqYe"
      },
      "execution_count": 13,
      "outputs": []
    },
    {
      "cell_type": "code",
      "source": [
        ""
      ],
      "metadata": {
        "id": "Ee6A2REiIqVU"
      },
      "execution_count": 13,
      "outputs": []
    }
  ]
}