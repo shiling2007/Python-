{
 "cells": [
  {
   "cell_type": "code",
   "execution_count": 1,
   "metadata": {},
   "outputs": [
    {
     "data": {
      "text/html": [
       "<style>.container { width:100% !important; }</style>"
      ],
      "text/plain": [
       "<IPython.core.display.HTML object>"
      ]
     },
     "metadata": {},
     "output_type": "display_data"
    }
   ],
   "source": [
    "from IPython.core.display import display, HTML, Image\n",
    "display(HTML(\"<style>.container { width:100% !important; }</style>\"))\n",
    "from IPython.core.interactiveshell import InteractiveShell\n",
    "InteractiveShell.ast_node_interactivity = \"all\""
   ]
  },
  {
   "cell_type": "code",
   "execution_count": 2,
   "metadata": {},
   "outputs": [
    {
     "name": "stdout",
     "output_type": "stream",
     "text": [
      "3.6.8 |Anaconda, Inc.| (default, Feb 21 2019, 18:30:04) [MSC v.1916 64 bit (AMD64)]\n"
     ]
    }
   ],
   "source": [
    "import sys\n",
    "print(sys.version)"
   ]
  },
  {
   "cell_type": "code",
   "execution_count": 3,
   "metadata": {},
   "outputs": [
    {
     "data": {
      "text/plain": [
       "namespace(a=1, b='2')"
      ]
     },
     "execution_count": 3,
     "metadata": {},
     "output_type": "execute_result"
    },
    {
     "name": "stdout",
     "output_type": "stream",
     "text": [
      "<class 'int'>\n",
      "<class 'str'>\n",
      "<class 'float'>\n",
      "<class 'pandas.core.frame.DataFrame'>\n",
      "<class 'list'>\n",
      "<class 'numpy.ndarray'>\n",
      "<class 'numpy.ndarray'>\n"
     ]
    },
    {
     "data": {
      "text/plain": [
       "namespace(a=1, b='2', c=3.0, d=   a\n",
       "0  1\n",
       "1  2\n",
       "2  3, e=[1, 2, 3], f=array([1, 2, 3]), g=array([1, 2, 3]))"
      ]
     },
     "execution_count": 3,
     "metadata": {},
     "output_type": "execute_result"
    }
   ],
   "source": [
    "# from types import SimpleNamespace\n",
    "import types  \n",
    "import pandas as pd\n",
    "import numpy as np\n",
    "\n",
    "def link1(input):\n",
    "    return np.array(input)\n",
    "\n",
    "data = types.SimpleNamespace(a=1, b='2')\n",
    "data\n",
    "data.c = 3.0\n",
    "data.d=pd.DataFrame([1,2,3], columns=['a'])\n",
    "data.e=[1,2,3]\n",
    "data.f=np.array(data.e)\n",
    "data.g=link1(data.e)\n",
    "\n",
    "###print out all objects type in simeple namespace 'data'\n",
    "l=[x for x in dir(data) if x[:2]!='__']\n",
    "cstr=[]\n",
    "for obj in l:\n",
    "    str='t=type(data.'+ obj + ');print(t)'\n",
    "    cstr.append(str)\n",
    "    \n",
    "cstr_cmd=';'.join(cstr)\n",
    "exec(cstr_cmd)\n",
    "data"
   ]
  },
  {
   "cell_type": "code",
   "execution_count": 4,
   "metadata": {},
   "outputs": [],
   "source": [
    "l_elments2=types.SimpleNamespace(a=3,b=4.,c=pd.DataFrame([1,2,3], columns=['a']))\n",
    "data_dict = {} \n",
    "data_dict={i : l_elments2 for i in range(3)} "
   ]
  },
  {
   "cell_type": "code",
   "execution_count": 5,
   "metadata": {
    "scrolled": false
   },
   "outputs": [
    {
     "data": {
      "text/html": [
       "<div>\n",
       "<style scoped>\n",
       "    .dataframe tbody tr th:only-of-type {\n",
       "        vertical-align: middle;\n",
       "    }\n",
       "\n",
       "    .dataframe tbody tr th {\n",
       "        vertical-align: top;\n",
       "    }\n",
       "\n",
       "    .dataframe thead th {\n",
       "        text-align: right;\n",
       "    }\n",
       "</style>\n",
       "<table border=\"1\" class=\"dataframe\">\n",
       "  <thead>\n",
       "    <tr style=\"text-align: right;\">\n",
       "      <th></th>\n",
       "      <th>a</th>\n",
       "    </tr>\n",
       "  </thead>\n",
       "  <tbody>\n",
       "    <tr>\n",
       "      <th>0</th>\n",
       "      <td>1</td>\n",
       "    </tr>\n",
       "    <tr>\n",
       "      <th>1</th>\n",
       "      <td>2</td>\n",
       "    </tr>\n",
       "    <tr>\n",
       "      <th>2</th>\n",
       "      <td>3</td>\n",
       "    </tr>\n",
       "  </tbody>\n",
       "</table>\n",
       "</div>"
      ],
      "text/plain": [
       "   a\n",
       "0  1\n",
       "1  2\n",
       "2  3"
      ]
     },
     "execution_count": 5,
     "metadata": {},
     "output_type": "execute_result"
    },
    {
     "data": {
      "text/plain": [
       "5"
      ]
     },
     "execution_count": 5,
     "metadata": {},
     "output_type": "execute_result"
    }
   ],
   "source": [
    "c=5\n",
    "data_dict[1].c\n",
    "c"
   ]
  },
  {
   "cell_type": "code",
   "execution_count": 6,
   "metadata": {},
   "outputs": [
    {
     "name": "stdout",
     "output_type": "stream",
     "text": [
      "<class 'int'>\n",
      "<class 'float'>\n",
      "<class 'pandas.core.frame.DataFrame'>\n"
     ]
    },
    {
     "data": {
      "text/plain": [
       "{0: namespace(a=3, b=4.0, c=   a\n",
       " 0  1\n",
       " 1  2\n",
       " 2  3), 1: namespace(a=3, b=4.0, c=   a\n",
       " 0  1\n",
       " 1  2\n",
       " 2  3), 2: namespace(a=3, b=4.0, c=   a\n",
       " 0  1\n",
       " 1  2\n",
       " 2  3)}"
      ]
     },
     "execution_count": 6,
     "metadata": {},
     "output_type": "execute_result"
    }
   ],
   "source": [
    "l=[x for x in dir(data_dict[0]) if x[:2]!='__']\n",
    "cstr=[]\n",
    "for obj in l:\n",
    "    str='t=type(data_dict[0].'+ obj + ');print(t)'\n",
    "    cstr.append(str)\n",
    "    \n",
    "cstr_cmd=';'.join(cstr)\n",
    "exec(cstr_cmd)\n",
    "data_dict"
   ]
  },
  {
   "cell_type": "code",
   "execution_count": 7,
   "metadata": {},
   "outputs": [
    {
     "data": {
      "text/plain": [
       "DataBag(a=1, b=2)"
      ]
     },
     "execution_count": 7,
     "metadata": {},
     "output_type": "execute_result"
    },
    {
     "data": {
      "text/plain": [
       "'a'"
      ]
     },
     "execution_count": 7,
     "metadata": {},
     "output_type": "execute_result"
    },
    {
     "data": {
      "text/plain": [
       "1"
      ]
     },
     "execution_count": 7,
     "metadata": {},
     "output_type": "execute_result"
    }
   ],
   "source": [
    "import random\n",
    "from types import SimpleNamespace\n",
    "\n",
    "class DataBag(SimpleNamespace):\n",
    "    def choice(self):\n",
    "        items = self.__dict__.items()\n",
    "        return random.choice(tuple(items))\n",
    "\n",
    "data_bag = DataBag(a=1, b=2)\n",
    "\n",
    "DataBag(a=1, b=2)\n",
    "# data_bag.choice()\n",
    "a,b=data_bag.choice()\n",
    "a\n",
    "b"
   ]
  },
  {
   "cell_type": "code",
   "execution_count": null,
   "metadata": {},
   "outputs": [],
   "source": []
  }
 ],
 "metadata": {
  "kernelspec": {
   "display_name": "Python 3",
   "language": "python",
   "name": "python3"
  },
  "language_info": {
   "codemirror_mode": {
    "name": "ipython",
    "version": 3
   },
   "file_extension": ".py",
   "mimetype": "text/x-python",
   "name": "python",
   "nbconvert_exporter": "python",
   "pygments_lexer": "ipython3",
   "version": "3.6.8"
  }
 },
 "nbformat": 4,
 "nbformat_minor": 2
}
