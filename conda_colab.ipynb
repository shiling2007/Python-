{
  "nbformat": 4,
  "nbformat_minor": 0,
  "metadata": {
    "colab": {
      "name": "conda-colab.ipynb",
      "provenance": [],
      "collapsed_sections": [],
      "authorship_tag": "ABX9TyMLwgH/J5o9U+c3zUkEQa4C",
      "include_colab_link": true
    },
    "kernelspec": {
      "display_name": "Python 3",
      "name": "python3"
    },
    "language_info": {
      "name": "python"
    }
  },
  "cells": [
    {
      "cell_type": "markdown",
      "metadata": {
        "id": "view-in-github",
        "colab_type": "text"
      },
      "source": [
        "<a href=\"https://colab.research.google.com/github/shiling2007/Python-/blob/main/conda_colab.ipynb\" target=\"_parent\"><img src=\"https://colab.research.google.com/assets/colab-badge.svg\" alt=\"Open In Colab\"/></a>"
      ]
    },
    {
      "cell_type": "code",
      "metadata": {
        "colab": {
          "base_uri": "https://localhost:8080/",
          "height": 17
        },
        "id": "g7sSfY_7o-pn",
        "outputId": "ee12783d-f514-4a13-cc98-ef6441c37e83"
      },
      "source": [
        "# https://github.com/jckantor/CBE30338/tree/master/notebooks\n",
        "\n",
        "from IPython.core.display import display, HTML, Image\n",
        "display(HTML(\"<style>.container { width:100% !important; }</style>\"))\n",
        "# from IPython.core.interactiveshell import InteractiveShell\n",
        "# InteractiveShell.ast_node_interactivity = \"all\"\n",
        "# from google.colab import drive\n",
        "# drive.mount('/content/drive')\n",
        "# from google.colab import files\n",
        "# files.download('/content/drive/MyDrive/Colab Notebooks/Lease Payment Formula.ipynb') \n",
        "import matplotlib.pyplot as plt\n",
        "import numpy as np\n",
        "np.set_printoptions(edgeitems=30, linewidth=100000, \n",
        "    formatter=dict(float=lambda x: \"%.5g\" % x))\n",
        "import pandas as pd\n",
        "pd.set_option('display.max_rows', 10)\n",
        "pd.set_option('display.max_columns', 500)\n",
        "pd.set_option('display.width', 999)\n",
        "pd.set_option(\"max_colwidth\", 500)\n",
        "# try:\n",
        "#  device_name = os.environ['COLAB_TPU_ADDR']\n",
        "#  TPU_ADDRESS = 'grpc://' + device_name\n",
        "#  print('Found TPU at: {}'.format(TPU_ADDRESS))\n",
        "# except KeyError:\n",
        "#  print('TPU not found')\n",
        "\n",
        "%load_ext autoreload\n",
        "%autoreload 2\n",
        "\n",
        "# !pip install -q condacolab\n",
        "# import condacolab\n",
        "# condacolab.install()"
      ],
      "execution_count": 1,
      "outputs": [
        {
          "output_type": "display_data",
          "data": {
            "text/plain": [
              "<IPython.core.display.HTML object>"
            ],
            "text/html": [
              "<style>.container { width:100% !important; }</style>"
            ]
          },
          "metadata": {}
        }
      ]
    },
    {
      "cell_type": "code",
      "source": [
        "!pip install -q condacolab\n",
        "import condacolab\n",
        "condacolab.install()"
      ],
      "metadata": {
        "id": "DqFMX1H2Mawo",
        "colab": {
          "base_uri": "https://localhost:8080/"
        },
        "outputId": "9fe83f5b-ae3b-41d8-e018-662086082e92"
      },
      "execution_count": 2,
      "outputs": [
        {
          "output_type": "stream",
          "name": "stdout",
          "text": [
            "⏬ Downloading https://github.com/jaimergp/miniforge/releases/latest/download/Mambaforge-colab-Linux-x86_64.sh...\n",
            "📦 Installing...\n",
            "📌 Adjusting configuration...\n",
            "🩹 Patching environment...\n",
            "⏲ Done in 0:00:38\n",
            "🔁 Restarting kernel...\n"
          ]
        }
      ]
    },
    {
      "cell_type": "code",
      "source": [
        "!conda install -c conda-forge pyomo\n",
        "!conda install -c conda-forge pyomo.extras\n",
        "!conda install -c conda-forge ipopt"
      ],
      "metadata": {
        "colab": {
          "base_uri": "https://localhost:8080/"
        },
        "id": "2kygnhToKjdM",
        "outputId": "90772ef1-761a-4eff-b5bd-10df16b20f41"
      },
      "execution_count": 1,
      "outputs": [
        {
          "output_type": "stream",
          "name": "stdout",
          "text": [
            "Collecting package metadata (current_repodata.json): - \b\b\\ \b\b| \b\b/ \b\b- \b\b\\ \b\b| \b\b/ \b\b- \b\b\\ \b\b| \b\b/ \b\b- \b\b\\ \b\b| \b\b/ \b\b- \b\b\\ \b\b| \b\b/ \b\b- \b\b\\ \b\b| \b\b/ \b\b- \b\b\\ \b\b| \b\b/ \b\b- \b\b\\ \b\b| \b\b/ \b\b- \b\b\\ \b\b| \b\b/ \b\b- \b\b\\ \b\b| \b\b/ \b\b- \b\b\\ \b\b| \b\b/ \b\b- \b\b\\ \b\b| \b\b/ \b\b- \b\b\\ \b\b| \b\b/ \b\b- \b\b\\ \b\b| \b\b/ \b\b- \b\b\\ \b\b| \b\b/ \b\b- \b\b\\ \b\b| \b\b/ \b\b- \b\b\\ \b\b| \b\b/ \b\b- \b\b\\ \b\b| \b\b/ \b\b- \b\b\\ \b\b| \b\b/ \b\b- \b\b\\ \b\b| \b\b/ \b\b- \b\b\\ \b\b| \b\b/ \b\b- \b\b\\ \b\b| \b\b/ \b\b- \b\b\\ \b\b| \b\b/ \b\b- \b\b\\ \b\b| \b\b/ \b\b- \b\b\\ \b\b| \b\b/ \b\b- \b\b\\ \b\b| \b\b/ \b\b- \b\b\\ \b\b| \b\b/ \b\b- \b\b\\ \b\b| \b\b/ \b\bdone\n",
            "Solving environment: \\ \b\b| \b\b/ \b\b- \b\b\\ \b\b| \b\b/ \b\b- \b\b\\ \b\b| \b\b/ \b\b- \b\b\\ \b\b| \b\b/ \b\b- \b\b\\ \b\b| \b\b/ \b\b- \b\b\\ \b\b| \b\b/ \b\b- \b\b\\ \b\b| \b\b/ \b\b- \b\b\\ \b\b| \b\b/ \b\b- \b\b\\ \b\b| \b\bdone\n",
            "\n",
            "## Package Plan ##\n",
            "\n",
            "  environment location: /usr/local\n",
            "\n",
            "  added / updated specs:\n",
            "    - pyomo\n",
            "\n",
            "\n",
            "The following packages will be downloaded:\n",
            "\n",
            "    package                    |            build\n",
            "    ---------------------------|-----------------\n",
            "    ca-certificates-2021.10.8  |       ha878542_0         139 KB  conda-forge\n",
            "    certifi-2021.10.8          |   py37h89c1867_2         145 KB  conda-forge\n",
            "    conda-4.12.0               |   py37h89c1867_0         1.0 MB  conda-forge\n",
            "    libgcc-ng-11.2.0           |      h1d223b6_15         911 KB  conda-forge\n",
            "    libgomp-11.2.0             |      h1d223b6_15         432 KB  conda-forge\n",
            "    libstdcxx-ng-11.2.0        |      he4da1e4_15         4.2 MB  conda-forge\n",
            "    openssl-1.1.1n             |       h166bdaf_0         2.1 MB  conda-forge\n",
            "    ply-3.11                   |             py_1          44 KB  conda-forge\n",
            "    pyomo-6.4.0                |   py37hd23a5d3_0         5.4 MB  conda-forge\n",
            "    python_abi-3.7             |          2_cp37m           4 KB  conda-forge\n",
            "    ------------------------------------------------------------\n",
            "                                           Total:        14.4 MB\n",
            "\n",
            "The following NEW packages will be INSTALLED:\n",
            "\n",
            "  ply                conda-forge/noarch::ply-3.11-py_1\n",
            "  pyomo              conda-forge/linux-64::pyomo-6.4.0-py37hd23a5d3_0\n",
            "\n",
            "The following packages will be UPDATED:\n",
            "\n",
            "  ca-certificates                      2020.12.5-ha878542_0 --> 2021.10.8-ha878542_0\n",
            "  certifi                          2020.12.5-py37h89c1867_1 --> 2021.10.8-py37h89c1867_2\n",
            "  conda                                4.9.2-py37h89c1867_0 --> 4.12.0-py37h89c1867_0\n",
            "  libgcc-ng                               9.3.0-h2828fa1_18 --> 11.2.0-h1d223b6_15\n",
            "  libgomp                                 9.3.0-h2828fa1_18 --> 11.2.0-h1d223b6_15\n",
            "  libstdcxx-ng                            9.3.0-h6de172a_18 --> 11.2.0-he4da1e4_15\n",
            "  openssl                                 1.1.1j-h7f98852_0 --> 1.1.1n-h166bdaf_0\n",
            "  python_abi                                    3.7-1_cp37m --> 3.7-2_cp37m\n",
            "\n",
            "\n",
            "\n",
            "Downloading and Extracting Packages\n",
            "conda-4.12.0         | 1.0 MB    | : 100% 1.0/1 [00:00<00:00,  2.99it/s]\n",
            "python_abi-3.7       | 4 KB      | : 100% 1.0/1 [00:00<00:00, 34.08it/s]\n",
            "libgomp-11.2.0       | 432 KB    | : 100% 1.0/1 [00:00<00:00, 10.12it/s]\n",
            "pyomo-6.4.0          | 5.4 MB    | : 100% 1.0/1 [00:02<00:00,  2.19s/it]               \n",
            "openssl-1.1.1n       | 2.1 MB    | : 100% 1.0/1 [00:00<00:00,  2.79it/s]\n",
            "libstdcxx-ng-11.2.0  | 4.2 MB    | : 100% 1.0/1 [00:00<00:00,  1.35it/s]\n",
            "libgcc-ng-11.2.0     | 911 KB    | : 100% 1.0/1 [00:00<00:00,  6.14it/s]\n",
            "certifi-2021.10.8    | 145 KB    | : 100% 1.0/1 [00:00<00:00, 19.25it/s]\n",
            "ca-certificates-2021 | 139 KB    | : 100% 1.0/1 [00:00<00:00, 18.55it/s]\n",
            "ply-3.11             | 44 KB     | : 100% 1.0/1 [00:00<00:00, 25.90it/s]\n",
            "Preparing transaction: - \b\b\\ \b\bdone\n",
            "Verifying transaction: / \b\b- \b\b\\ \b\b| \b\bdone\n",
            "Executing transaction: - \b\b\\ \b\b| \b\b/ \b\b- \b\b\\ \b\b| \b\b/ \b\bdone\n",
            "Collecting package metadata (current_repodata.json): - \b\b\\ \b\b| \b\b/ \b\b- \b\b\\ \b\b| \b\b/ \b\b- \b\b\\ \b\b| \b\b/ \b\b- \b\b\\ \b\b| \b\b/ \b\b- \b\b\\ \b\b| \b\b/ \b\b- \b\b\\ \b\bdone\n",
            "Solving environment: / \b\b- \b\b\\ \b\b| \b\b/ \b\b- \b\b\\ \b\b| \b\b/ \b\b- \b\b\\ \b\b| \b\b/ \b\b- \b\b\\ \b\b| \b\b/ \b\b- \b\b\\ \b\b| \b\b/ \b\b- \b\b\\ \b\b| \b\b/ \b\b- \b\b\\ \b\b| \b\b/ \b\b- \b\b\\ \b\b| \b\b/ \b\b- \b\b\\ \b\b| \b\b/ \b\b- \b\b\\ \b\b| \b\b/ \b\b- \b\b\\ \b\b| \b\b/ \b\b- \b\b\\ \b\b| \b\b/ \b\b- \b\b\\ \b\b| \b\b/ \b\b- \b\b\\ \b\b| \b\b/ \b\b- \b\b\\ \b\b| \b\b/ \b\b- \b\b\\ \b\b| \b\b/ \b\b- \b\b\\ \b\b| \b\b/ \b\b- \b\b\\ \b\b| \b\b/ \b\b- \b\b\\ \b\b| \b\b/ \b\b- \b\b\\ \b\b| \b\b/ \b\b- \b\b\\ \b\b| \b\b/ \b\b- \b\b\\ \b\b| \b\b/ \b\b- \b\b\\ \b\b| \b\b/ \b\b- \b\b\\ \b\b| \b\b/ \b\b- \b\b\\ \b\b| \b\b/ \b\b- \b\b\\ \b\b| \b\b/ \b\b- \b\b\\ \b\b| \b\b/ \b\b- \b\b\\ \b\b| \b\b/ \b\b- \b\b\\ \b\b| \b\b/ \b\b- \b\b\\ \b\b| \b\b/ \b\b- \b\b\\ \b\b| \b\b/ \b\b- \b\b\\ \b\b| \b\b/ \b\b- \b\b\\ \b\b| \b\b/ \b\b- \b\b\\ \b\b| \b\b/ \b\b- \b\b\\ \b\b| \b\b/ \b\b- \b\b\\ \b\b| \b\b/ \b\b- \b\b\\ \b\b| \b\b/ \b\b- \b\b\\ \b\b| \b\b/ \b\b- \b\b\\ \b\b| \b\b/ \b\b- \b\b\\ \b\b| \b\b/ \b\b- \b\b\\ \b\b| \b\b/ \b\b- \b\b\\ \b\b| \b\b/ \b\b- \b\b\\ \b\b| \b\b/ \b\b- \b\b\\ \b\b| \b\b/ \b\b- \b\b\\ \b\b| \b\b/ \b\b- \b\b\\ \b\bfailed with initial frozen solve. Retrying with flexible solve.\n",
            "Solving environment: / \b\b- \b\b\\ \b\b| \b\b/ \b\b- \b\b\\ \b\b| \b\b/ \b\b- \b\b\\ \b\b| \b\b/ \b\b- \b\b\\ \b\b| \b\b/ \b\b- \b\b\\ \b\b| \b\b/ \b\b- \b\b\\ \b\b| \b\b/ \b\b- \b\b\\ \b\b| \b\b/ \b\b- \b\b\\ \b\b| \b\b/ \b\b- \b\b\\ \b\b| \b\b/ \b\b- \b\b\\ \b\b| \b\b/ \b\b- \b\b\\ \b\bfailed with repodata from current_repodata.json, will retry with next repodata source.\n",
            "\n",
            "ResolvePackageNotFound: \n",
            "  - conda==4.9.2\n",
            "\n",
            "Collecting package metadata (current_repodata.json): - \b\b\\ \b\b| \b\b/ \b\b- \b\b\\ \b\b| \b\b/ \b\b- \b\b\\ \b\b| \b\b/ \b\b- \b\b\\ \b\b| \b\b/ \b\b- \b\bdone\n",
            "Solving environment: | \b\b/ \b\b- \b\b\\ \b\b| \b\b/ \b\b- \b\b\\ \b\b| \b\b/ \b\b- \b\b\\ \b\b| \b\b/ \b\b- \b\b\\ \b\b| \b\b/ \b\b- \b\b\\ \b\b| \b\b/ \b\b- \b\b\\ \b\b| \b\b/ \b\b- \b\bdone\n",
            "\n",
            "## Package Plan ##\n",
            "\n",
            "  environment location: /usr/local\n",
            "\n",
            "  added / updated specs:\n",
            "    - ipopt\n",
            "\n",
            "\n",
            "The following packages will be downloaded:\n",
            "\n",
            "    package                    |            build\n",
            "    ---------------------------|-----------------\n",
            "    ampl-mp-3.1.0              |    h2cc385e_1006         1.1 MB  conda-forge\n",
            "    ipopt-3.14.5               |       h630875f_0         1.1 MB  conda-forge\n",
            "    libblas-3.9.0              |14_linux64_openblas          12 KB  conda-forge\n",
            "    libgfortran-ng-11.2.0      |      h69a702a_15          23 KB  conda-forge\n",
            "    libgfortran5-11.2.0        |      h5c6108e_15         1.7 MB  conda-forge\n",
            "    liblapack-3.9.0            |14_linux64_openblas          12 KB  conda-forge\n",
            "    libopenblas-0.3.20         |pthreads_h78a6416_0        10.1 MB  conda-forge\n",
            "    metis-5.1.0                |    h58526e2_1006         4.1 MB  conda-forge\n",
            "    mumps-include-5.2.1        |      ha770c72_11          23 KB  conda-forge\n",
            "    mumps-seq-5.2.1            |      h2104b81_11         3.3 MB  conda-forge\n",
            "    scotch-6.0.9               |       h3858553_1         1.3 MB  conda-forge\n",
            "    unixodbc-2.3.9             |       hb166930_0         293 KB  conda-forge\n",
            "    ------------------------------------------------------------\n",
            "                                           Total:        23.1 MB\n",
            "\n",
            "The following NEW packages will be INSTALLED:\n",
            "\n",
            "  ampl-mp            conda-forge/linux-64::ampl-mp-3.1.0-h2cc385e_1006\n",
            "  ipopt              conda-forge/linux-64::ipopt-3.14.5-h630875f_0\n",
            "  libblas            conda-forge/linux-64::libblas-3.9.0-14_linux64_openblas\n",
            "  libgfortran-ng     conda-forge/linux-64::libgfortran-ng-11.2.0-h69a702a_15\n",
            "  libgfortran5       conda-forge/linux-64::libgfortran5-11.2.0-h5c6108e_15\n",
            "  liblapack          conda-forge/linux-64::liblapack-3.9.0-14_linux64_openblas\n",
            "  libopenblas        conda-forge/linux-64::libopenblas-0.3.20-pthreads_h78a6416_0\n",
            "  metis              conda-forge/linux-64::metis-5.1.0-h58526e2_1006\n",
            "  mumps-include      conda-forge/linux-64::mumps-include-5.2.1-ha770c72_11\n",
            "  mumps-seq          conda-forge/linux-64::mumps-seq-5.2.1-h2104b81_11\n",
            "  scotch             conda-forge/linux-64::scotch-6.0.9-h3858553_1\n",
            "  unixodbc           conda-forge/linux-64::unixodbc-2.3.9-hb166930_0\n",
            "\n",
            "\n",
            "\n",
            "Downloading and Extracting Packages\n",
            "unixodbc-2.3.9       | 293 KB    | : 100% 1.0/1 [00:00<00:00,  2.32it/s]\n",
            "libopenblas-0.3.20   | 10.1 MB   | : 100% 1.0/1 [00:02<00:00,  2.08s/it]               \n",
            "libgfortran-ng-11.2. | 23 KB     | : 100% 1.0/1 [00:00<00:00, 30.21it/s]\n",
            "libgfortran5-11.2.0  | 1.7 MB    | : 100% 1.0/1 [00:00<00:00,  2.74it/s]\n",
            "liblapack-3.9.0      | 12 KB     | : 100% 1.0/1 [00:00<00:00, 30.20it/s]\n",
            "ipopt-3.14.5         | 1.1 MB    | : 100% 1.0/1 [00:00<00:00,  1.49it/s]              \n",
            "mumps-seq-5.2.1      | 3.3 MB    | : 100% 1.0/1 [00:02<00:00,  2.86s/it]               \n",
            "mumps-include-5.2.1  | 23 KB     | : 100% 1.0/1 [00:00<00:00,  3.49it/s]               \n",
            "scotch-6.0.9         | 1.3 MB    | : 100% 1.0/1 [00:00<00:00,  1.70it/s]\n",
            "ampl-mp-3.1.0        | 1.1 MB    | : 100% 1.0/1 [00:00<00:00,  1.84it/s]\n",
            "libblas-3.9.0        | 12 KB     | : 100% 1.0/1 [00:00<00:00, 23.83it/s]\n",
            "metis-5.1.0          | 4.1 MB    | : 100% 1.0/1 [00:00<00:00,  1.41it/s]\n",
            "Preparing transaction: | \b\bdone\n",
            "Verifying transaction: - \b\bdone\n",
            "Executing transaction: | \b\bdone\n"
          ]
        }
      ]
    },
    {
      "cell_type": "code",
      "source": [
        "import pyomo.environ as pyo"
      ],
      "metadata": {
        "id": "QTS1zstuKjZV"
      },
      "execution_count": 2,
      "outputs": []
    },
    {
      "cell_type": "code",
      "source": [
        "dir(pyo)"
      ],
      "metadata": {
        "colab": {
          "base_uri": "https://localhost:8080/"
        },
        "id": "wADOtzwrKjVH",
        "outputId": "281dbf25-f311-4326-f349-69be0f01ba85"
      },
      "execution_count": 4,
      "outputs": [
        {
          "output_type": "execute_result",
          "data": {
            "text/plain": [
              "['AbstractModel',\n",
              " 'AlphaNumericTextLabeler',\n",
              " 'Any',\n",
              " 'AnyWithNone',\n",
              " 'Binary',\n",
              " 'Block',\n",
              " 'Boolean',\n",
              " 'BooleanConstant',\n",
              " 'BooleanSet',\n",
              " 'BooleanValue',\n",
              " 'BooleanVar',\n",
              " 'BooleanVarList',\n",
              " 'BuildAction',\n",
              " 'BuildCheck',\n",
              " 'CNameLabeler',\n",
              " 'Component',\n",
              " 'ComponentMap',\n",
              " 'ComponentUID',\n",
              " 'ConcreteModel',\n",
              " 'Connector',\n",
              " 'Constraint',\n",
              " 'ConstraintList',\n",
              " 'CounterLabeler',\n",
              " 'CuidLabeler',\n",
              " 'DataPortal',\n",
              " 'EmptySet',\n",
              " 'Expr_if',\n",
              " 'Expression',\n",
              " 'ExternalFunction',\n",
              " 'IntegerInterval',\n",
              " 'IntegerSet',\n",
              " 'Integers',\n",
              " 'LogicalConstraint',\n",
              " 'LogicalConstraintList',\n",
              " 'Model',\n",
              " 'ModelComponentFactory',\n",
              " 'NameLabeler',\n",
              " 'NegativeIntegers',\n",
              " 'NegativeReals',\n",
              " 'NonNegativeIntegers',\n",
              " 'NonNegativeReals',\n",
              " 'NonPositiveIntegers',\n",
              " 'NonPositiveReals',\n",
              " 'NumericLabeler',\n",
              " 'NumericValue',\n",
              " 'Objective',\n",
              " 'ObjectiveList',\n",
              " 'Param',\n",
              " 'PercentFraction',\n",
              " 'Piecewise',\n",
              " 'PositiveIntegers',\n",
              " 'PositiveReals',\n",
              " 'PyomoObject',\n",
              " 'PyomoOptions',\n",
              " 'RangeSet',\n",
              " 'RealInterval',\n",
              " 'RealSet',\n",
              " 'Reals',\n",
              " 'Reference',\n",
              " 'SOSConstraint',\n",
              " 'ScalarBlock',\n",
              " 'ScalarBooleanVar',\n",
              " 'ScalarVar',\n",
              " 'Set',\n",
              " 'SetOf',\n",
              " 'ShortNameLabeler',\n",
              " 'SolverFactory',\n",
              " 'SolverManagerFactory',\n",
              " 'SolverStatus',\n",
              " 'SortComponents',\n",
              " 'Suffix',\n",
              " 'SymbolMap',\n",
              " 'TerminationCondition',\n",
              " 'TextLabeler',\n",
              " 'Transformation',\n",
              " 'TransformationFactory',\n",
              " 'TraversalStrategy',\n",
              " 'UnitInterval',\n",
              " 'UnknownSolver',\n",
              " 'Var',\n",
              " 'VarList',\n",
              " 'ZeroConstant',\n",
              " '__builtins__',\n",
              " '__cached__',\n",
              " '__doc__',\n",
              " '__file__',\n",
              " '__getattr__',\n",
              " '__loader__',\n",
              " '__name__',\n",
              " '__package__',\n",
              " '__path__',\n",
              " '__relocated_attrs__',\n",
              " '__spec__',\n",
              " '_do_import',\n",
              " '_import_packages',\n",
              " '_packages',\n",
              " '_sys',\n",
              " 'acos',\n",
              " 'acosh',\n",
              " 'active_components',\n",
              " 'active_components_data',\n",
              " 'active_export_suffix_generator',\n",
              " 'active_import_suffix_generator',\n",
              " 'as_boolean',\n",
              " 'as_quantity',\n",
              " 'asin',\n",
              " 'asinh',\n",
              " 'assert_optimal_termination',\n",
              " 'atan',\n",
              " 'atanh',\n",
              " 'atleast',\n",
              " 'atmost',\n",
              " 'base',\n",
              " 'beta',\n",
              " 'boolean_value',\n",
              " 'calculus',\n",
              " 'ceil',\n",
              " 'check_optimal_termination',\n",
              " 'components',\n",
              " 'components_data',\n",
              " 'cos',\n",
              " 'cosh',\n",
              " 'current',\n",
              " 'differentiate',\n",
              " 'display',\n",
              " 'dot_product',\n",
              " 'equivalent',\n",
              " 'exactly',\n",
              " 'exp',\n",
              " 'expr',\n",
              " 'expr_common',\n",
              " 'expr_errors',\n",
              " 'floor',\n",
              " 'global_option',\n",
              " 'implies',\n",
              " 'importlib',\n",
              " 'inequality',\n",
              " 'instance2dat',\n",
              " 'is_constant',\n",
              " 'is_fixed',\n",
              " 'is_potentially_variable',\n",
              " 'is_variable_type',\n",
              " 'kernel',\n",
              " 'land',\n",
              " 'linear_expression',\n",
              " 'lnot',\n",
              " 'log',\n",
              " 'log10',\n",
              " 'logical_expr',\n",
              " 'lor',\n",
              " 'maximize',\n",
              " 'minimize',\n",
              " 'name',\n",
              " 'native_logical_values',\n",
              " 'native_numeric_types',\n",
              " 'native_types',\n",
              " 'nonlinear_expression',\n",
              " 'nonpyomo_leaf_types',\n",
              " 'numeric_expr',\n",
              " 'numvalue',\n",
              " 'plugins',\n",
              " 'polynomial_degree',\n",
              " 'prod',\n",
              " 'pyomo',\n",
              " 'quicksum',\n",
              " 'sequence',\n",
              " 'set_options',\n",
              " 'simple_constraint_rule',\n",
              " 'simple_constraintlist_rule',\n",
              " 'simple_objective_rule',\n",
              " 'simple_objectivelist_rule',\n",
              " 'simple_set_rule',\n",
              " 'sin',\n",
              " 'sinh',\n",
              " 'sqrt',\n",
              " 'sum_product',\n",
              " 'summation',\n",
              " 'symbol_map',\n",
              " 'symbol_map_from_instance',\n",
              " 'sympy_tools',\n",
              " 'tan',\n",
              " 'tanh',\n",
              " 'taylor_series',\n",
              " 'taylor_series_expansion',\n",
              " 'units',\n",
              " 'util',\n",
              " 'value',\n",
              " 'visitor',\n",
              " 'xor']"
            ]
          },
          "metadata": {},
          "execution_count": 4
        }
      ]
    },
    {
      "cell_type": "code",
      "source": [
        "dir(pyo.pyomo)"
      ],
      "metadata": {
        "colab": {
          "base_uri": "https://localhost:8080/"
        },
        "id": "EEzZAmMHKjQT",
        "outputId": "edd9d1cf-6733-4ab3-bc7c-2d09dafc5c13"
      },
      "execution_count": 5,
      "outputs": [
        {
          "output_type": "execute_result",
          "data": {
            "text/plain": [
              "['__builtins__',\n",
              " '__cached__',\n",
              " '__doc__',\n",
              " '__file__',\n",
              " '__loader__',\n",
              " '__name__',\n",
              " '__package__',\n",
              " '__path__',\n",
              " '__spec__',\n",
              " '__version__',\n",
              " 'checker',\n",
              " 'common',\n",
              " 'contrib',\n",
              " 'core',\n",
              " 'dae',\n",
              " 'dataportal',\n",
              " 'duality',\n",
              " 'environ',\n",
              " 'gdp',\n",
              " 'mpec',\n",
              " 'neos',\n",
              " 'network',\n",
              " 'opt',\n",
              " 'repn',\n",
              " 'scripting',\n",
              " 'solvers',\n",
              " 'util',\n",
              " 'version']"
            ]
          },
          "metadata": {},
          "execution_count": 5
        }
      ]
    },
    {
      "cell_type": "code",
      "source": [
        "dir(pyo.pyomo.solvers)"
      ],
      "metadata": {
        "colab": {
          "base_uri": "https://localhost:8080/"
        },
        "id": "3Vrdv9wCKjLS",
        "outputId": "babc6a97-686a-4f02-e17b-651eacc781a1"
      },
      "execution_count": 8,
      "outputs": [
        {
          "output_type": "execute_result",
          "data": {
            "text/plain": [
              "['__builtins__',\n",
              " '__cached__',\n",
              " '__doc__',\n",
              " '__file__',\n",
              " '__loader__',\n",
              " '__name__',\n",
              " '__package__',\n",
              " '__path__',\n",
              " '__spec__',\n",
              " 'mockmip',\n",
              " 'plugins']"
            ]
          },
          "metadata": {},
          "execution_count": 8
        }
      ]
    },
    {
      "cell_type": "code",
      "source": [
        "dir(pyo.pyomo.solvers)"
      ],
      "metadata": {
        "colab": {
          "base_uri": "https://localhost:8080/"
        },
        "id": "1gGQaKP4KjHT",
        "outputId": "5113c8d7-5c17-4388-afa6-bb8456921ccb"
      },
      "execution_count": 12,
      "outputs": [
        {
          "output_type": "execute_result",
          "data": {
            "text/plain": [
              "['__builtins__',\n",
              " '__cached__',\n",
              " '__doc__',\n",
              " '__file__',\n",
              " '__loader__',\n",
              " '__name__',\n",
              " '__package__',\n",
              " '__path__',\n",
              " '__spec__',\n",
              " 'mockmip',\n",
              " 'plugins']"
            ]
          },
          "metadata": {},
          "execution_count": 12
        }
      ]
    },
    {
      "cell_type": "code",
      "source": [
        "from pyomo.opt import SolverFactory"
      ],
      "metadata": {
        "id": "RNbjdiUPKjCX"
      },
      "execution_count": 13,
      "outputs": []
    },
    {
      "cell_type": "code",
      "source": [
        "SolverFactory('glpk').available() == True"
      ],
      "metadata": {
        "colab": {
          "base_uri": "https://localhost:8080/"
        },
        "id": "6_R_IBsiKi9d",
        "outputId": "bea96762-80a1-4e91-82dc-76331ffca5ac"
      },
      "execution_count": 14,
      "outputs": [
        {
          "output_type": "execute_result",
          "data": {
            "text/plain": [
              "False"
            ]
          },
          "metadata": {},
          "execution_count": 14
        }
      ]
    },
    {
      "cell_type": "code",
      "source": [
        "SolverFactory('conopt').available() == True"
      ],
      "metadata": {
        "colab": {
          "base_uri": "https://localhost:8080/"
        },
        "id": "eIBe5aqrKi4m",
        "outputId": "096d68ce-edfa-47e6-fb55-fb2f2d4bc751"
      },
      "execution_count": 46,
      "outputs": [
        {
          "output_type": "execute_result",
          "data": {
            "text/plain": [
              "False"
            ]
          },
          "metadata": {},
          "execution_count": 46
        }
      ]
    },
    {
      "cell_type": "code",
      "source": [
        "SolverFactory('mpec_minlp').available() == True"
      ],
      "metadata": {
        "colab": {
          "base_uri": "https://localhost:8080/"
        },
        "id": "niH0SfozKizh",
        "outputId": "56784887-619d-432b-fda9-29d831ca0917"
      },
      "execution_count": 51,
      "outputs": [
        {
          "output_type": "execute_result",
          "data": {
            "text/plain": [
              "True"
            ]
          },
          "metadata": {},
          "execution_count": 51
        }
      ]
    },
    {
      "cell_type": "code",
      "source": [
        "import pyomo.environ as pyo\n",
        "from itertools import compress\n",
        "\n",
        "pyomo_solvers_list = pyo.SolverFactory.__dict__['_cls'].keys()\n",
        "pyomo_solvers_list"
      ],
      "metadata": {
        "colab": {
          "base_uri": "https://localhost:8080/"
        },
        "id": "LcuvpUxJXQ0g",
        "outputId": "c84b31ea-ff24-4d5f-e5bd-edf450ad2c35"
      },
      "execution_count": 24,
      "outputs": [
        {
          "output_type": "execute_result",
          "data": {
            "text/plain": [
              "dict_keys(['_neos', 'cbc', '_cbc_shell', '_mock_cbc', 'glpk', '_glpk_shell', '_mock_glpk', 'cplex', '_cplex_shell', '_mock_cplex', 'gurobi_direct', 'gurobi', '_gurobi_shell', 'baron', 'asl', '_mock_asl', 'py', 'scip', 'conopt', 'xpress', 'ipopt', 'gurobi_persistent', 'cplex_direct', 'cplex_persistent', 'gams', '_gams_direct', '_gams_shell', 'mosek', 'mosek_direct', 'mosek_persistent', 'xpress_direct', 'xpress_persistent', 'mpec_nlp', 'mpec_minlp', 'path', 'appsi_gurobi', 'appsi_cplex', 'appsi_ipopt', 'appsi_cbc', 'gdpbb', 'gdpopt', 'contrib.gjh', 'mindtpy', 'multistart', 'cyipopt', 'trustregion'])"
            ]
          },
          "metadata": {},
          "execution_count": 24
        }
      ]
    },
    {
      "cell_type": "code",
      "source": [
        "# pyomo_solvers_list = pyo.SolverFactory.__dict__['_cls'].keys()\n",
        "# solvers_filter = []\n",
        "# for s in pyomo_solvers_list:\n",
        "#     try:\n",
        "#         solvers_filter.append(pyo.SolverFactory(s).available())\n",
        "#     except (ApplicationError, NameError, ImportError) as e:\n",
        "#         solvers_filter.append(False)\n",
        "# pyomo_solvers_list = list(compress(pyomo_solvers_list,solvers_filter))"
      ],
      "metadata": {
        "id": "lWsNiXsnXQny"
      },
      "execution_count": null,
      "outputs": []
    },
    {
      "cell_type": "code",
      "source": [
        "model = pyo.ConcreteModel()\n",
        "model.x1 = pyo.Var(bounds=(1,5),initialize=1.0)\n",
        "model.x2 = pyo.Var(bounds=(1,5),initialize=5.0)\n",
        "model.x3 = pyo.Var(bounds=(1,5),initialize=5.0)\n",
        "model.x4 = pyo.Var(bounds=(1,5),initialize=1.0)\n",
        "model.obj = pyo.Objective(\n",
        "expr=model.x1*model.x4*(model.x1 + model.x2 + model.x3) + model.x3)\n",
        "model.inequality = pyo.Constraint(\n",
        "expr=model.x1*model.x2*model.x3*model.x4 >= 25.0)\n",
        "model.equality = pyo.Constraint(\n",
        "expr=model.x1**2 + model.x2**2 + model.x3**2 + model.x4**2 == 40.0)\n",
        "### Declare all suffixes\n",
        "# Ipopt bound multipliers (obtained from solution)\n",
        "model.ipopt_zL_out = pyo.Suffix(direction=pyo.Suffix.IMPORT)\n",
        "model.ipopt_zU_out = pyo.Suffix(direction=pyo.Suffix.IMPORT)"
      ],
      "metadata": {
        "id": "oXBCte72bWdO"
      },
      "execution_count": 34,
      "outputs": []
    },
    {
      "cell_type": "code",
      "source": [
        "# Ipopt bound multipliers (sent to solver)\n",
        "model.ipopt_zL_in = pyo.Suffix(direction=pyo.Suffix.EXPORT)\n",
        "model.ipopt_zU_in = pyo.Suffix(direction=pyo.Suffix.EXPORT)\n",
        "# Obtain dual solutions from first solve and send to warm start\n",
        "model.dual = pyo.Suffix(direction=pyo.Suffix.IMPORT_EXPORT)\n",
        "ipopt = pyo.SolverFactory('ipopt')\n",
        "# ipopt.options[\"threads\"] = 4"
      ],
      "metadata": {
        "colab": {
          "base_uri": "https://localhost:8080/"
        },
        "id": "MREDDE04bWZz",
        "outputId": "32790bd0-c2f1-4b0b-f581-d755e7168ee4"
      },
      "execution_count": 78,
      "outputs": [
        {
          "output_type": "stream",
          "name": "stdout",
          "text": [
            "WARNING: Implicitly replacing the Component attribute ipopt_zL_in (type=<class\n",
            "    'pyomo.core.base.suffix.Suffix'>) on block unknown with a new Component\n",
            "    (type=<class 'pyomo.core.base.suffix.Suffix'>). This is usually indicative\n",
            "    of a modelling error. To avoid this warning, use block.del_component() and\n",
            "    block.add_component().\n",
            "WARNING: Implicitly replacing the Component attribute ipopt_zU_in (type=<class\n",
            "    'pyomo.core.base.suffix.Suffix'>) on block unknown with a new Component\n",
            "    (type=<class 'pyomo.core.base.suffix.Suffix'>). This is usually indicative\n",
            "    of a modelling error. To avoid this warning, use block.del_component() and\n",
            "    block.add_component().\n",
            "WARNING: Implicitly replacing the Component attribute dual (type=<class\n",
            "    'pyomo.core.base.suffix.Suffix'>) on block unknown with a new Component\n",
            "    (type=<class 'pyomo.core.base.suffix.Suffix'>). This is usually indicative\n",
            "    of a modelling error. To avoid this warning, use block.del_component() and\n",
            "    block.add_component().\n"
          ]
        }
      ]
    },
    {
      "cell_type": "code",
      "source": [
        "# ipopt.solve(model, tee=True)\n",
        "\n",
        "results = ipopt.solve(model,  tee=True)\n"
      ],
      "metadata": {
        "colab": {
          "base_uri": "https://localhost:8080/"
        },
        "id": "AwOAycp4bWW-",
        "outputId": "090a2464-629d-48e2-ee14-682fd052cd97"
      },
      "execution_count": 81,
      "outputs": [
        {
          "output_type": "stream",
          "name": "stdout",
          "text": [
            "Ipopt 3.14.5: \n",
            "\n",
            "******************************************************************************\n",
            "This program contains Ipopt, a library for large-scale nonlinear optimization.\n",
            " Ipopt is released as open source code under the Eclipse Public License (EPL).\n",
            "         For more information visit https://github.com/coin-or/Ipopt\n",
            "******************************************************************************\n",
            "\n",
            "This is Ipopt version 3.14.5, running with linear solver MUMPS 5.2.1.\n",
            "\n",
            "Number of nonzeros in equality constraint Jacobian...:        4\n",
            "Number of nonzeros in inequality constraint Jacobian.:        4\n",
            "Number of nonzeros in Lagrangian Hessian.............:       10\n",
            "\n",
            "Total number of variables............................:        4\n",
            "                     variables with only lower bounds:        0\n",
            "                variables with lower and upper bounds:        4\n",
            "                     variables with only upper bounds:        0\n",
            "Total number of equality constraints.................:        1\n",
            "Total number of inequality constraints...............:        1\n",
            "        inequality constraints with only lower bounds:        1\n",
            "   inequality constraints with lower and upper bounds:        0\n",
            "        inequality constraints with only upper bounds:        0\n",
            "\n",
            "iter    objective    inf_pr   inf_du lg(mu)  ||d||  lg(rg) alpha_du alpha_pr  ls\n",
            "   0  1.7159878e+01 2.01e-02 5.20e-01  -1.0 0.00e+00    -  0.00e+00 0.00e+00   0\n",
            "   1  1.7146308e+01 2.06e-02 1.47e-01  -1.0 1.15e-01    -  9.86e-01 1.00e+00f  1\n",
            "   2  1.7065508e+01 7.03e-03 8.47e-02  -1.7 1.99e-01    -  9.54e-01 1.00e+00h  1\n",
            "   3  1.7002626e+01 3.59e-02 4.81e-03  -2.5 5.52e-02    -  1.00e+00 1.00e+00h  1\n",
            "   4  1.7019082e+01 1.60e-04 1.81e-04  -2.5 1.10e-02    -  1.00e+00 1.00e+00h  1\n",
            "   5  1.7014253e+01 3.24e-05 4.87e-05  -3.8 4.86e-03    -  1.00e+00 1.00e+00h  1\n",
            "   6  1.7014020e+01 1.60e-07 2.15e-07  -5.7 2.76e-04    -  1.00e+00 1.00e+00h  1\n",
            "   7  1.7014017e+01 1.82e-11 2.60e-11  -8.6 3.32e-06    -  1.00e+00 1.00e+00h  1\n",
            "\n",
            "Number of Iterations....: 7\n",
            "\n",
            "                                   (scaled)                 (unscaled)\n",
            "Objective...............:   1.7014017145177881e+01    1.7014017145177881e+01\n",
            "Dual infeasibility......:   2.5980432072151541e-11    2.5980432072151541e-11\n",
            "Constraint violation....:   1.8175683180743363e-11    1.8175683180743363e-11\n",
            "Variable bound violation:   7.6759237854773232e-09    7.6759237854773232e-09\n",
            "Complementarity.........:   2.5282956951655130e-09    2.5282956951655130e-09\n",
            "Overall NLP error.......:   2.5282956951655130e-09    2.5282956951655130e-09\n",
            "\n",
            "\n",
            "Number of objective function evaluations             = 8\n",
            "Number of objective gradient evaluations             = 8\n",
            "Number of equality constraint evaluations            = 8\n",
            "Number of inequality constraint evaluations          = 8\n",
            "Number of equality constraint Jacobian evaluations   = 8\n",
            "Number of inequality constraint Jacobian evaluations = 8\n",
            "Number of Lagrangian Hessian evaluations             = 7\n",
            "Total seconds in IPOPT                               = 0.010\n",
            "\n",
            "EXIT: Optimal Solution Found.\n",
            "\b\b\b\b\b\b\b\b\b\b\b\b\b\b"
          ]
        }
      ]
    },
    {
      "cell_type": "code",
      "source": [
        ""
      ],
      "metadata": {
        "id": "70ybTT37ehxn"
      },
      "execution_count": null,
      "outputs": []
    },
    {
      "cell_type": "code",
      "source": [
        "model = pyo.ConcreteModel()\n",
        "model.x1 = pyo.Var(bounds=(1,5),initialize=1.0)\n",
        "model.x2 = pyo.Var(bounds=(1,5),initialize=5.0)\n",
        "model.x3 = pyo.Var(bounds=(1,5),initialize=5.0)\n",
        "model.x4 = pyo.Var(bounds=(1,5),initialize=1.0)\n",
        "model.obj = pyo.Objective(\n",
        "expr=model.x1*model.x4*(model.x1 + model.x2 + model.x3) + model.x3)\n",
        "model.inequality = pyo.Constraint(\n",
        "expr=model.x1*model.x2*model.x3*model.x4 >= 25.0)\n",
        "model.equality = pyo.Constraint(\n",
        "expr=model.x1**2 + model.x2**2 + model.x3**2 + model.x4**2 == 40.0)\n",
        "\n",
        "mpec_nlp = pyo.SolverFactory('mpec_nlp')"
      ],
      "metadata": {
        "id": "D1S6uucDbWUG"
      },
      "execution_count": 60,
      "outputs": []
    },
    {
      "cell_type": "code",
      "source": [
        "mpec_nlp.solve(model, tee=True)"
      ],
      "metadata": {
        "colab": {
          "base_uri": "https://localhost:8080/"
        },
        "id": "eylfiWswbWON",
        "outputId": "d81d00d1-a639-436c-c10f-2e803e8dee1b"
      },
      "execution_count": 61,
      "outputs": [
        {
          "output_type": "stream",
          "name": "stdout",
          "text": [
            "Ipopt 3.14.5: \n",
            "\n",
            "******************************************************************************\n",
            "This program contains Ipopt, a library for large-scale nonlinear optimization.\n",
            " Ipopt is released as open source code under the Eclipse Public License (EPL).\n",
            "         For more information visit https://github.com/coin-or/Ipopt\n",
            "******************************************************************************\n",
            "\n",
            "This is Ipopt version 3.14.5, running with linear solver MUMPS 5.2.1.\n",
            "\n",
            "Number of nonzeros in equality constraint Jacobian...:        4\n",
            "Number of nonzeros in inequality constraint Jacobian.:        4\n",
            "Number of nonzeros in Lagrangian Hessian.............:       10\n",
            "\n",
            "Total number of variables............................:        4\n",
            "                     variables with only lower bounds:        0\n",
            "                variables with lower and upper bounds:        4\n",
            "                     variables with only upper bounds:        0\n",
            "Total number of equality constraints.................:        1\n",
            "Total number of inequality constraints...............:        1\n",
            "        inequality constraints with only lower bounds:        1\n",
            "   inequality constraints with lower and upper bounds:        0\n",
            "        inequality constraints with only upper bounds:        0\n",
            "\n",
            "iter    objective    inf_pr   inf_du lg(mu)  ||d||  lg(rg) alpha_du alpha_pr  ls\n",
            "   0  1.6109693e+01 1.12e+01 5.28e-01  -1.0 0.00e+00    -  0.00e+00 0.00e+00   0\n",
            "   1  1.6982239e+01 7.30e-01 1.02e+01  -1.0 6.11e-01    -  7.19e-02 1.00e+00f  1\n",
            "   2  1.7318411e+01 3.60e-02 5.05e-01  -1.0 1.61e-01    -  1.00e+00 1.00e+00h  1\n",
            "   3  1.6849424e+01 2.78e-01 6.68e-02  -1.7 2.85e-01    -  7.94e-01 1.00e+00h  1\n",
            "   4  1.7051199e+01 4.71e-03 2.78e-03  -1.7 6.06e-02    -  1.00e+00 1.00e+00h  1\n",
            "   5  1.7011979e+01 7.19e-03 8.50e-03  -3.8 3.66e-02    -  9.45e-01 9.98e-01h  1\n",
            "   6  1.7014271e+01 1.74e-05 9.78e-06  -3.8 3.33e-03    -  1.00e+00 1.00e+00h  1\n",
            "   7  1.7014021e+01 1.23e-07 1.82e-07  -5.7 2.69e-04    -  1.00e+00 1.00e+00h  1\n",
            "   8  1.7014017e+01 1.77e-11 2.52e-11  -8.6 3.32e-06    -  1.00e+00 1.00e+00h  1\n",
            "\n",
            "Number of Iterations....: 8\n",
            "\n",
            "                                   (scaled)                 (unscaled)\n",
            "Objective...............:   1.7014017145179164e+01    1.7014017145179164e+01\n",
            "Dual infeasibility......:   2.5166710821230136e-11    2.5166710821230136e-11\n",
            "Constraint violation....:   1.7706724975141697e-11    1.7706724975141697e-11\n",
            "Variable bound violation:   7.6764621326219640e-09    7.6764621326219640e-09\n",
            "Complementarity.........:   2.5277100427932958e-09    2.5277100427932958e-09\n",
            "Overall NLP error.......:   2.5277100427932958e-09    2.5277100427932958e-09\n",
            "\n",
            "\n",
            "Number of objective function evaluations             = 9\n",
            "Number of objective gradient evaluations             = 9\n",
            "Number of equality constraint evaluations            = 9\n",
            "Number of inequality constraint evaluations          = 9\n",
            "Number of equality constraint Jacobian evaluations   = 9\n",
            "Number of inequality constraint Jacobian evaluations = 9\n",
            "Number of Lagrangian Hessian evaluations             = 8\n",
            "Total seconds in IPOPT                               = 0.013\n",
            "\n",
            "EXIT: Optimal Solution Found.\n",
            "\b\b\b\b\b\b\b\b\b\b\b\b\b\b"
          ]
        },
        {
          "output_type": "execute_result",
          "data": {
            "text/plain": [
              "{'Problem': [{'Name': 'unknown', 'Lower bound': -inf, 'Upper bound': inf, 'Number of objectives': 1, 'Number of constraints': 2, 'Number of variables': 4, 'Number of binary variables': None, 'Number of integer variables': None, 'Number of continuous variables': None, 'Sense': 'unknown'}], 'Solver': [{'Name': None, 'Status': 'ok', 'Wallclock time': 0.053299665451049805, 'Termination condition': 'unknown'}], 'Solution': [OrderedDict([('number of solutions', 0), ('number of solutions displayed', 0)])]}"
            ]
          },
          "metadata": {},
          "execution_count": 61
        }
      ]
    },
    {
      "cell_type": "code",
      "source": [
        "!pyomo help -s\n"
      ],
      "metadata": {
        "colab": {
          "base_uri": "https://localhost:8080/"
        },
        "id": "AgYHUWA8bWLG",
        "outputId": "1c7e1f42-2f56-4f58-fcf7-1c793a1f8d70"
      },
      "execution_count": 70,
      "outputs": [
        {
          "output_type": "stream",
          "name": "stdout",
          "text": [
            "\n",
            "Pyomo Solvers and Solver Managers\n",
            "---------------------------------\n",
            "Pyomo uses 'solver managers' to execute 'solvers' that perform\n",
            "optimization and other forms of model analysis.  A solver directly\n",
            "executes an optimizer, typically using an executable found on the\n",
            "user's PATH environment.  Solver managers support a flexible mechanism\n",
            "for asyncronously executing solvers either locally or remotely.  The\n",
            "following solver managers are available in Pyomo:\n",
            "\n",
            "    neos       Asynchronously execute solvers on the NEOS server\n",
            "    serial     Synchronously execute solvers locally\n",
            "\n",
            "If no solver manager is specified, Pyomo uses the serial solver\n",
            "manager to execute solvers locally.  The neos solver manager is used\n",
            "to execute solvers on the NEOS optimization server.\n",
            "\n",
            "\n",
            "Serial Solver Interfaces\n",
            "------------------------\n",
            "The serial manager supports the following solver interfaces:\n",
            "\n",
            "    appsi_cbc                   Automated persistent interface to Cbc\n",
            "    appsi_cplex                 Automated persistent interface to\n",
            "                                Cplex\n",
            "    appsi_gurobi                Automated persistent interface to\n",
            "                                Gurobi\n",
            "   +appsi_ipopt       3.14.5    Automated persistent interface to\n",
            "                                Ipopt\n",
            "   *asl                         Interface for solvers using the AMPL\n",
            "                                Solver Library\n",
            "    baron                       The BARON MINLP solver\n",
            "    cbc                         The CBC LP/MIP solver\n",
            "    conopt                      The CONOPT NLP solver\n",
            "    contrib.gjh                 Interface to the AMPL GJH \"solver\"\n",
            "    cplex                       The CPLEX LP/MIP solver\n",
            "    cplex_direct                Direct python interface to CPLEX\n",
            "    cplex_persistent            Persistent python interface to CPLEX\n",
            "    cyipopt                     Cyipopt: direct python bindings to the\n",
            "                                Ipopt NLP solver\n",
            "    gams                        The GAMS modeling language\n",
            "   +gdpbb             19.5.7    [DEPRECATED] Branch and Bound based\n",
            "                                GDP Solver\n",
            "   +gdpopt            20.2.28   The GDPopt decomposition-based\n",
            "                                Generalized Disjunctive Programming\n",
            "                                (GDP) solver\n",
            "    glpk                        The GLPK LP/MIP solver\n",
            "    gurobi                      The GUROBI LP/MIP solver\n",
            "    gurobi_direct               Direct python interface to Gurobi\n",
            "    gurobi_persistent           Persistent python interface to Gurobi\n",
            "   +ipopt             3.14.5    The Ipopt NLP solver\n",
            "   +mindtpy           0.1       MindtPy: Mixed-Integer Nonlinear\n",
            "                                Decomposition Toolbox in Pyomo\n",
            "    mosek                       The MOSEK LP/QP/SOCP/MIP solver\n",
            "    mosek_direct                Direct python interface to MOSEK\n",
            "    mosek_persistent            Persistent python interface to MOSEK.\n",
            "   +mpec_minlp                  MPEC solver transforms to a MINLP\n",
            "   +mpec_nlp                    MPEC solver that optimizes a nonlinear\n",
            "                                transformation\n",
            "   +multistart                  MultiStart solver for NLPs\n",
            "    path                        Nonlinear MCP solver\n",
            "   *py                          Direct python solver interfaces\n",
            "    scip                        The SCIP LP/MIP solver\n",
            "   +trustregion       0...2...0 Trust region algorithm \"solver\" for\n",
            "                                black box/glass box optimization\n",
            "    xpress                      The XPRESS LP/MIP solver\n",
            "    xpress_direct               Direct python interface to XPRESS\n",
            "    xpress_persistent           Persistent python interface to Xpress\n",
            "\n",
            "The leading symbol (one of *, -, +) indicates the current solver\n",
            "availability.  A plus (+) indicates the solver is currently available\n",
            "to be run from Pyomo with the serial solver manager, and (if\n",
            "applicable) has a valid license.  A minus (-) indicates the solver\n",
            "executables are available but do not report having a valid license.\n",
            "The solver may still be usable in an unlicensed or \"demo\" mode for\n",
            "limited problem sizes. An asterisk (*) indicates meta-solvers or\n",
            "generic interfaces, which are always available.\n",
            "\n",
            "Pyomo also supports solver interfaces that are wrappers around third-\n",
            "party solver interfaces. These interfaces require a subsolver\n",
            "specification that indicates the solver being executed.  For example,\n",
            "the following indicates that the ipopt solver will be used:\n",
            "\n",
            "   asl:ipopt\n",
            "\n",
            "The asl interface provides a generic wrapper for all solvers that use\n",
            "the AMPL Solver Library.\n",
            "\n",
            "Note that subsolvers can not be enumerated automatically for these\n",
            "interfaces.  However, if a solver is specified that is not found,\n",
            "Pyomo assumes that the asl solver interface is being used.  Thus the\n",
            "following solver name will launch ipopt if the 'ipopt' executable is\n",
            "on the user's path:\n",
            "\n",
            "   ipopt\n",
            "\n",
            "\n",
            "NEOS Solver Interfaces\n",
            "----------------------\n",
            "The neos solver manager supports solver interfaces that can be\n",
            "executed remotely on the NEOS optimization server.  The following\n",
            "solver interfaces are available with your current system\n",
            "configuration:\n",
            "\n",
            "    bonmin       Heuristic MINLP solver\n",
            "    cbc          MILP solver\n",
            "    conopt       Feasible path NLP solver\n",
            "    couenne      Deterministic global MINLP solver\n",
            "    cplex        MILP solver\n",
            "    filmint      Heuristic MINLP solver\n",
            "    filter       SQP NLP solver\n",
            "    ipopt        Interior point NLP solver\n",
            "    knitro       Convex MINLP solver\n",
            "    l-bfgs-b     Bound-constrained NLP solver\n",
            "    lancelot     Augmented Lagrangian NLP solver\n",
            "    lgo          Lipschitz-Continuous Global Optimizer\n",
            "    loqo         Interior point NLP solver\n",
            "    minlp        Heuristic MINLP solver\n",
            "    minos        SLC NLP solver\n",
            "    minto        MILP solver\n",
            "    mosek        Interior point NLP solver\n",
            "    octeract     Deterministic global MINLP solver\n",
            "    ooqp         Convex QP solver\n",
            "    path         Nonlinear MCP solver\n",
            "    raposa       A Global Solver for Polynomial Programming Problems\n",
            "    snopt        SQP NLP solver\n",
            "\n"
          ]
        }
      ]
    },
    {
      "cell_type": "code",
      "source": [
        "!pyomo solve --help"
      ],
      "metadata": {
        "colab": {
          "base_uri": "https://localhost:8080/"
        },
        "id": "JGYQS8O3XQh9",
        "outputId": "701c25fd-57d0-4d8a-d18c-e4ea5c0819ab"
      },
      "execution_count": 83,
      "outputs": [
        {
          "output_type": "stream",
          "name": "stdout",
          "text": [
            "usage: pyomo solve [options] <model_or_config_file> [<data_files>]\n",
            "\n",
            "positional arguments:\n",
            "  model_or_config_file  A Python module that defines a Pyomo model, or a\n",
            "                        configuration file that defines options for 'pyomo\n",
            "                        solve' (in either YAML or JSON format)\n",
            "  data_files            Pyomo data files that defined data used to initialize\n",
            "                        the model (specified in the first argument)\n",
            "\n",
            "optional arguments:\n",
            "  -h, --help            show this help message and exit\n",
            "  --generate-config-template TEMPLATE\n",
            "                        Create a configuration template file in YAML or JSON\n",
            "                        and exit.\n",
            "  --solver SOLVER       Solver name. This option is required unless the solver\n",
            "                        name is specified in a configuration file.\n",
            "\n",
            "Description:\n",
            "\n",
            "The 'pyomo solve' subcommand optimizes a Pyomo model.  The --solver option\n",
            "is required because the specific steps executed are solver dependent.\n",
            "The standard steps executed by this subcommand are:\n",
            "\n",
            "  - Apply pre-solve operations (e.g. import Python packages)\n",
            "  - Create the model\n",
            "  - Apply model transformations\n",
            "  - Perform optimization\n",
            "  - Apply post-solve operations (e.g. save optimal solutions)\n",
            "\n",
            "This subcommand can be executed with or without a configuration file.\n",
            "The command-line options can be used to perform simple optimization steps.\n",
            "For example:\n",
            "\n",
            "  pyomo solve --solver=glpk model.py model.dat\n",
            "\n",
            "This uses the 'glpk' solver to optimize the model define in 'model.py'\n",
            "using the Pyomo data file 'pyomo.dat'.  Solver-specific command-line\n",
            "options can be listed by specifying the '--solver' option and the '--help'\n",
            "(or '-h') option:\n",
            "\n",
            "  pyomo solve --solver=glpk --help\n",
            "\n",
            "A yaml or json configuration file can also be used to specify\n",
            "options used by the solver.  For example:\n",
            "\n",
            "  pyomo solve --solver=glpk config.yaml\n",
            "\n",
            "No other command-line options are required!  Further, the '--solver'\n",
            "option can be omitted if the solver name is specified in the configuration\n",
            "file.\n",
            "\n",
            "Configuration options are also solver-specific; a template configuration\n",
            "file can be generated with the '--generate-config-template' option:\n",
            "\n",
            "  pyomo solve --solver=glpk --generate-config-template=template.yaml\n",
            "  pyomo solve --solver=glpk --generate-config-template=template.json\n",
            "\n",
            "Note that yaml template files contain comments that describe the\n",
            "configuration options.  Also, configuration files will generally support\n",
            "more configuration options than are available with command-line options.\n"
          ]
        }
      ]
    },
    {
      "cell_type": "code",
      "source": [
        ""
      ],
      "metadata": {
        "id": "uwcGV035q5q7"
      },
      "execution_count": null,
      "outputs": []
    },
    {
      "cell_type": "code",
      "source": [
        "%matplotlib inline\n",
        "from itertools import chain\n",
        "import logging\n",
        "from mpl_toolkits.mplot3d import Axes3D  \n",
        "import matplotlib.pyplot as plt\n",
        "import math\n",
        "import numpy as np\n",
        "import random\n",
        "from scipy.interpolate import interp2d\n",
        "from scipy.integrate import odeint\n",
        "\n",
        "import shutil\n",
        "import sys\n",
        "import os.path\n",
        "\n",
        "if not shutil.which(\"pyomo\"):\n",
        "    !pip install -q pyomo\n",
        "    assert(shutil.which(\"pyomo\"))\n",
        "\n",
        "if not (shutil.which(\"cbc\") or os.path.isfile(\"cbc\")):\n",
        "    if \"google.colab\" in sys.modules:\n",
        "        !apt-get install -y -qq coinor-cbc\n",
        "    else:\n",
        "        try:\n",
        "            !conda install -c conda-forge coincbc \n",
        "        except:\n",
        "            pass\n",
        "\n",
        "assert(shutil.which(\"cbc\") or os.path.isfile(\"cbc\"))\n",
        "\n",
        "from pyomo.environ import *"
      ],
      "metadata": {
        "colab": {
          "base_uri": "https://localhost:8080/"
        },
        "id": "yAujKcZvq5n9",
        "outputId": "fcf1fff9-6501-4a8c-86d1-7aefe3aae917"
      },
      "execution_count": 1,
      "outputs": [
        {
          "output_type": "stream",
          "name": "stdout",
          "text": [
            "Selecting previously unselected package coinor-libcoinutils3v5.\n",
            "(Reading database ... 156210 files and directories currently installed.)\n",
            "Preparing to unpack .../0-coinor-libcoinutils3v5_2.10.14+repack1-1_amd64.deb ...\n",
            "Unpacking coinor-libcoinutils3v5 (2.10.14+repack1-1) ...\n",
            "Selecting previously unselected package coinor-libosi1v5.\n",
            "Preparing to unpack .../1-coinor-libosi1v5_0.107.9+repack1-1_amd64.deb ...\n",
            "Unpacking coinor-libosi1v5 (0.107.9+repack1-1) ...\n",
            "Selecting previously unselected package coinor-libclp1.\n",
            "Preparing to unpack .../2-coinor-libclp1_1.16.11+repack1-1_amd64.deb ...\n",
            "Unpacking coinor-libclp1 (1.16.11+repack1-1) ...\n",
            "Selecting previously unselected package coinor-libcgl1.\n",
            "Preparing to unpack .../3-coinor-libcgl1_0.59.10+repack1-1_amd64.deb ...\n",
            "Unpacking coinor-libcgl1 (0.59.10+repack1-1) ...\n",
            "Selecting previously unselected package coinor-libcbc3.\n",
            "Preparing to unpack .../4-coinor-libcbc3_2.9.9+repack1-1_amd64.deb ...\n",
            "Unpacking coinor-libcbc3 (2.9.9+repack1-1) ...\n",
            "Selecting previously unselected package coinor-cbc.\n",
            "Preparing to unpack .../5-coinor-cbc_2.9.9+repack1-1_amd64.deb ...\n",
            "Unpacking coinor-cbc (2.9.9+repack1-1) ...\n",
            "Setting up coinor-libcoinutils3v5 (2.10.14+repack1-1) ...\n",
            "Setting up coinor-libosi1v5 (0.107.9+repack1-1) ...\n",
            "Setting up coinor-libclp1 (1.16.11+repack1-1) ...\n",
            "Setting up coinor-libcgl1 (0.59.10+repack1-1) ...\n",
            "Setting up coinor-libcbc3 (2.9.9+repack1-1) ...\n",
            "Setting up coinor-cbc (2.9.9+repack1-1) ...\n",
            "Processing triggers for man-db (2.8.3-2ubuntu0.1) ...\n",
            "Processing triggers for libc-bin (2.27-3ubuntu1.3) ...\n",
            "/sbin/ldconfig.real: /usr/local/lib/libesmumps-6.so is not a symbolic link\n",
            "\n",
            "/sbin/ldconfig.real: /usr/local/lib/libscotcherrexit-6.so is not a symbolic link\n",
            "\n",
            "/sbin/ldconfig.real: /usr/local/lib/libscotchmetis-6.so is not a symbolic link\n",
            "\n",
            "/sbin/ldconfig.real: /usr/local/lib/libscotch-6.so is not a symbolic link\n",
            "\n",
            "/sbin/ldconfig.real: /usr/local/lib/libscotcherr-6.so is not a symbolic link\n",
            "\n",
            "/sbin/ldconfig.real: /usr/local/lib/python3.7/dist-packages/ideep4py/lib/libmkldnn.so.0 is not a symbolic link\n",
            "\n"
          ]
        }
      ]
    },
    {
      "cell_type": "code",
      "source": [
        "def mpc_double_integrator(N=2, h=1):\n",
        "    m = ConcreteModel()\n",
        "    m.states = RangeSet(1, 2)\n",
        "    m.k = RangeSet(0, N)\n",
        "    \n",
        "    m.h = Param(initialize=h, mutable=True)\n",
        "    m.ic = Param(m.states, initialize={1:0.5, 2:0.5}, mutable=True)\n",
        "    m.gamma = Param(default=0.5, mutable=True)\n",
        "    \n",
        "    m.x = Var(m.states, m.k)\n",
        "    m.icfix = Constraint(m.states, rule = lambda m, i: m.x[i,0] == m.ic[i])\n",
        "    m.x[1,N].fix(0)\n",
        "    m.x[2,N].fix(0)\n",
        "    \n",
        "    m.u = Var(m.k, bounds=(-1, 1))\n",
        "    m.upos = Var(m.k, bounds=(0, 1))\n",
        "    m.uneg = Var(m.k, bounds=(0, 1))\n",
        "    m.usum = Constraint(m.k, rule = lambda m, k: m.u[k] == m.upos[k] - m.uneg[k])   \n",
        "  \n",
        "    m.y = Var(m.k, bounds=(-1, 1))\n",
        "    m.ypos = Var(m.k, bounds=(0, 1))\n",
        "    m.yneg = Var(m.k, bounds=(0, 1))\n",
        "    m.ysum = Constraint(m.k, rule = lambda m, k: m.y[k] == m.ypos[k] - m.yneg[k])\n",
        "\n",
        "    m.x1_update = Constraint(m.k, rule = lambda m, k:\n",
        "           m.x[1,k+1] == m.x[1,k] + m.h*m.x[2,k] + m.h**2*m.u[k]/2 if k < N else Constraint.Skip)\n",
        "    m.x2_update = Constraint(m.k, rule = lambda m, k:\n",
        "           m.x[2,k+1] == m.x[2,k] + m.h*m.u[k] if k < N else Constraint.Skip)\n",
        "    m.y_output = Constraint(m.k, rule = lambda m, k: m.y[k] == m.x[1,k])\n",
        "    \n",
        "    m.uobj = m.gamma*sum(m.upos[k] + m.uneg[k] for k in m.k)\n",
        "    m.yobj = (1-m.gamma)*sum(m.ypos[k] + m.yneg[k] for k in m.k)\n",
        "    m.obj = Objective(expr = m.uobj + m.yobj, sense=minimize)\n",
        "    \n",
        "    return m"
      ],
      "metadata": {
        "id": "54zr0vGOrI5f"
      },
      "execution_count": 2,
      "outputs": []
    },
    {
      "cell_type": "code",
      "source": [
        "def plot_results(m):\n",
        "    results = SolverFactory('cbc').solve(m)\n",
        "    if str(results.solver.termination_condition) != \"optimal\":\n",
        "        print(results.solver.termination_condition)\n",
        "        return\n",
        "    \n",
        "    # solution data at sample times\n",
        "    h = m.h()\n",
        "    K = np.array([k for k in m.k])  \n",
        "    u = [m.u[k]() for k in K]\n",
        "    y = [m.y[k]() for k in K]\n",
        "    v = [m.x[2,k]() for k in K]\n",
        "    \n",
        "    # interpolate between sample times\n",
        "    t = np.linspace(0, h) \n",
        "    tp = [_ for _ in chain.from_iterable(k*h + t for k in K[:-1])]\n",
        "    up = [_ for _ in chain.from_iterable(u[k] + t*0 for k in K[:-1])]\n",
        "    yp = [_ for _ in chain.from_iterable(y[k] + t*(v[k] + t*u[k]/2) for k in K[:-1])]\n",
        "    vp = [_ for _ in chain.from_iterable(v[k] + t*u[k] for k in K[:-1])]\n",
        "\n",
        "    fig = plt.figure(figsize=(10,5))\n",
        "    \n",
        "    ax1 = fig.add_subplot(3, 2, 1)\n",
        "    ax1.plot(tp, yp, 'r--', h*K, y, 'bo')\n",
        "    ax1.set_title('position')\n",
        "\n",
        "    ax2 = fig.add_subplot(3, 2, 3)\n",
        "    ax2.plot(tp, vp, 'r--', h*K, v, 'bo')\n",
        "    ax2.set_title('velocity')\n",
        "\n",
        "    ax3 = fig.add_subplot(3, 2, 5)\n",
        "    ax3.plot(np.append(tp, K[-1]*h), np.append(up, u[-1]), 'r--', h*K, u, 'bo')\n",
        "    ax3.set_title('control force  u[0] = {0:<6.3f}'.format(u[0]))\n",
        "\n",
        "    ax4 = fig.add_subplot(1, 2, 2)\n",
        "    ax4.plot(yp, vp, 'r--', y, v, 'bo')\n",
        "    ax4.set_xlim([-1.1, 1.1])\n",
        "    ax4.set_aspect('equal', 'box')\n",
        "    ax4.set_title('phase plane')\n",
        "    ax4.set_xlabel('position')\n",
        "    ax4.set_ylabel('velocity')\n",
        "    \n",
        "    for ax in [ax1, ax2, ax3, ax4]:\n",
        "        ax.set_ylim(-1.1, 1.1)\n",
        "        ax.grid(True)\n",
        "    fig.tight_layout()\n",
        "\n",
        "model = mpc_double_integrator(5, 0.5)\n",
        "model.ic[1] = 1.0\n",
        "model.ic[2] = 0.2\n",
        "\n",
        "SolverFactory('cbc').solve(model)\n",
        "plot_results(model)"
      ],
      "metadata": {
        "colab": {
          "base_uri": "https://localhost:8080/",
          "height": 378
        },
        "id": "Wee76wDKrI2M",
        "outputId": "a294a7b0-f971-494b-eaf7-ae4d7cfdf6d7"
      },
      "execution_count": 3,
      "outputs": [
        {
          "output_type": "display_data",
          "data": {
            "text/plain": [
              "<Figure size 720x360 with 4 Axes>"
            ],
            "image/png": "[encoded data removed]"
          },
          "metadata": {
            "needs_background": "light"
          }
        }
      ]
    },
    {
      "cell_type": "code",
      "source": [
        ""
      ],
      "metadata": {
        "id": "xSjLzlf-rIzL"
      },
      "execution_count": null,
      "outputs": []
    },
    {
      "cell_type": "code",
      "source": [
        ""
      ],
      "metadata": {
        "id": "e9NozhKgrIwY"
      },
      "execution_count": null,
      "outputs": []
    },
    {
      "cell_type": "code",
      "source": [
        ""
      ],
      "metadata": {
        "id": "c6_dSadrrIte"
      },
      "execution_count": null,
      "outputs": []
    }
  ]
}