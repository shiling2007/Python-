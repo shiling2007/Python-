{
  "nbformat": 4,
  "nbformat_minor": 0,
  "metadata": {
    "colab": {
      "name": "CVXPOT-mpc-1-1a.ipynb",
      "provenance": [],
      "collapsed_sections": [],
      "authorship_tag": "ABX9TyNvemSN5FOFij98/k/Uf5/V",
      "include_colab_link": true
    },
    "kernelspec": {
      "display_name": "Python 3",
      "name": "python3"
    },
    "language_info": {
      "name": "python"
    }
  },
  "cells": [
    {
      "cell_type": "markdown",
      "metadata": {
        "id": "view-in-github",
        "colab_type": "text"
      },
      "source": [
        "<a href=\"https://colab.research.google.com/github/shiling2007/Python-/blob/main/CVXPOT_mpc_1_1a.ipynb\" target=\"_parent\"><img src=\"https://colab.research.google.com/assets/colab-badge.svg\" alt=\"Open In Colab\"/></a>"
      ]
    },
    {
      "cell_type": "code",
      "metadata": {
        "colab": {
          "base_uri": "https://localhost:8080/",
          "height": 17
        },
        "id": "g7sSfY_7o-pn",
        "outputId": "1eacfddb-8f63-4a66-9ae9-08c89a5a5e6d"
      },
      "source": [
        "# https://osqp.org/docs/examples/mpc.html\n",
        "\n",
        "from IPython.core.display import display, HTML, Image\n",
        "display(HTML(\"<style>.container { width:100% !important; }</style>\"))\n",
        "# from IPython.core.interactiveshell import InteractiveShell\n",
        "# InteractiveShell.ast_node_interactivity = \"all\"\n",
        "# from google.colab import drive\n",
        "# drive.mount('/content/drive')\n",
        "# from google.colab import files\n",
        "# files.download('/content/drive/MyDrive/Colab Notebooks/Lease Payment Formula.ipynb') \n",
        "import matplotlib.pyplot as plt\n",
        "import numpy as np\n",
        "np.set_printoptions(edgeitems=30, linewidth=100000, \n",
        "    formatter=dict(float=lambda x: \"%.8f\" % x))\n",
        "import pandas as pd\n",
        "pd.set_option('display.max_rows', 10)\n",
        "pd.set_option('display.max_columns', 500)\n",
        "pd.set_option('display.width', 999)\n",
        "pd.set_option(\"max_colwidth\", 500)\n",
        "# try:\n",
        "#  device_name = os.environ['COLAB_TPU_ADDR']\n",
        "#  TPU_ADDRESS = 'grpc://' + device_name\n",
        "#  print('Found TPU at: {}'.format(TPU_ADDRESS))\n",
        "# except KeyError:\n",
        "#  print('TPU not found')\n",
        "%load_ext autoreload\n",
        "%autoreload 2"
      ],
      "execution_count": null,
      "outputs": [
        {
          "output_type": "display_data",
          "data": {
            "text/plain": [
              "<IPython.core.display.HTML object>"
            ],
            "text/html": [
              "<style>.container { width:100% !important; }</style>"
            ]
          },
          "metadata": {}
        }
      ]
    },
    {
      "cell_type": "code",
      "source": [
        "# Generate data for control problem.\n",
        "import numpy as np\n",
        "from cvxopt import solvers\n",
        "solvers.options['show_progress'] = True\n",
        "import cvxpy as cp\n",
        "\n",
        "np.random.seed(1)\n",
        "n = 2\n",
        "m = 1\n",
        "T = 8\n",
        "N = 10*T"
      ],
      "metadata": {
        "id": "CPEFXbjIhzMg"
      },
      "execution_count": 13,
      "outputs": []
    },
    {
      "cell_type": "code",
      "source": [
        "A=np.array([[1,1],[0,1]])\n",
        "B=np.array([[0],[1]])\n",
        "x_0 = np.array([0,0])"
      ],
      "metadata": {
        "id": "bvHr9yx0hzIv"
      },
      "execution_count": 14,
      "outputs": []
    },
    {
      "cell_type": "code",
      "source": [
        "A.shape, B.shape, A, B, x_0"
      ],
      "metadata": {
        "colab": {
          "base_uri": "https://localhost:8080/"
        },
        "id": "v2cCYHnkhzFB",
        "outputId": "403a9f7a-30e4-4a16-d76f-8329deed7e00"
      },
      "execution_count": 15,
      "outputs": [
        {
          "output_type": "execute_result",
          "data": {
            "text/plain": [
              "((2, 2), (2, 1), array([[1, 1],\n",
              "        [0, 1]]), array([[0],\n",
              "        [1]]), array([0, 0]))"
            ]
          },
          "metadata": {},
          "execution_count": 15
        }
      ]
    },
    {
      "cell_type": "code",
      "source": [
        "# Constraints\n",
        "umin = np.array([-6]) \n",
        "umax = np.array([4]) "
      ],
      "metadata": {
        "id": "0YQlirHQtEWU"
      },
      "execution_count": 16,
      "outputs": []
    },
    {
      "cell_type": "code",
      "source": [
        "# Define problem\n",
        "\n",
        "x = cp.Variable((n, T+1))\n",
        "u = cp.Variable((m, T))\n",
        "x_init = cp.Parameter(n)\n",
        "\n",
        "cost = 0\n",
        "\n",
        "constr = [x[:,0] == x_init]\n",
        "for t in range(T):\n",
        "    cost += cp.sum_squares((x[1,t+1]-10)/10) + cp.sum_squares(u[:,t]) \n",
        "\n",
        "    constr += [x[:,t+1] == A@x[:,t] + B@u[:,t]]\n",
        "    constr += [umin <= u[:,t], u[:,t] <= umax]\n",
        "\n",
        "# sums problem objectives and concatenates constraints.\n",
        "# constr += [x[1,T] == 10, x[:,0] == x_0]\n",
        "\n",
        "problem = cp.Problem(cp.Minimize(cost), constr)\n",
        "\n",
        "\n",
        "# Abstract— In this paper, we describe the embedded conic\n",
        "# solver (ECOS), an interior-point solver for second-order cone\n",
        "# programming (SOCP) designed specifically for embedded applications. ECOS is written in low footprint, single-threaded,\n",
        "# library-free ANSI-C and so runs on most embedded platforms.\n",
        "# The main interior-point algorithm is a standard primal-dual\n",
        "# Mehrotra predictor-corrector method with Nesterov-Todd scaling and self-dual embedding, with search directions found via\n",
        "# a symmetric indefinite KKT system, chosen to allow stable\n",
        "# factorization with a fixed pivoting order. The indefinite system\n",
        "# is solved using Davis’ SparseLDL package, which we modify\n",
        "# by adding dynamic regularization and iterative refinement\n",
        "# for stability and reliability, as is done in the CVXGEN code\n",
        "# generation system, allowing us to avoid all numerical pivoting;\n",
        "# the elimination ordering is found entirely symbolically. This\n",
        "# keeps the solver simple, only 750 lines of code, with virtually no\n",
        "# variation in run time. For small problems, ECOS is faster than\n",
        "# most existing SOCP solvers; it is still competitive for mediumsized problems up to tens of thousands of variables.\n",
        "# Disciplined convex programming (DCP) is a system for constructing mathematical expressions with known curvature from a given library of base functions\n",
        "# ECOS interior point"
      ],
      "metadata": {
        "id": "UlSnyS5Hioku"
      },
      "execution_count": 17,
      "outputs": []
    },
    {
      "cell_type": "code",
      "source": [
        "np.set_printoptions(edgeitems=30, linewidth=100000, \n",
        "    formatter=dict(float=lambda x: \"%.8f\" % x))\n",
        "for nsim in range(N):\n",
        "  x_init.value = x_0\n",
        "  data, chain, inverse_data = problem.get_problem_data(solver=cp.ECOS)\n",
        "  soln = chain.solve_via_data(problem, data)\n",
        "  problem.unpack_results(soln, chain, inverse_data)\n",
        "  x_key, u_key=list(problem.solution.primal_vars.keys())[0], list(problem.solution.primal_vars.keys())[1]\n",
        "  x_0=problem.solution.primal_vars.get(x_key)[:,1]\n",
        "  u_0=problem.solution.primal_vars.get(u_key)[:,0]\n",
        "  print('nsim=', nsim, '\\t'*2, 'x_0=', x_0, '\\t',  'u_0=', u_0)\n"
      ],
      "metadata": {
        "colab": {
          "base_uri": "https://localhost:8080/"
        },
        "id": "4YXjdT5M9SMD",
        "outputId": "b6aa529f-e5c0-4c43-d3f1-ba8d900cca4c"
      },
      "execution_count": 18,
      "outputs": [
        {
          "output_type": "stream",
          "name": "stdout",
          "text": [
            "nsim= 0 \t\t x_0= [-0.00000000 0.64175074] \t u_0= [0.64175074]\n",
            "nsim= 1 \t\t x_0= [0.64175074 1.24231183] \t u_0= [0.60056109]\n",
            "nsim= 2 \t\t x_0= [1.88406258 1.80433535] \t u_0= [0.56202352]\n",
            "nsim= 3 \t\t x_0= [3.68839793 2.33029106] \t u_0= [0.52595571]\n",
            "nsim= 4 \t\t x_0= [6.01868899 2.82249380] \t u_0= [0.49220274]\n",
            "nsim= 5 \t\t x_0= [8.84118279 3.28310951] \t u_0= [0.46061571]\n",
            "nsim= 6 \t\t x_0= [12.12429230 3.71416516] \t u_0= [0.43105565]\n",
            "nsim= 7 \t\t x_0= [15.83845746 4.11755595] \t u_0= [0.40339079]\n",
            "nsim= 8 \t\t x_0= [19.95601341 4.49505973] \t u_0= [0.37750378]\n",
            "nsim= 9 \t\t x_0= [24.45107314 4.84833790] \t u_0= [0.35327817]\n",
            "nsim= 10 \t\t x_0= [29.29941105 5.17894796] \t u_0= [0.33061005]\n",
            "nsim= 11 \t\t x_0= [34.47835900 5.48833946] \t u_0= [0.30939150]\n",
            "nsim= 12 \t\t x_0= [39.96669846 5.77787348] \t u_0= [0.28953402]\n",
            "nsim= 13 \t\t x_0= [45.74457194 6.04882694] \t u_0= [0.27095346]\n",
            "nsim= 14 \t\t x_0= [51.79339889 6.30239161] \t u_0= [0.25356467]\n",
            "nsim= 15 \t\t x_0= [58.09579049 6.53968951] \t u_0= [0.23729790]\n",
            "nsim= 16 \t\t x_0= [64.63548000 6.76175901] \t u_0= [0.22206951]\n",
            "nsim= 17 \t\t x_0= [71.39723901 6.96957331] \t u_0= [0.20781429]\n",
            "nsim= 18 \t\t x_0= [78.36681232 7.16404989] \t u_0= [0.19447658]\n",
            "nsim= 19 \t\t x_0= [85.53086221 7.34604598] \t u_0= [0.18199609]\n",
            "nsim= 20 \t\t x_0= [92.87690818 7.51636325] \t u_0= [0.17031727]\n",
            "nsim= 21 \t\t x_0= [100.39327144 7.67575141] \t u_0= [0.15938816]\n",
            "nsim= 22 \t\t x_0= [108.06902285 7.82491161] \t u_0= [0.14916019]\n",
            "nsim= 23 \t\t x_0= [115.89393446 7.96449981] \t u_0= [0.13958820]\n",
            "nsim= 24 \t\t x_0= [123.85843427 8.09513022] \t u_0= [0.13063041]\n",
            "nsim= 25 \t\t x_0= [131.95356448 8.21737760] \t u_0= [0.12224738]\n",
            "nsim= 26 \t\t x_0= [140.17094208 8.33177982] \t u_0= [0.11440222]\n",
            "nsim= 27 \t\t x_0= [148.50272190 8.43884018] \t u_0= [0.10706036]\n",
            "nsim= 28 \t\t x_0= [156.94156208 8.53902974] \t u_0= [0.10018956]\n",
            "nsim= 29 \t\t x_0= [165.48059182 8.63278913] \t u_0= [0.09375939]\n",
            "nsim= 30 \t\t x_0= [174.11338095 8.72053039] \t u_0= [0.08774126]\n",
            "nsim= 31 \t\t x_0= [182.83391134 8.80264032] \t u_0= [0.08210992]\n",
            "nsim= 32 \t\t x_0= [191.63655166 8.87948136] \t u_0= [0.07684104]\n",
            "nsim= 33 \t\t x_0= [200.51603301 8.95138973] \t u_0= [0.07190838]\n",
            "nsim= 34 \t\t x_0= [209.46742275 9.01868285] \t u_0= [0.06729311]\n",
            "nsim= 35 \t\t x_0= [218.48610559 9.08166139] \t u_0= [0.06297854]\n",
            "nsim= 36 \t\t x_0= [227.56776698 9.14059806] \t u_0= [0.05893667]\n",
            "nsim= 37 \t\t x_0= [236.70836504 9.19575383] \t u_0= [0.05515577]\n",
            "nsim= 38 \t\t x_0= [245.90411886 9.24737066] \t u_0= [0.05161683]\n",
            "nsim= 39 \t\t x_0= [255.15148952 9.29567163] \t u_0= [0.04830097]\n",
            "nsim= 40 \t\t x_0= [264.44716115 9.34087248] \t u_0= [0.04520086]\n",
            "nsim= 41 \t\t x_0= [273.78803364 9.38317144] \t u_0= [0.04229895]\n",
            "nsim= 42 \t\t x_0= [283.17120507 9.42275801] \t u_0= [0.03958657]\n",
            "nsim= 43 \t\t x_0= [292.59396308 9.45980372] \t u_0= [0.03704571]\n",
            "nsim= 44 \t\t x_0= [302.05376680 9.49447255] \t u_0= [0.03466883]\n",
            "nsim= 45 \t\t x_0= [311.54823935 9.52691600] \t u_0= [0.03244345]\n",
            "nsim= 46 \t\t x_0= [321.07515535 9.55727671] \t u_0= [0.03036071]\n",
            "nsim= 47 \t\t x_0= [330.63243206 9.58568813] \t u_0= [0.02841142]\n",
            "nsim= 48 \t\t x_0= [340.21812019 9.61227539] \t u_0= [0.02658726]\n",
            "nsim= 49 \t\t x_0= [349.83039558 9.63715552] \t u_0= [0.02488013]\n",
            "nsim= 50 \t\t x_0= [359.46755110 9.66043791] \t u_0= [0.02328240]\n",
            "nsim= 51 \t\t x_0= [369.12798901 9.68222545] \t u_0= [0.02178753]\n",
            "nsim= 52 \t\t x_0= [378.81021446 9.70261420] \t u_0= [0.02038875]\n",
            "nsim= 53 \t\t x_0= [388.51282865 9.72169967] \t u_0= [0.01908547]\n",
            "nsim= 54 \t\t x_0= [398.23452832 9.73955921] \t u_0= [0.01785954]\n",
            "nsim= 55 \t\t x_0= [407.97408753 9.75627273] \t u_0= [0.01671352]\n",
            "nsim= 56 \t\t x_0= [417.73036026 9.77191474] \t u_0= [0.01564201]\n",
            "nsim= 57 \t\t x_0= [427.50227500 9.78655564] \t u_0= [0.01464089]\n",
            "nsim= 58 \t\t x_0= [437.28883064 9.80025713] \t u_0= [0.01370150]\n",
            "nsim= 59 \t\t x_0= [447.08908778 9.81307939] \t u_0= [0.01282225]\n",
            "nsim= 60 \t\t x_0= [456.90216717 9.82508042] \t u_0= [0.01200103]\n",
            "nsim= 61 \t\t x_0= [466.72724759 9.83630982] \t u_0= [0.01122940]\n",
            "nsim= 62 \t\t x_0= [476.56355741 9.84681629] \t u_0= [0.01050647]\n",
            "nsim= 63 \t\t x_0= [486.41037369 9.85664719] \t u_0= [0.00983090]\n",
            "nsim= 64 \t\t x_0= [496.26702088 9.86584780] \t u_0= [0.00920061]\n",
            "nsim= 65 \t\t x_0= [506.13286868 9.87445744] \t u_0= [0.00860964]\n",
            "nsim= 66 \t\t x_0= [516.00732612 9.88251441] \t u_0= [0.00805697]\n",
            "nsim= 67 \t\t x_0= [525.88984054 9.89005430] \t u_0= [0.00753989]\n",
            "nsim= 68 \t\t x_0= [535.77989484 9.89711032] \t u_0= [0.00705602]\n",
            "nsim= 69 \t\t x_0= [545.67700516 9.90371353] \t u_0= [0.00660321]\n",
            "nsim= 70 \t\t x_0= [555.58071869 9.90989300] \t u_0= [0.00617947]\n",
            "nsim= 71 \t\t x_0= [565.49061168 9.91567594] \t u_0= [0.00578294]\n",
            "nsim= 72 \t\t x_0= [575.40628762 9.92108783] \t u_0= [0.00541189]\n",
            "nsim= 73 \t\t x_0= [585.32737545 9.92615251] \t u_0= [0.00506468]\n",
            "nsim= 74 \t\t x_0= [595.25352795 9.93089233] \t u_0= [0.00473983]\n",
            "nsim= 75 \t\t x_0= [605.18442028 9.93532847] \t u_0= [0.00443614]\n",
            "nsim= 76 \t\t x_0= [615.11974876 9.93948032] \t u_0= [0.00415185]\n",
            "nsim= 77 \t\t x_0= [625.05922908 9.94336578] \t u_0= [0.00388545]\n",
            "nsim= 78 \t\t x_0= [635.00259485 9.94700192] \t u_0= [0.00363614]\n",
            "nsim= 79 \t\t x_0= [644.94959677 9.95040462] \t u_0= [0.00340270]\n"
          ]
        }
      ]
    },
    {
      "cell_type": "code",
      "source": [
        "###end here"
      ],
      "metadata": {
        "id": "hKYe8JVlNxSZ"
      },
      "execution_count": null,
      "outputs": []
    },
    {
      "cell_type": "code",
      "source": [
        ""
      ],
      "metadata": {
        "id": "ykMMR8ZnNw-b"
      },
      "execution_count": null,
      "outputs": []
    },
    {
      "cell_type": "code",
      "source": [
        "print (\"optimal value with ECOS:\", problem.value)"
      ],
      "metadata": {
        "colab": {
          "base_uri": "https://localhost:8080/"
        },
        "id": "PecMXjHg9SIk",
        "outputId": "117fe1dc-b0b7-44aa-ebb0-e547f01eee04"
      },
      "execution_count": null,
      "outputs": [
        {
          "output_type": "stream",
          "name": "stdout",
          "text": [
            "optimal value with ECOS: 6.4174767412140685\n"
          ]
        }
      ]
    },
    {
      "cell_type": "code",
      "source": [
        "problem.solution.primal_vars"
      ],
      "metadata": {
        "colab": {
          "base_uri": "https://localhost:8080/"
        },
        "id": "Ay1fuCkl9SFD",
        "outputId": "ceaed6b0-24b4-4be8-ecd6-fc6d0eb6a001"
      },
      "execution_count": null,
      "outputs": [
        {
          "output_type": "execute_result",
          "data": {
            "text/plain": [
              "{4002: array([[-0.00000000, -0.00000000, 0.64175074, 1.83166651, 3.48164236, 5.50817762, 7.83153804, 10.37495791, 13.06387533],\n",
              "        [-0.00000000, 0.64175074, 1.18991576, 1.64997585, 2.02653526, 2.32336042, 2.54341987, 2.68891742, 2.76130610]]),\n",
              " 4003: array([[0.64175074, 0.54816502, 0.46006009, 0.37655941, 0.29682516, 0.22005945, 0.14549754, 0.07238868]])}"
            ]
          },
          "metadata": {},
          "execution_count": 25
        }
      ]
    },
    {
      "cell_type": "code",
      "source": [
        "x_key, u_key=list(problem.solution.primal_vars.keys())[0], list(problem.solution.primal_vars.keys())[1]\n",
        "problem.solution.primal_vars.get(x_key),problem.solution.primal_vars.get(u_key)"
      ],
      "metadata": {
        "colab": {
          "base_uri": "https://localhost:8080/"
        },
        "id": "7euROIRO9SBU",
        "outputId": "99765f7a-dc28-4a06-c623-1d8daf19686d"
      },
      "execution_count": null,
      "outputs": [
        {
          "output_type": "execute_result",
          "data": {
            "text/plain": [
              "(array([[-0.00000000, -0.00000000, 0.64175074, 1.83166651, 3.48164236, 5.50817762, 7.83153804, 10.37495791, 13.06387533],\n",
              "        [-0.00000000, 0.64175074, 1.18991576, 1.64997585, 2.02653526, 2.32336042, 2.54341987, 2.68891742, 2.76130610]]),\n",
              " array([[0.64175074, 0.54816502, 0.46006009, 0.37655941, 0.29682516, 0.22005945, 0.14549754, 0.07238868]]))"
            ]
          },
          "metadata": {},
          "execution_count": 52
        }
      ]
    },
    {
      "cell_type": "code",
      "source": [
        ""
      ],
      "metadata": {
        "id": "LD_z4G8W5uQI"
      },
      "execution_count": null,
      "outputs": []
    },
    {
      "cell_type": "code",
      "source": [
        "for t in range(T):\n",
        "    cost += cp.sum_squares(x[:,t+1]) + cp.sum_squares(u[:,t])  \\\n",
        "        + cp.sum_squares( cp.exp( -0.5*(x[:,t+1] - xf[:,t+1]))) + cp.sum( cp.exp( -0.5*x[:,t+1] - xf[:,t+1]))  + cp.norm1(x[:,t+1]) + cp.tv(x[:,t+1]) \\\n",
        "         + cp.sum_squares(cp.abs(x[:,t+1] - xf[:,t+1] )) # +  cp.sum( exp( -(x[:,t+1]*x[:,t+1])))\n",
        "    constr += [x[:,t+1] == A@x[:,t] + B@u[:,t],\n",
        "               cp.norm(u[:,t], 'inf') <= 1]\n",
        "# sums problem objectives and concatenates constraints.\n",
        "constr += [x[:,T] == 0, x[:,0] == x_0]\n",
        "\n",
        "\n",
        "problem = cp.Problem(cp.Minimize(cost), constr)\n",
        "# problem.solve(solver=cp.ECOS, verbose=True)\n",
        "%time problem.solve(solver=cp.ECOS, verbose=True)\n",
        "\n",
        "# Disciplined convex programming (DCP) is a system for constructing mathematical expressions with known curvature from a given library of base functions\n",
        "# ECOS interior point"
      ],
      "metadata": {
        "id": "tPMNxekt5t3i"
      },
      "execution_count": null,
      "outputs": []
    },
    {
      "cell_type": "code",
      "source": [
        ""
      ],
      "metadata": {
        "id": "6cNWKbjY-umA"
      },
      "execution_count": null,
      "outputs": []
    }
  ]
}