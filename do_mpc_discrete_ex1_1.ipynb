{
  "nbformat": 4,
  "nbformat_minor": 0,
  "metadata": {
    "colab": {
      "name": "do-mpc-discrete-ex1-1.ipynb",
      "provenance": [],
      "collapsed_sections": [],
      "authorship_tag": "ABX9TyMI5B5Wzec0QsRrk4xkRiDA",
      "include_colab_link": true
    },
    "kernelspec": {
      "display_name": "Python 3",
      "name": "python3"
    },
    "language_info": {
      "name": "python"
    }
  },
  "cells": [
    {
      "cell_type": "markdown",
      "metadata": {
        "id": "view-in-github",
        "colab_type": "text"
      },
      "source": [
        "<a href=\"https://colab.research.google.com/github/shiling2007/Python-/blob/main/do_mpc_discrete_ex1_1.ipynb\" target=\"_parent\"><img src=\"https://colab.research.google.com/assets/colab-badge.svg\" alt=\"Open In Colab\"/></a>"
      ]
    },
    {
      "cell_type": "code",
      "metadata": {
        "colab": {
          "base_uri": "https://localhost:8080/",
          "height": 17
        },
        "id": "g7sSfY_7o-pn",
        "outputId": "dd29efcb-c062-4545-d108-f4a9a1aa61b4"
      },
      "source": [
        "# https://www.do-mpc.com/en/latest/example_gallery/oscillating_masses_discrete.html\n",
        "\n",
        "\n",
        "from IPython.core.display import display, HTML, Image\n",
        "display(HTML(\"<style>.container { width:100% !important; }</style>\"))\n",
        "# from IPython.core.interactiveshell import InteractiveShell\n",
        "# InteractiveShell.ast_node_interactivity = \"all\"\n",
        "# from google.colab import drive\n",
        "# drive.mount('/content/drive')\n",
        "# from google.colab import files\n",
        "# files.download('/content/drive/MyDrive/Colab Notebooks/Lease Payment Formula.ipynb') \n",
        "import matplotlib.pyplot as plt\n",
        "import numpy as np\n",
        "np.set_printoptions(edgeitems=30, linewidth=100000, \n",
        "    formatter=dict(float=lambda x: \"%.8f\" % x))\n",
        "import pandas as pd\n",
        "pd.set_option('display.max_rows', 10)\n",
        "pd.set_option('display.max_columns', 500)\n",
        "pd.set_option('display.width', 999)\n",
        "pd.set_option(\"max_colwidth\", 500)\n",
        "# try:\n",
        "#  device_name = os.environ['COLAB_TPU_ADDR']\n",
        "#  TPU_ADDRESS = 'grpc://' + device_name\n",
        "#  print('Found TPU at: {}'.format(TPU_ADDRESS))\n",
        "# except KeyError:\n",
        "#  print('TPU not found')\n",
        "%load_ext autoreload\n",
        "%autoreload 2"
      ],
      "execution_count": 1,
      "outputs": [
        {
          "output_type": "display_data",
          "data": {
            "text/plain": [
              "<IPython.core.display.HTML object>"
            ],
            "text/html": [
              "<style>.container { width:100% !important; }</style>"
            ]
          },
          "metadata": {}
        }
      ]
    },
    {
      "cell_type": "code",
      "source": [
        "!pip install do_mpc"
      ],
      "metadata": {
        "colab": {
          "base_uri": "https://localhost:8080/"
        },
        "id": "3VMrf9wue73O",
        "outputId": "30bc830d-58b5-45fe-f19d-c5e133be2a1c"
      },
      "execution_count": 2,
      "outputs": [
        {
          "output_type": "stream",
          "name": "stdout",
          "text": [
            "Collecting do_mpc\n",
            "  Downloading do_mpc-4.3.3-py3-none-any.whl (85 kB)\n",
            "\u001b[K     |████████████████████████████████| 85 kB 916 kB/s \n",
            "\u001b[?25hRequirement already satisfied: matplotlib in /usr/local/lib/python3.7/dist-packages (from do_mpc) (3.2.2)\n",
            "Collecting casadi\n",
            "  Downloading casadi-3.5.5-cp37-none-manylinux1_x86_64.whl (34.2 MB)\n",
            "\u001b[K     |████████████████████████████████| 34.2 MB 68 kB/s \n",
            "\u001b[?25hRequirement already satisfied: numpy in /usr/local/lib/python3.7/dist-packages (from do_mpc) (1.21.5)\n",
            "Requirement already satisfied: cycler>=0.10 in /usr/local/lib/python3.7/dist-packages (from matplotlib->do_mpc) (0.11.0)\n",
            "Requirement already satisfied: python-dateutil>=2.1 in /usr/local/lib/python3.7/dist-packages (from matplotlib->do_mpc) (2.8.2)\n",
            "Requirement already satisfied: kiwisolver>=1.0.1 in /usr/local/lib/python3.7/dist-packages (from matplotlib->do_mpc) (1.4.2)\n",
            "Requirement already satisfied: pyparsing!=2.0.4,!=2.1.2,!=2.1.6,>=2.0.1 in /usr/local/lib/python3.7/dist-packages (from matplotlib->do_mpc) (3.0.8)\n",
            "Requirement already satisfied: typing-extensions in /usr/local/lib/python3.7/dist-packages (from kiwisolver>=1.0.1->matplotlib->do_mpc) (4.1.1)\n",
            "Requirement already satisfied: six>=1.5 in /usr/local/lib/python3.7/dist-packages (from python-dateutil>=2.1->matplotlib->do_mpc) (1.15.0)\n",
            "Installing collected packages: casadi, do-mpc\n",
            "Successfully installed casadi-3.5.5 do-mpc-4.3.3\n"
          ]
        }
      ]
    },
    {
      "cell_type": "markdown",
      "source": [
        "Model predictive control (MPC) is a control scheme where a model is used for predicting the future behavior of the system over finite time window, the horizon. Based on these predictions and the current measured/estimated state of the system, the optimal control inputs with respect to a defined control objective and subject to system constraints is computed. After a certain time interval, the measurement, estimation and computation process is repeated with a shifted horizon. This is the reason why this method is also called ***receding horizon control (RHC).***\n",
        "\n",
        "Major advantages of MPC in comparison to traditional reactive control approaches, e.g. PID, etc. are\n",
        "\n",
        "1) **Proactive control action:** The controller is anticipating future disturbances, set-points etc.\n",
        "\n",
        "2) **Non-linear control:** MPC can explicitly consider non-linear systems without linearization\n",
        "\n",
        "3) **Arbitrary control objective:** Traditional set-point tracking and regulation or economic MPC\n",
        "\n",
        "4) **constrained formulation:** Explicitly consider physical, safety or operational system constraints"
      ],
      "metadata": {
        "id": "xcVdzYojp80Q"
      }
    },
    {
      "cell_type": "code",
      "source": [
        "import numpy as np\n",
        "\n",
        "# # Add do_mpc to path. This is not necessary if it was installed via pip.\n",
        "# import sys\n",
        "# sys.path.append('../../')\n",
        "\n",
        "# Import do_mpc package:\n",
        "import do_mpc\n",
        "from casadi import *"
      ],
      "metadata": {
        "id": "9XNdmQ00QK9H"
      },
      "execution_count": 3,
      "outputs": []
    },
    {
      "cell_type": "code",
      "source": [
        "#step 0) "
      ],
      "metadata": {
        "id": "VBNLyk0RpOkz"
      },
      "execution_count": 4,
      "outputs": []
    },
    {
      "cell_type": "code",
      "source": [
        "model_type = 'discrete' # either 'discrete' or 'continuous'\n",
        "model = do_mpc.model.Model(model_type)\n",
        "\n",
        "N=30"
      ],
      "metadata": {
        "id": "Y4jCR2JWfFBi"
      },
      "execution_count": 5,
      "outputs": []
    },
    {
      "cell_type": "code",
      "source": [
        "# model.model_type\n",
        "# dir(model)"
      ],
      "metadata": {
        "id": "bRoK-Qz6xQRH"
      },
      "execution_count": 6,
      "outputs": []
    },
    {
      "cell_type": "code",
      "source": [
        "#step 1) setup variables(_x, _u, _z, _p, _tvp)"
      ],
      "metadata": {
        "id": "70WH_ogxpBcE"
      },
      "execution_count": 7,
      "outputs": []
    },
    {
      "cell_type": "code",
      "source": [
        "_x = model.set_variable(var_type='_x', var_name='x', shape=(2,1))\n",
        "_u = model.set_variable(var_type='_u', var_name='u', shape=(1,1))\n",
        "# xstar = model.set_variable(var_type='_tvp', var_name='xstar')\n",
        "# sig=15\n",
        "# model.set_expression('cost', exp(- ((_x[1] -xstar)/sig)**2 - 2*xstar/sig))"
      ],
      "metadata": {
        "id": "eVrWhgUefE9C"
      },
      "execution_count": 8,
      "outputs": []
    },
    {
      "cell_type": "code",
      "source": [
        "model._x, model._u, "
      ],
      "metadata": {
        "colab": {
          "base_uri": "https://localhost:8080/"
        },
        "id": "aooT9MxRcauW",
        "outputId": "7fbb14ba-eac4-4261-f835-c7ce9c9c4484"
      },
      "execution_count": 9,
      "outputs": [
        {
          "output_type": "execute_result",
          "data": {
            "text/plain": [
              "({'name': ['x'], 'var': [SX([x_0, x_1])]},\n",
              " {'name': ['default', 'u'], 'var': [SX([]), SX(u)]})"
            ]
          },
          "metadata": {},
          "execution_count": 9
        }
      ]
    },
    {
      "cell_type": "code",
      "source": [
        "A = np.array([[1, 1],\n",
        "              [0, 1]])\n",
        "\n",
        "B = np.array([[0],[1]])\n",
        "\n",
        "x_next = A@_x + B@_u\n",
        "\n",
        "model.set_rhs('x', x_next)"
      ],
      "metadata": {
        "id": "32BiVmDiZ-ei"
      },
      "execution_count": 10,
      "outputs": []
    },
    {
      "cell_type": "code",
      "source": [
        "# from casadi import *"
      ],
      "metadata": {
        "id": "DtewJvhu0l7s"
      },
      "execution_count": 11,
      "outputs": []
    },
    {
      "cell_type": "code",
      "source": [
        "# Build the model\n",
        "model.setup()"
      ],
      "metadata": {
        "id": "XOzajji10yRB"
      },
      "execution_count": 12,
      "outputs": []
    },
    {
      "cell_type": "code",
      "source": [
        "##objectives"
      ],
      "metadata": {
        "id": "WgAiOYegTTUq"
      },
      "execution_count": 13,
      "outputs": []
    },
    {
      "cell_type": "code",
      "source": [
        "mpc = do_mpc.controller.MPC(model)"
      ],
      "metadata": {
        "id": "IkoUcif0WEXy"
      },
      "execution_count": 41,
      "outputs": []
    },
    {
      "cell_type": "code",
      "source": [
        "# from _typeshed import Self\n",
        "# tvp_temp_1 = Self.get_tvp_template()"
      ],
      "metadata": {
        "id": "cObNRZ9_rniG"
      },
      "execution_count": 42,
      "outputs": []
    },
    {
      "cell_type": "code",
      "source": [
        "vstar=10\n",
        "cost_expr=((_x[1] -vstar)/vstar)**2  \n",
        "lterm=cost_expr    #For t(i) i<N\n",
        "mterm=cost_expr    #For t(i) i=N\n",
        "\n",
        "mpc.set_objective(mterm=mterm, lterm=lterm)\n",
        "\n",
        "# mpc.set_rterm(u=1) # input penalty"
      ],
      "metadata": {
        "id": "1c1BYLq8UD44"
      },
      "execution_count": 43,
      "outputs": []
    },
    {
      "cell_type": "code",
      "source": [
        "setup_mpc = {\n",
        "    'n_robust': 0,\n",
        "    'n_horizon': 8,\n",
        "    't_step': 0.1,\n",
        "    'state_discretization': 'discrete',\n",
        "    'store_full_solution':True,\n",
        "    # Use MA27 linear solver in ipopt for faster calculations:\n",
        "    #'nlpsol_opts': {'ipopt.linear_solver': 'MA27'}\n",
        "}\n",
        "\n",
        "mpc.set_param(**setup_mpc)"
      ],
      "metadata": {
        "id": "s8ycF67b0x9k"
      },
      "execution_count": 44,
      "outputs": []
    },
    {
      "cell_type": "code",
      "source": [
        "# mterm = model.aux['cost'] # terminal cost\n",
        "# lterm = model.aux['cost'] # terminal cost\n",
        "#  # stage cost\n",
        "\n",
        "# mpc.set_objective(mterm=mterm, lterm=lterm)\n",
        "\n",
        "# mpc.set_rterm(u=1) # input penalty"
      ],
      "metadata": {
        "id": "NeZU4saA0x6G"
      },
      "execution_count": 45,
      "outputs": []
    },
    {
      "cell_type": "code",
      "source": [
        "max_x = np.array([10000000,100])\n",
        "\n",
        "# lower bounds of the states\n",
        "mpc.bounds['lower','_x','x'] = -max_x\n",
        "\n",
        "# upper bounds of the states\n",
        "mpc.bounds['upper','_x','x'] = max_x\n",
        "\n",
        "# lower bounds of the input\n",
        "mpc.bounds['lower','_u','u'] = -6\n",
        "\n",
        "# upper bounds of the input\n",
        "mpc.bounds['upper','_u','u'] =  4"
      ],
      "metadata": {
        "id": "rJVFTG-K2lWK"
      },
      "execution_count": 46,
      "outputs": []
    },
    {
      "cell_type": "code",
      "source": [
        "mpc.setup()"
      ],
      "metadata": {
        "id": "Q-kyh9qR2lFw",
        "colab": {
          "base_uri": "https://localhost:8080/"
        },
        "outputId": "85ab14fa-7ff6-4579-c6a4-f6e8f288ed1a"
      },
      "execution_count": 47,
      "outputs": [
        {
          "output_type": "stream",
          "name": "stderr",
          "text": [
            "/usr/local/lib/python3.7/dist-packages/do_mpc/controller.py:904: UserWarning: rterm was not set and defaults to zero. Changes in the control inputs are not penalized. Can lead to oscillatory behavior.\n",
            "  warnings.warn('rterm was not set and defaults to zero. Changes in the control inputs are not penalized. Can lead to oscillatory behavior.')\n"
          ]
        }
      ]
    },
    {
      "cell_type": "code",
      "source": [
        "estimator = do_mpc.estimator.StateFeedback(model)"
      ],
      "metadata": {
        "id": "nUNNJie2345I"
      },
      "execution_count": 48,
      "outputs": []
    },
    {
      "cell_type": "code",
      "source": [
        "simulator = do_mpc.simulator.Simulator(model)"
      ],
      "metadata": {
        "id": "UZjkrcNH342F"
      },
      "execution_count": 49,
      "outputs": []
    },
    {
      "cell_type": "code",
      "source": [
        "simulator.set_param(t_step = 0.1)\n",
        "simulator.setup()"
      ],
      "metadata": {
        "id": "QlT4OiiT34y-"
      },
      "execution_count": 50,
      "outputs": []
    },
    {
      "cell_type": "code",
      "source": [
        "mpc.reset_history()"
      ],
      "metadata": {
        "id": "gOO6-U_8641r"
      },
      "execution_count": 51,
      "outputs": []
    },
    {
      "cell_type": "code",
      "source": [
        "# Seed\n",
        "np.random.seed(9900)\n",
        "\n",
        "# Initial state\n",
        "e = np.ones([model.n_x,1])\n",
        "x0 = np.random.uniform(0*e,5*e) # Values between -3 and +3 for all states\n",
        "mpc.x0 = x0\n",
        "simulator.x0 = x0\n",
        "estimator.x0 = x0\n",
        "\n",
        "# Use initial state to set the initial guess.\n",
        "mpc.set_initial_guess()"
      ],
      "metadata": {
        "id": "uHwzlUro34vt"
      },
      "execution_count": 52,
      "outputs": []
    },
    {
      "cell_type": "code",
      "source": [
        "%%capture\n",
        "for k in range(80):\n",
        "    u0 = mpc.make_step(x0)\n",
        "    y_next = simulator.make_step(u0)\n",
        "    x0 = estimator.make_step(y_next)"
      ],
      "metadata": {
        "id": "97huaSMu34i3"
      },
      "execution_count": null,
      "outputs": []
    },
    {
      "cell_type": "code",
      "source": [
        "from matplotlib import rcParams\n",
        "rcParams['axes.grid'] = True\n",
        "rcParams['font.size'] = 18"
      ],
      "metadata": {
        "id": "ki2q4Scp4Vum"
      },
      "execution_count": 54,
      "outputs": []
    },
    {
      "cell_type": "code",
      "source": [
        "import matplotlib.pyplot as plt\n",
        "fig, ax, graphics = do_mpc.graphics.default_plot(mpc.data, figsize=(16,9))\n",
        "graphics.plot_results()\n",
        "graphics.reset_axes()\n",
        "plt.show()"
      ],
      "metadata": {
        "colab": {
          "base_uri": "https://localhost:8080/",
          "height": 640
        },
        "id": "RfedCn0M4Vx4",
        "outputId": "6202e720-dd93-4ea6-c312-3ecfc1d0ad84"
      },
      "execution_count": 55,
      "outputs": [
        {
          "output_type": "display_data",
          "data": {
            "text/plain": [
              "<Figure size 1152x648 with 2 Axes>"
            ],
            "image/png": "[encoded data removed]"
          },
          "metadata": {
            "needs_background": "light"
          }
        }
      ]
    },
    {
      "cell_type": "code",
      "source": [
        "plt.plot(mpc.data['_x'][:,1])"
      ],
      "metadata": {
        "colab": {
          "base_uri": "https://localhost:8080/",
          "height": 291
        },
        "id": "qfbss1jeSF-m",
        "outputId": "0525499d-2e84-4a2e-a728-6e2af7454d5c"
      },
      "execution_count": 56,
      "outputs": [
        {
          "output_type": "execute_result",
          "data": {
            "text/plain": [
              "[<matplotlib.lines.Line2D at 0x7fac4afacf90>]"
            ]
          },
          "metadata": {},
          "execution_count": 56
        },
        {
          "output_type": "display_data",
          "data": {
            "text/plain": [
              "<Figure size 432x288 with 1 Axes>"
            ],
            "image/png": "[encoded data removed]"
          },
          "metadata": {
            "needs_background": "light"
          }
        }
      ]
    },
    {
      "cell_type": "code",
      "source": [
        "np.set_printoptions(edgeitems=30, linewidth=100000, formatter=dict(float=lambda x: \"%.8f\" % x))\n",
        "mpc.data['_x'][:100,:]\n",
        "# array([[1.58367438, 0.43278280],\n",
        "#        [2.01645718, 1.18908462],\n",
        "#        [3.20554181, 2.37400576],\n",
        "#        [5.57954756, 3.74205182],\n",
        "#        [9.32159939, 5.12021071],"
      ],
      "metadata": {
        "colab": {
          "base_uri": "https://localhost:8080/"
        },
        "id": "glxRONKcBWFC",
        "outputId": "7f712589-7ca3-4035-9fe9-2b0bbe69c24a"
      },
      "execution_count": 57,
      "outputs": [
        {
          "output_type": "execute_result",
          "data": {
            "text/plain": [
              "array([[1.58367438, 0.43278280],\n",
              "       [2.01645718, 4.43278280],\n",
              "       [6.44923999, 8.43278276],\n",
              "       [14.88202274, 9.99999997],\n",
              "       [24.88202272, 10.00000000],\n",
              "       [34.88202272, 10.00000000],\n",
              "       [44.88202272, 10.00000000],\n",
              "       [54.88202272, 10.00000000],\n",
              "       [64.88202272, 10.00000000],\n",
              "       [74.88202272, 10.00000000],\n",
              "       [84.88202272, 10.00000000],\n",
              "       [94.88202272, 10.00000000],\n",
              "       [104.88202272, 10.00000000],\n",
              "       [114.88202272, 10.00000000],\n",
              "       [124.88202272, 10.00000000],\n",
              "       [134.88202272, 10.00000000],\n",
              "       [144.88202272, 10.00000000],\n",
              "       [154.88202272, 10.00000000],\n",
              "       [164.88202272, 10.00000000],\n",
              "       [174.88202271, 10.00000000],\n",
              "       [184.88202271, 10.00000000],\n",
              "       [194.88202271, 10.00000000],\n",
              "       [204.88202271, 10.00000000],\n",
              "       [214.88202271, 10.00000000],\n",
              "       [224.88202271, 10.00000000],\n",
              "       [234.88202271, 10.00000000],\n",
              "       [244.88202271, 10.00000000],\n",
              "       [254.88202271, 10.00000000],\n",
              "       [264.88202271, 10.00000000],\n",
              "       [274.88202271, 10.00000000],\n",
              "       [284.88202271, 10.00000000],\n",
              "       [294.88202271, 10.00000000],\n",
              "       [304.88202271, 10.00000000],\n",
              "       [314.88202271, 10.00000000],\n",
              "       [324.88202271, 10.00000000],\n",
              "       [334.88202271, 10.00000000],\n",
              "       [344.88202271, 10.00000000],\n",
              "       [354.88202271, 10.00000000],\n",
              "       [364.88202271, 10.00000000],\n",
              "       [374.88202271, 10.00000000],\n",
              "       [384.88202271, 10.00000000],\n",
              "       [394.88202271, 10.00000000],\n",
              "       [404.88202271, 10.00000000],\n",
              "       [414.88202271, 10.00000000],\n",
              "       [424.88202271, 10.00000000],\n",
              "       [434.88202271, 10.00000000],\n",
              "       [444.88202271, 10.00000000],\n",
              "       [454.88202271, 10.00000000],\n",
              "       [464.88202271, 10.00000000],\n",
              "       [474.88202271, 10.00000000],\n",
              "       [484.88202271, 10.00000000],\n",
              "       [494.88202271, 10.00000000],\n",
              "       [504.88202271, 10.00000000],\n",
              "       [514.88202271, 10.00000000],\n",
              "       [524.88202271, 10.00000000],\n",
              "       [534.88202271, 10.00000000],\n",
              "       [544.88202271, 10.00000000],\n",
              "       [554.88202271, 10.00000000],\n",
              "       [564.88202270, 10.00000000],\n",
              "       [574.88202270, 10.00000000],\n",
              "       [584.88202270, 10.00000000],\n",
              "       [594.88202270, 10.00000000],\n",
              "       [604.88202270, 10.00000000],\n",
              "       [614.88202270, 10.00000000],\n",
              "       [624.88202270, 10.00000000],\n",
              "       [634.88202270, 10.00000000],\n",
              "       [644.88202270, 10.00000000],\n",
              "       [654.88202270, 10.00000000],\n",
              "       [664.88202270, 10.00000000],\n",
              "       [674.88202270, 10.00000000],\n",
              "       [684.88202270, 10.00000000],\n",
              "       [694.88202270, 10.00000000],\n",
              "       [704.88202270, 10.00000000],\n",
              "       [714.88202270, 10.00000000],\n",
              "       [724.88202270, 10.00000000],\n",
              "       [734.88202270, 10.00000000],\n",
              "       [744.88202270, 10.00000000],\n",
              "       [754.88202270, 10.00000000],\n",
              "       [764.88202270, 10.00000000],\n",
              "       [774.88202270, 10.00000000]])"
            ]
          },
          "metadata": {},
          "execution_count": 57
        }
      ]
    },
    {
      "cell_type": "code",
      "source": [
        "mpc.data['_u'].sum()"
      ],
      "metadata": {
        "colab": {
          "base_uri": "https://localhost:8080/"
        },
        "id": "6RdGpqLMIHhe",
        "outputId": "cdf8363c-d262-49fc-fb05-f6421fb65dc9"
      },
      "execution_count": 58,
      "outputs": [
        {
          "output_type": "execute_result",
          "data": {
            "text/plain": [
              "9.567217197870127"
            ]
          },
          "metadata": {},
          "execution_count": 58
        }
      ]
    },
    {
      "cell_type": "code",
      "source": [
        "mpc.data['_x'].shape"
      ],
      "metadata": {
        "colab": {
          "base_uri": "https://localhost:8080/"
        },
        "id": "IJHPdLF_5Hcc",
        "outputId": "466d76c3-f952-4a46-c109-8059a227e85c"
      },
      "execution_count": 30,
      "outputs": [
        {
          "output_type": "execute_result",
          "data": {
            "text/plain": [
              "(80, 2)"
            ]
          },
          "metadata": {},
          "execution_count": 30
        }
      ]
    },
    {
      "cell_type": "code",
      "source": [
        "mpc.data['_u'].shape"
      ],
      "metadata": {
        "colab": {
          "base_uri": "https://localhost:8080/"
        },
        "id": "Nx4hzsVs6CmK",
        "outputId": "4db965e7-32a5-40fb-dae2-8fa656cde530"
      },
      "execution_count": 31,
      "outputs": [
        {
          "output_type": "execute_result",
          "data": {
            "text/plain": [
              "(80, 1)"
            ]
          },
          "metadata": {},
          "execution_count": 31
        }
      ]
    },
    {
      "cell_type": "code",
      "source": [
        "np.set_printoptions(edgeitems=30, linewidth=100000, formatter=dict(float=lambda x: \"%.8f\" % x))\n",
        "mpc.data['_x'][:10,:]\n"
      ],
      "metadata": {
        "colab": {
          "base_uri": "https://localhost:8080/"
        },
        "id": "CuviBLWj7Ocr",
        "outputId": "500327e6-6dc7-4d86-cb95-e2848c2683c0"
      },
      "execution_count": 32,
      "outputs": [
        {
          "output_type": "execute_result",
          "data": {
            "text/plain": [
              "array([[1.58367438, 0.43278280],\n",
              "       [2.01645718, 1.18908462],\n",
              "       [3.20554181, 2.37400576],\n",
              "       [5.57954756, 3.74205182],\n",
              "       [9.32159939, 5.12021071],\n",
              "       [14.44181009, 6.39595490],\n",
              "       [20.83776499, 7.50471218],\n",
              "       [28.34247717, 8.41798353],\n",
              "       [36.76046069, 9.13281823],\n",
              "       [45.89327892, 9.66299747]])"
            ]
          },
          "metadata": {},
          "execution_count": 32
        }
      ]
    },
    {
      "cell_type": "code",
      "source": [
        "mpc.data.data_fields['_aux'], mpc.data['_opt_aux_num'].shape, mpc.data['success'].shape ,mpc.data['t_wall_total'].shape,  mpc.data['t_wall_total'].sum(),  #mpc.data['_aux']"
      ],
      "metadata": {
        "id": "dn3UQOZV7OM_",
        "colab": {
          "base_uri": "https://localhost:8080/"
        },
        "outputId": "a68dc571-79f6-4f29-98f3-61d3fb4ff618"
      },
      "execution_count": 33,
      "outputs": [
        {
          "output_type": "execute_result",
          "data": {
            "text/plain": [
              "(1, (80, 8), (80, 1), (80, 1), 0.306622852)"
            ]
          },
          "metadata": {},
          "execution_count": 33
        }
      ]
    },
    {
      "cell_type": "code",
      "source": [
        "mpc.data.data_fields.keys()"
      ],
      "metadata": {
        "colab": {
          "base_uri": "https://localhost:8080/"
        },
        "id": "son5DHgKV_mF",
        "outputId": "cb16f75b-0b36-4f22-bf80-5706aaf26b46"
      },
      "execution_count": 56,
      "outputs": [
        {
          "output_type": "execute_result",
          "data": {
            "text/plain": [
              "dict_keys(['_time', '_x', '_y', '_u', '_z', '_tvp', '_p', '_aux', '_eps', 'opt_p_num', '_opt_x_num', '_opt_aux_num', '_lam_g_num', 'success', 't_wall_total'])"
            ]
          },
          "metadata": {},
          "execution_count": 56
        }
      ]
    },
    {
      "cell_type": "code",
      "source": [
        "new_output = list(mpc.data.data_fields.values())\n",
        "print(\" all values in dictionary are:\",new_output)"
      ],
      "metadata": {
        "colab": {
          "base_uri": "https://localhost:8080/"
        },
        "id": "Vyt-04T1WUg2",
        "outputId": "222c82b8-af26-4d5f-f389-0c0796d50ad6"
      },
      "execution_count": 57,
      "outputs": [
        {
          "output_type": "stream",
          "name": "stdout",
          "text": [
            " all values in dictionary are: [1, 2, 2, 1, 0, 0, 0, 1, 0, 3, 26, 8, 18, 1, 1]\n"
          ]
        }
      ]
    },
    {
      "cell_type": "code",
      "source": [
        "mpc.data['_x'].shape"
      ],
      "metadata": {
        "colab": {
          "base_uri": "https://localhost:8080/"
        },
        "id": "IlOiWoD1WfEi",
        "outputId": "ab2f38bd-3810-422e-c0f4-d8b691c399a1"
      },
      "execution_count": 58,
      "outputs": [
        {
          "output_type": "execute_result",
          "data": {
            "text/plain": [
              "(80, 2)"
            ]
          },
          "metadata": {},
          "execution_count": 58
        }
      ]
    },
    {
      "cell_type": "code",
      "source": [
        "mpc.data.data_fields"
      ],
      "metadata": {
        "colab": {
          "base_uri": "https://localhost:8080/"
        },
        "id": "RV63SDIQV3DA",
        "outputId": "b552201b-ee7e-4146-f536-85336d017ddd"
      },
      "execution_count": 59,
      "outputs": [
        {
          "output_type": "execute_result",
          "data": {
            "text/plain": [
              "{'_aux': 1,\n",
              " '_eps': 0,\n",
              " '_lam_g_num': 18,\n",
              " '_opt_aux_num': 8,\n",
              " '_opt_x_num': 26,\n",
              " '_p': 0,\n",
              " '_time': 1,\n",
              " '_tvp': 0,\n",
              " '_u': 1,\n",
              " '_x': 2,\n",
              " '_y': 2,\n",
              " '_z': 0,\n",
              " 'opt_p_num': 3,\n",
              " 'success': 1,\n",
              " 't_wall_total': 1}"
            ]
          },
          "metadata": {},
          "execution_count": 59
        }
      ]
    },
    {
      "cell_type": "code",
      "source": [
        "dir(mpc.data)"
      ],
      "metadata": {
        "colab": {
          "base_uri": "https://localhost:8080/"
        },
        "id": "KeNKwq8J4V1o",
        "outputId": "eba106c5-c3d9-40a4-c7fe-2e1bf12bd785"
      },
      "execution_count": 60,
      "outputs": [
        {
          "output_type": "execute_result",
          "data": {
            "text/plain": [
              "['__class__',\n",
              " '__delattr__',\n",
              " '__dict__',\n",
              " '__dir__',\n",
              " '__doc__',\n",
              " '__eq__',\n",
              " '__format__',\n",
              " '__ge__',\n",
              " '__getattribute__',\n",
              " '__getitem__',\n",
              " '__gt__',\n",
              " '__hash__',\n",
              " '__init__',\n",
              " '__init_subclass__',\n",
              " '__le__',\n",
              " '__lt__',\n",
              " '__module__',\n",
              " '__ne__',\n",
              " '__new__',\n",
              " '__reduce__',\n",
              " '__reduce_ex__',\n",
              " '__repr__',\n",
              " '__setattr__',\n",
              " '__sizeof__',\n",
              " '__str__',\n",
              " '__subclasshook__',\n",
              " '__weakref__',\n",
              " '_aux',\n",
              " '_eps',\n",
              " '_lam_g_num',\n",
              " '_opt_aux_num',\n",
              " '_opt_x_num',\n",
              " '_p',\n",
              " '_time',\n",
              " '_tvp',\n",
              " '_u',\n",
              " '_x',\n",
              " '_y',\n",
              " '_z',\n",
              " 'data_fields',\n",
              " 'dtype',\n",
              " 'export',\n",
              " 'init_storage',\n",
              " 'meta_data',\n",
              " 'model',\n",
              " 'opt_aux',\n",
              " 'opt_p',\n",
              " 'opt_p_num',\n",
              " 'opt_x',\n",
              " 'prediction',\n",
              " 'prediction_queries',\n",
              " 'result_queries',\n",
              " 'set_meta',\n",
              " 'success',\n",
              " 't_wall_total',\n",
              " 'update']"
            ]
          },
          "metadata": {},
          "execution_count": 60
        }
      ]
    },
    {
      "cell_type": "code",
      "source": [
        "sqrt((-4)**2)"
      ],
      "metadata": {
        "id": "dMy99Vm24V-S",
        "colab": {
          "base_uri": "https://localhost:8080/"
        },
        "outputId": "3f3cf4d8-1f65-4023-96ab-419fe7a4a854"
      },
      "execution_count": null,
      "outputs": [
        {
          "output_type": "execute_result",
          "data": {
            "text/plain": [
              "4.0"
            ]
          },
          "metadata": {},
          "execution_count": 29
        }
      ]
    },
    {
      "cell_type": "code",
      "source": [
        ""
      ],
      "metadata": {
        "id": "WTD0O5qA4WBi"
      },
      "execution_count": null,
      "outputs": []
    },
    {
      "cell_type": "code",
      "source": [
        "import casadi as ca"
      ],
      "metadata": {
        "id": "iNmlcQiq4WFP"
      },
      "execution_count": 59,
      "outputs": []
    },
    {
      "cell_type": "code",
      "source": [
        "xgrid=np.linspace(1,6,6)\n",
        "V=[-1,-1,-2,-3,0,2]\n",
        "lut=ca.interpolant('LUT', 'bspline', [xgrid], V)\n",
        "\n",
        "print(lut(1),lut(2),lut(3), lut(5.),lut(6) ,lut(5.3), lut(5.35),lut(6.),lut(7.),)"
      ],
      "metadata": {
        "colab": {
          "base_uri": "https://localhost:8080/"
        },
        "id": "M5dG8xUjcdN9",
        "outputId": "b445bed1-eaf6-4362-eab9-253bb4ecefab"
      },
      "execution_count": 61,
      "outputs": [
        {
          "output_type": "stream",
          "name": "stdout",
          "text": [
            "-1 -1 -2 -2.22045e-16 2 1.0508 1.20277 2 0\n"
          ]
        }
      ]
    },
    {
      "cell_type": "code",
      "source": [
        "type(lut)"
      ],
      "metadata": {
        "id": "ARtKkVYAcdJ1",
        "colab": {
          "base_uri": "https://localhost:8080/"
        },
        "outputId": "1d738830-70c5-4e42-9409-a122ad84ff9e"
      },
      "execution_count": 64,
      "outputs": [
        {
          "output_type": "execute_result",
          "data": {
            "text/plain": [
              "casadi.casadi.Function"
            ]
          },
          "metadata": {},
          "execution_count": 64
        }
      ]
    },
    {
      "cell_type": "code",
      "source": [
        ""
      ],
      "metadata": {
        "id": "KcNpbpcWcdGB"
      },
      "execution_count": null,
      "outputs": []
    },
    {
      "cell_type": "code",
      "source": [
        ""
      ],
      "metadata": {
        "id": "CjMRu1ILcdBy"
      },
      "execution_count": null,
      "outputs": []
    },
    {
      "cell_type": "code",
      "source": [
        ""
      ],
      "metadata": {
        "id": "Mmloioqkcc90"
      },
      "execution_count": null,
      "outputs": []
    },
    {
      "cell_type": "code",
      "source": [
        ""
      ],
      "metadata": {
        "id": "phU9rtd6cc6H"
      },
      "execution_count": null,
      "outputs": []
    },
    {
      "cell_type": "code",
      "source": [
        ""
      ],
      "metadata": {
        "id": "Ju3N9JEbcc1M"
      },
      "execution_count": null,
      "outputs": []
    },
    {
      "cell_type": "code",
      "source": [
        ""
      ],
      "metadata": {
        "id": "-H8U-zDTccxB"
      },
      "execution_count": null,
      "outputs": []
    }
  ]
}