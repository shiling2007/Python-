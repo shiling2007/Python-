{
  "nbformat": 4,
  "nbformat_minor": 0,
  "metadata": {
    "colab": {
      "name": "Copy of CVXOTP-mpc-1-1a.ipynb",
      "provenance": [],
      "collapsed_sections": [],
      "history_visible": true,
      "authorship_tag": "ABX9TyNnmN2iVW02k7/voOdia4R4",
      "include_colab_link": true
    },
    "kernelspec": {
      "display_name": "Python 3",
      "name": "python3"
    },
    "language_info": {
      "name": "python"
    }
  },
  "cells": [
    {
      "cell_type": "markdown",
      "metadata": {
        "id": "view-in-github",
        "colab_type": "text"
      },
      "source": [
        "<a href=\"https://colab.research.google.com/github/shiling2007/Python-/blob/main/Copy_of_CVXOTP_mpc_1_1a.ipynb\" target=\"_parent\"><img src=\"https://colab.research.google.com/assets/colab-badge.svg\" alt=\"Open In Colab\"/></a>"
      ]
    },
    {
      "cell_type": "code",
      "metadata": {
        "colab": {
          "base_uri": "https://localhost:8080/",
          "height": 17
        },
        "id": "g7sSfY_7o-pn",
        "outputId": "e4b557ff-2f72-4ea2-d58a-997fa4ba12ed"
      },
      "source": [
        "# https://osqp.org/docs/examples/mpc.html\n",
        "\n",
        "from IPython.core.display import display, HTML, Image\n",
        "display(HTML(\"<style>.container { width:100% !important; }</style>\"))\n",
        "# from IPython.core.interactiveshell import InteractiveShell\n",
        "# InteractiveShell.ast_node_interactivity = \"all\"\n",
        "# from google.colab import drive\n",
        "# drive.mount('/content/drive')\n",
        "# from google.colab import files\n",
        "# files.download('/content/drive/MyDrive/Colab Notebooks/Lease Payment Formula.ipynb') \n",
        "import matplotlib.pyplot as plt\n",
        "import numpy as np\n",
        "np.set_printoptions(edgeitems=30, linewidth=100000, \n",
        "    formatter=dict(float=lambda x: \"%.8f\" % x))\n",
        "import pandas as pd\n",
        "pd.set_option('display.max_rows', 10)\n",
        "pd.set_option('display.max_columns', 500)\n",
        "pd.set_option('display.width', 999)\n",
        "pd.set_option(\"max_colwidth\", 500)\n",
        "# try:\n",
        "#  device_name = os.environ['COLAB_TPU_ADDR']\n",
        "#  TPU_ADDRESS = 'grpc://' + device_name\n",
        "#  print('Found TPU at: {}'.format(TPU_ADDRESS))\n",
        "# except KeyError:\n",
        "#  print('TPU not found')\n",
        "%load_ext autoreload\n",
        "%autoreload 2"
      ],
      "execution_count": 1,
      "outputs": [
        {
          "output_type": "display_data",
          "data": {
            "text/plain": [
              "<IPython.core.display.HTML object>"
            ],
            "text/html": [
              "<style>.container { width:100% !important; }</style>"
            ]
          },
          "metadata": {}
        }
      ]
    },
    {
      "cell_type": "code",
      "source": [
        "# Generate data for control problem.\n",
        "import numpy as np\n",
        "from cvxopt import solvers\n",
        "solvers.options['show_progress'] = True\n",
        "import cvxpy as cp\n",
        "\n",
        "np.set_printoptions(edgeitems=30, linewidth=100000, \n",
        "    formatter=dict(float=lambda x: \"%.8f\" % x))\n",
        "\n",
        "np.random.seed(1)\n",
        "n = 2\n",
        "m = 1\n",
        "T = 8\n",
        "N = 10*T\n",
        "N = 300\n",
        "t_step=0.1\n",
        "w1, w2, w3=1, 500, 0.001"
      ],
      "metadata": {
        "id": "CPEFXbjIhzMg"
      },
      "execution_count": 2,
      "outputs": []
    },
    {
      "cell_type": "code",
      "source": [
        "##test ideas\n",
        "x = cp.Variable()\n",
        "y = cp.Variable()\n",
        "constraints = [0 <= x]\n",
        "constraints +=[x <=1]\n",
        "expr = cp.transforms.indicator(constraints)\n",
        "x.value = .5\n",
        "print(\"expr.value = \", expr.value)\n",
        "x.value = 2\n",
        "print(\"expr.value = \", expr.value)\n",
        "\n",
        "x.value = -2\n",
        "print(\"expr.value = \", expr.value)\n",
        "\n",
        "print( expr)"
      ],
      "metadata": {
        "colab": {
          "base_uri": "https://localhost:8080/"
        },
        "id": "FTZaHXptB2TW",
        "outputId": "8aa8a90d-70b5-4749-8847-4f5978b3860b"
      },
      "execution_count": 7,
      "outputs": [
        {
          "output_type": "stream",
          "name": "stdout",
          "text": [
            "expr.value =  0\n",
            "expr.value =  inf\n",
            "expr.value =  inf\n",
            "Indicator([Inequality(Constant(CONSTANT, ZERO, ())), Inequality(Variable(()))])\n"
          ]
        }
      ]
    },
    {
      "cell_type": "code",
      "source": [
        "##test ideas\n",
        "x = cp.Variable()\n",
        "y = cp.Variable()\n",
        "constraints = [ x>=0 , x >=1]\n",
        "# constraints +=[]\n",
        "expr = cp.transforms.indicator(constraints)\n",
        "x.value = .5\n",
        "print(\"expr.value = \", expr.value)\n",
        "x.value = 1.001\n",
        "print(\"expr.value = \", expr.value)\n",
        "\n",
        "x.value = -2\n",
        "print(\"expr.value = \", expr.value)\n",
        "\n",
        "print( expr)"
      ],
      "metadata": {
        "colab": {
          "base_uri": "https://localhost:8080/"
        },
        "id": "tHm0hkv0B2QX",
        "outputId": "c39e9064-52a5-4f9a-c721-08bc032376af"
      },
      "execution_count": 11,
      "outputs": [
        {
          "output_type": "stream",
          "name": "stdout",
          "text": [
            "expr.value =  inf\n",
            "expr.value =  0\n",
            "expr.value =  inf\n",
            "Indicator([Inequality(Constant(CONSTANT, ZERO, ())), Inequality(Constant(CONSTANT, NONNEGATIVE, ()))])\n"
          ]
        }
      ]
    },
    {
      "cell_type": "code",
      "source": [
        "##test ideas\n",
        "x = cp.Variable()\n",
        "# y = cp.Parameter()\n",
        "x.value = 10\n",
        "y=0.5\n",
        "# def cust_fun(x,y):\n",
        "#   if x  >=y:\n",
        "#     return x-y \n",
        "\n",
        "# constraints =[x-y>=0]\n",
        "# expr = (cp.transforms.indicator(constraints)+1)*(x-y) \n",
        "# print(\"expr.value = \", expr.value)\n",
        "\n",
        "# z= (expr.value+1.)*(x-y)\n",
        "\n",
        "x % 5.\n",
        "\n",
        "# A %= c\n",
        "\n",
        "# constraints +=[]\n",
        "# expr = cp.transforms.indicator(constraints)\n",
        "# x.value = .5\n",
        "# y.value = 1.\n",
        "print(\"expr.value = \", x.value)\n",
        "# # x.value = 1.001\n",
        "# print(\"expr.value = \", expr.value)\n",
        "\n",
        "# # x.value = -2\n",
        "# print(\"expr.value = \", expr.value)\n",
        "\n",
        "# print( expr)\n",
        "\n"
      ],
      "metadata": {
        "colab": {
          "base_uri": "https://localhost:8080/",
          "height": 245
        },
        "id": "Nz5Ln_e0B2NJ",
        "outputId": "d86bf13f-19d2-45dd-bfef-1212355e29c1"
      },
      "execution_count": 46,
      "outputs": [
        {
          "output_type": "error",
          "ename": "TypeError",
          "evalue": "ignored",
          "traceback": [
            "\u001b[0;31m---------------------------------------------------------------------------\u001b[0m",
            "\u001b[0;31mTypeError\u001b[0m                                 Traceback (most recent call last)",
            "\u001b[0;32m<ipython-input-46-632a35388a5a>\u001b[0m in \u001b[0;36m<module>\u001b[0;34m()\u001b[0m\n\u001b[1;32m     14\u001b[0m \u001b[0;31m# z= (expr.value+1.)*(x-y)\u001b[0m\u001b[0;34m\u001b[0m\u001b[0;34m\u001b[0m\u001b[0;34m\u001b[0m\u001b[0m\n\u001b[1;32m     15\u001b[0m \u001b[0;34m\u001b[0m\u001b[0m\n\u001b[0;32m---> 16\u001b[0;31m \u001b[0mx\u001b[0m \u001b[0;34m%\u001b[0m \u001b[0;36m5.\u001b[0m\u001b[0;34m\u001b[0m\u001b[0;34m\u001b[0m\u001b[0m\n\u001b[0m\u001b[1;32m     17\u001b[0m \u001b[0;34m\u001b[0m\u001b[0m\n\u001b[1;32m     18\u001b[0m \u001b[0;31m# A %= c\u001b[0m\u001b[0;34m\u001b[0m\u001b[0;34m\u001b[0m\u001b[0;34m\u001b[0m\u001b[0m\n",
            "\u001b[0;31mTypeError\u001b[0m: unsupported operand type(s) for %: 'Variable' and 'float'"
          ]
        }
      ]
    },
    {
      "cell_type": "code",
      "source": [
        ""
      ],
      "metadata": {
        "id": "pmacQqqKB2BN"
      },
      "execution_count": null,
      "outputs": []
    },
    {
      "cell_type": "code",
      "source": [
        "A=np.array([[1,t_step],[0,1]])\n",
        "B=np.array([[0],[t_step]])\n",
        "x_ = np.c_[np.array([20*np.random.rand(1) for i in range(4)]), np.array([4*np.random.rand(1) for i in range(4)])]\n",
        "x_[::-1].sort(axis=0)\n",
        "x_0 , x_1 ,x_2 ,x_3 = x_[0,:], x_[1,:], x_[2,:],x_[3,:]\n",
        "x_0 , x_1 ,x_2 ,x_3"
      ],
      "metadata": {
        "colab": {
          "base_uri": "https://localhost:8080/"
        },
        "id": "r15-0bk2T17P",
        "outputId": "111d0b39-0bc3-476a-b968-615dcb420a59"
      },
      "execution_count": 140,
      "outputs": [
        {
          "output_type": "execute_result",
          "data": {
            "text/plain": [
              "(array([14.40648987, 1.38224291]),\n",
              " array([8.34044009, 0.74504085]),\n",
              " array([6.04665145, 0.58702356]),\n",
              " array([0.00228750, 0.36935438]))"
            ]
          },
          "metadata": {},
          "execution_count": 140
        }
      ]
    },
    {
      "cell_type": "code",
      "source": [
        "def distance(xj, xi, C=80):\n",
        "  if xj>xi:\n",
        "    d=xj-xi\n",
        "  else:\n",
        "    d=xj-xi+C\n",
        "  return d\n",
        "\n",
        "d_0=distance(x_3[0], x_0[0])\n",
        "d_1=distance(x_0[0], x_1[0])\n",
        "d_2=distance(x_1[0], x_2[0])\n",
        "d_3=distance(x_2[0], x_3[0])\n",
        "\n",
        "d_0, d_1, d_2, d_3"
      ],
      "metadata": {
        "colab": {
          "base_uri": "https://localhost:8080/"
        },
        "id": "26x2MaDhTtGw",
        "outputId": "b4f373d6-d62d-4f7a-ce89-df238c86b102"
      },
      "execution_count": 141,
      "outputs": [
        {
          "output_type": "execute_result",
          "data": {
            "text/plain": [
              "(65.59579762750374, 6.066049774791681, 2.293788641414685, 6.044363956289898)"
            ]
          },
          "metadata": {},
          "execution_count": 141
        }
      ]
    },
    {
      "cell_type": "code",
      "source": [
        "# A.shape, B.shape, A, B, x_0 , x_1 ,x_2 ,x_3, d_0, d_1, d_2, d_3"
      ],
      "metadata": {
        "id": "v2cCYHnkhzFB"
      },
      "execution_count": 142,
      "outputs": []
    },
    {
      "cell_type": "code",
      "source": [
        "# Constraints\n",
        "\n",
        "def mpc_setup(n=2, m=1, T=5, d=d_0, x0=x_0):\n",
        "  umin = np.array([-6]) \n",
        "  umax = np.array([4]) \n",
        "\n",
        "  # Define problem\n",
        "\n",
        "  x = cp.Variable((n, T+1))\n",
        "  u = cp.Variable((m, T))\n",
        "  x_init = cp.Parameter(n)\n",
        "  x_init.value = x0\n",
        "\n",
        "  cost = 0\n",
        "\n",
        "  constr = [x[:,0] == x_init]\n",
        "  for t in range(T):\n",
        "      cost += w1*cp.sum_squares((x[1,t+1]-10)/10) + w3*cp.sum_squares(u[:,t]) + w2*cp.sum( cp.exp( -3*d/20.)) \n",
        "      constr += [x[:,t+1] == A@x[:,t] + B@u[:,t]]\n",
        "      constr += [umin <= u[:,t], u[:,t] <= umax]\n",
        "  return cp.Problem(cp.Minimize(cost), constr)\n"
      ],
      "metadata": {
        "id": "SSwoMKTqWVfH"
      },
      "execution_count": 143,
      "outputs": []
    },
    {
      "cell_type": "code",
      "source": [
        "data_all_veh=[]\n",
        "for i in range(150):\n",
        "  problem0 = mpc_setup(n=2, m=1, T=5, d=d_0, x0=x_0)\n",
        "\n",
        "  data, chain, inverse_data = problem0.get_problem_data(solver=cp.ECOS)\n",
        "  soln = chain.solve_via_data(problem0, data)\n",
        "  problem0.unpack_results(soln, chain, inverse_data)\n",
        "  # print (\"optimal value with ECOS:\", problem0.value, '\\t', \"Solver Runing Time:\", soln['info']['timing']['runtime'])\n",
        "  x_key, u_key=list(problem0.solution.primal_vars.keys())[0], list(problem0.solution.primal_vars.keys())[1]\n",
        "  x_0=problem0.solution.primal_vars.get(x_key)[:,1]\n",
        "  u_0=problem0.solution.primal_vars.get(u_key)[:,0]\n",
        "  # print(x_0)\n",
        "\n",
        "  problem1 = mpc_setup(n=2, m=1, T=5, d=d_1, x0=x_1)\n",
        "\n",
        "  data1, chain1, inverse_data1 = problem1.get_problem_data(solver=cp.ECOS)\n",
        "  soln1 = chain.solve_via_data(problem1, data1)\n",
        "  problem1.unpack_results(soln1, chain1, inverse_data1)\n",
        "  # print (\"optimal value with ECOS:\", problem1.value, '\\t', \"Solver Runing Time:\", soln['info']['timing']['runtime'])\n",
        "  x_key, u_key=list(problem1.solution.primal_vars.keys())[0], list(problem1.solution.primal_vars.keys())[1]\n",
        "  x_1=problem1.solution.primal_vars.get(x_key)[:,1]\n",
        "  u_1=problem1.solution.primal_vars.get(u_key)[:,0]\n",
        "  # print(x_1)  \n",
        "\n",
        "  problem2 = mpc_setup(n=2, m=1, T=5, d=d_2, x0=x_2)\n",
        "\n",
        "  data2, chain2, inverse_data2 = problem2.get_problem_data(solver=cp.ECOS)\n",
        "  soln2 = chain.solve_via_data(problem2, data2)\n",
        "  problem2.unpack_results(soln2, chain2, inverse_data2)\n",
        "  # print (\"optimal value with ECOS:\", problem2.value, '\\t', \"Solver Runing Time:\", soln['info']['timing']['runtime'])\n",
        "  x_key, u_key=list(problem2.solution.primal_vars.keys())[0], list(problem2.solution.primal_vars.keys())[1]\n",
        "  x_2=problem2.solution.primal_vars.get(x_key)[:,1]\n",
        "  u_2=problem2.solution.primal_vars.get(u_key)[:,0]\n",
        "  # print(x_2)\n",
        "\n",
        "  problem3 = mpc_setup(n=2, m=1, T=5, d=d_3, x0=x_3)\n",
        "\n",
        "  data3, chain3, inverse_data3 = problem3.get_problem_data(solver=cp.ECOS)\n",
        "  soln3 = chain.solve_via_data(problem3, data3)\n",
        "  problem3.unpack_results(soln3, chain3, inverse_data3)\n",
        "  # print (\"optimal value with ECOS:\", problem3.value, '\\t', \"Solver Runing Time:\", soln['info']['timing']['runtime'])\n",
        "  x_key, u_key=list(problem3.solution.primal_vars.keys())[0], list(problem3.solution.primal_vars.keys())[1]\n",
        "  x_3=problem3.solution.primal_vars.get(x_key)[:,1]\n",
        "  u_3=problem3.solution.primal_vars.get(u_key)[:,0]\n",
        "  # print(x_3)\n",
        "\n",
        "  d_0=distance(x_3[0], x_0[0])\n",
        "  d_1=distance(x_0[0], x_1[0])\n",
        "  d_2=distance(x_1[0], x_2[0])\n",
        "  d_3=distance(x_2[0], x_3[0])\n",
        "  data_all_veh.append(np.c_[x_0.reshape(1,2),u_0,x_1.reshape(1,2),u_1,x_2.reshape(1,2),u_2,x_3.reshape(1,2),u_3].tolist())\n"
      ],
      "metadata": {
        "id": "o1x8kb3mY8kL"
      },
      "execution_count": 144,
      "outputs": []
    },
    {
      "cell_type": "code",
      "source": [
        "np.array(data_all_veh).reshape(150,12)"
      ],
      "metadata": {
        "colab": {
          "base_uri": "https://localhost:8080/"
        },
        "id": "P0jshH7rY8NH",
        "outputId": "bacbeb07-1412-415d-ba34-709152d037ea"
      },
      "execution_count": 145,
      "outputs": [
        {
          "output_type": "execute_result",
          "data": {
            "text/plain": [
              "array([[14.54471416, 1.78224291, 4.00000000, 8.41494418, 1.14504084, 3.99999999, 6.10535381, 0.98702356, 3.99999998, 0.03922293, 0.76935438, 3.99999999],\n",
              "       [14.72293845, 2.18224291, 4.00000000, 8.52944826, 1.54504084, 3.99999998, 6.20405617, 1.38702356, 4.00000000, 0.11615837, 1.16935438, 3.99999999],\n",
              "       [14.94116274, 2.58224291, 4.00000000, 8.68395235, 1.94504084, 4.00000000, 6.34275852, 1.78702356, 4.00000000, 0.23309381, 1.56935438, 3.99999998],\n",
              "       [15.19938703, 2.98224291, 3.99999999, 8.87845643, 2.34504084, 3.99999999, 6.52146088, 2.18702356, 4.00000000, 0.39002925, 1.96935438, 4.00000000],\n",
              "       [15.49761132, 3.38224291, 4.00000000, 9.11296052, 2.74504084, 4.00000000, 6.74016323, 2.58702356, 4.00000000, 0.58696468, 2.36935437, 3.99999999],\n",
              "       [15.83583561, 3.78224291, 4.00000000, 9.38746460, 3.14504084, 4.00000000, 6.99886559, 2.98702356, 3.99999999, 0.82390012, 2.76935437, 4.00000000],\n",
              "       [16.21405990, 4.18224291, 4.00000000, 9.70196868, 3.54504084, 4.00000000, 7.29756795, 3.38702356, 4.00000000, 1.10083556, 3.16935437, 4.00000000],\n",
              "       [16.63228419, 4.58224291, 4.00000000, 10.05647277, 3.94504084, 4.00000000, 7.63627030, 3.78702356, 4.00000000, 1.41777100, 3.56935437, 4.00000000],\n",
              "       [17.09050849, 4.98224291, 4.00000000, 10.45097685, 4.34504084, 3.99999999, 8.01497266, 4.18702356, 4.00000000, 1.77470643, 3.96935437, 4.00000000],\n",
              "       [17.58873278, 5.38224291, 3.99999999, 10.88548094, 4.74504084, 4.00000000, 8.43367501, 4.58702356, 4.00000000, 2.17164187, 4.36935437, 4.00000000],\n",
              "       [18.12695707, 5.78224291, 4.00000000, 11.35998502, 5.14504084, 4.00000000, 8.89237737, 4.98702356, 4.00000000, 2.60857731, 4.76935437, 4.00000000],\n",
              "       [18.70518136, 6.18224291, 4.00000000, 11.87448910, 5.54504084, 3.99999999, 9.39107973, 5.38702356, 3.99999999, 3.08551275, 5.16935437, 4.00000000],\n",
              "       [19.32340565, 6.58224291, 4.00000000, 12.42899319, 5.94504084, 4.00000000, 9.92978208, 5.78702356, 4.00000000, 3.60244818, 5.56935437, 4.00000000],\n",
              "       [19.98162994, 6.98224290, 3.99999999, 13.02349727, 6.34504084, 4.00000000, 10.50848444, 6.18702356, 4.00000000, 4.15938362, 5.96935437, 4.00000000],\n",
              "       [20.67985423, 7.38224290, 3.99999999, 13.65800136, 6.74504084, 4.00000000, 11.12718679, 6.58702356, 4.00000000, 4.75631906, 6.36935437, 4.00000000],\n",
              "       [21.41807852, 7.78224290, 4.00000000, 14.33250544, 7.14504084, 4.00000000, 11.78588915, 6.98702356, 3.99999999, 5.39325450, 6.76935437, 3.99999998],\n",
              "       [22.19630281, 8.18224290, 3.99999997, 15.04700952, 7.54504084, 3.99999999, 12.48459150, 7.38702356, 3.99999999, 6.07018993, 7.16935437, 3.99999998],\n",
              "       [23.01452710, 8.58224289, 3.99999994, 15.80151361, 7.94504084, 4.00000000, 13.22329386, 7.78702356, 4.00000000, 6.78712537, 7.56935437, 3.99999999],\n",
              "       [23.87275139, 8.93768907, 3.55446173, 16.59601769, 8.34504083, 3.99999998, 14.00199622, 8.18702355, 3.99999997, 7.54406081, 7.96935437, 3.99999999],\n",
              "       [24.76652030, 9.20403050, 2.66341436, 17.43052177, 8.74504081, 3.99999973, 14.82069857, 8.58702355, 3.99999994, 8.34099624, 8.36935437, 3.99999999],\n",
              "       [25.68692335, 9.40358590, 1.99555395, 18.30502585, 9.05969081, 3.14650002, 15.67940093, 8.94127491, 3.54251363, 9.17793168, 8.76935435, 3.99999982],\n",
              "       [26.62728194, 9.55311382, 1.49527920, 19.21099494, 9.29543990, 2.35749087, 16.57352842, 9.20671740, 2.65442488, 10.05486711, 9.07790875, 3.08554405],\n",
              "       [27.58259332, 9.66515494, 1.12041125, 20.14053892, 9.47208264, 1.76642742, 17.49420016, 9.40559972, 1.98882323, 10.96265799, 9.30909460, 2.31185851],\n",
              "       [28.54910881, 9.74910659, 0.83951646, 21.08774719, 9.60443931, 1.32356667, 18.43476013, 9.55462284, 1.49023117, 11.89356745, 9.48231323, 1.73218629],\n",
              "       [29.52401947, 9.81200835, 0.62901766, 22.04819112, 9.70361279, 0.99173484, 19.39022241, 9.66628561, 1.11662775, 12.84179877, 9.61210508, 1.29791847],\n",
              "       [30.50522031, 9.85914052, 0.47132162, 23.01855240, 9.77791927, 0.74306483, 20.35685097, 9.74995379, 0.83668176, 13.80300928, 9.70935673, 0.97251646],\n",
              "       [31.49113436, 9.89445445, 0.35313929, 23.99634433, 9.83359785, 0.55678579, 21.33184635, 9.81264317, 0.62689380, 14.77394495, 9.78222329, 0.72866569],\n",
              "       [32.48057980, 9.92091238, 0.26457932, 24.97970411, 9.87531704, 0.41719192, 22.31311067, 9.85961616, 0.46972993, 15.75216728, 9.83682285, 0.54599560],\n",
              "       [33.47267104, 9.94073921, 0.19826833, 25.96723582, 9.90657288, 0.31255835, 23.29907229, 9.89481112, 0.35194957, 16.73584957, 9.87773332, 0.40910469],\n",
              "       [34.46674496, 9.95559685, 0.14857641, 26.95789310, 9.92999499, 0.23422110, 24.28855340, 9.92117968, 0.26368557, 17.72362290, 9.90838302, 0.30649697],\n",
              "       ...,\n",
              "       [125.44883623, 9.99997619, -0.00000001, 117.92977522, 9.99997620, -0.00000002, 115.25692138, 9.99997620, -0.00000002, 108.68688693, 9.99997621, -0.00000002],\n",
              "       [126.44883384, 9.99997619, -0.00000001, 118.92977284, 9.99997620, -0.00000001, 116.25691900, 9.99997620, -0.00000002, 109.68688456, 9.99997621, -0.00000002],\n",
              "       [127.44883146, 9.99997619, -0.00000001, 119.92977046, 9.99997619, -0.00000001, 117.25691662, 9.99997620, -0.00000002, 110.68688218, 9.99997621, -0.00000002],\n",
              "       [128.44882908, 9.99997619, -0.00000001, 120.92976808, 9.99997619, -0.00000001, 118.25691424, 9.99997620, -0.00000002, 111.68687980, 9.99997621, -0.00000002],\n",
              "       [129.44882670, 9.99997619, -0.00000001, 121.92976569, 9.99997619, -0.00000001, 119.25691186, 9.99997620, -0.00000001, 112.68687742, 9.99997621, -0.00000002],\n",
              "       [130.44882432, 9.99997619, -0.00000001, 122.92976331, 9.99997619, -0.00000001, 120.25690948, 9.99997619, -0.00000001, 113.68687504, 9.99997620, -0.00000002],\n",
              "       [131.44882194, 9.99997619, -0.00000000, 123.92976093, 9.99997619, -0.00000001, 121.25690710, 9.99997619, -0.00000001, 114.68687266, 9.99997620, -0.00000002],\n",
              "       [132.44881956, 9.99997618, -0.00000000, 124.92975855, 9.99997619, -0.00000001, 122.25690472, 9.99997619, -0.00000001, 115.68687028, 9.99997620, -0.00000002],\n",
              "       [133.44881718, 9.99997618, -0.00000000, 125.92975617, 9.99997619, -0.00000001, 123.25690234, 9.99997619, -0.00000001, 116.68686790, 9.99997620, -0.00000002],\n",
              "       [134.44881479, 9.99997618, -0.00000000, 126.92975379, 9.99997619, -0.00000001, 124.25689996, 9.99997619, -0.00000001, 117.68686552, 9.99997620, -0.00000002],\n",
              "       [135.44881241, 9.99997618, -0.00000000, 127.92975141, 9.99997619, -0.00000001, 125.25689758, 9.99997619, -0.00000001, 118.68686314, 9.99997620, -0.00000001],\n",
              "       [136.44881003, 9.99997618, -0.00000000, 128.92974903, 9.99997619, -0.00000001, 126.25689519, 9.99997619, -0.00000001, 119.68686076, 9.99997620, -0.00000001],\n",
              "       [137.44880765, 9.99997618, 0.00000000, 129.92974665, 9.99997619, -0.00000001, 127.25689281, 9.99997619, -0.00000001, 120.68685838, 9.99997619, -0.00000001],\n",
              "       [138.44880527, 9.99997618, 0.00000000, 130.92974426, 9.99997619, -0.00000000, 128.25689043, 9.99997619, -0.00000001, 121.68685600, 9.99997619, -0.00000001],\n",
              "       [139.44880289, 9.99997618, 0.00000000, 131.92974188, 9.99997618, -0.00000000, 129.25688805, 9.99997619, -0.00000001, 122.68685362, 9.99997619, -0.00000001],\n",
              "       [140.44880050, 9.99997618, 0.00000000, 132.92973950, 9.99997618, -0.00000000, 130.25688567, 9.99997619, -0.00000001, 123.68685124, 9.99997619, -0.00000001],\n",
              "       [141.44879812, 9.99997619, 0.00000000, 133.92973712, 9.99997618, -0.00000000, 131.25688329, 9.99997619, -0.00000000, 124.68684886, 9.99997619, -0.00000001],\n",
              "       [142.44879574, 9.99997619, 0.00000000, 134.92973474, 9.99997618, -0.00000000, 132.25688091, 9.99997618, -0.00000000, 125.68684647, 9.99997619, -0.00000001],\n",
              "       [143.44879336, 9.99997619, 0.00000001, 135.92973236, 9.99997618, -0.00000000, 133.25687852, 9.99997618, -0.00000000, 126.68684409, 9.99997619, -0.00000001],\n",
              "       [144.44879098, 9.99997619, 0.00000001, 136.92972998, 9.99997618, 0.00000000, 134.25687614, 9.99997618, -0.00000000, 127.68684171, 9.99997619, -0.00000001],\n",
              "       [145.44878860, 9.99997619, 0.00000001, 137.92972759, 9.99997618, 0.00000000, 135.25687376, 9.99997618, -0.00000000, 128.68683933, 9.99997619, -0.00000001],\n",
              "       [146.44878622, 9.99997619, 0.00000001, 138.92972521, 9.99997618, 0.00000000, 136.25687138, 9.99997618, -0.00000000, 129.68683695, 9.99997619, -0.00000001],\n",
              "       [147.44878383, 9.99997619, 0.00000001, 139.92972283, 9.99997618, 0.00000000, 137.25686900, 9.99997618, 0.00000000, 130.68683457, 9.99997619, -0.00000000],\n",
              "       [148.44878145, 9.99997619, 0.00000001, 140.92972045, 9.99997619, 0.00000000, 138.25686662, 9.99997618, 0.00000000, 131.68683219, 9.99997618, -0.00000000],\n",
              "       [149.44877907, 9.99997619, 0.00000001, 141.92971807, 9.99997619, 0.00000000, 139.25686424, 9.99997618, 0.00000000, 132.68682981, 9.99997618, -0.00000000],\n",
              "       [150.44877669, 9.99997619, 0.00000001, 142.92971569, 9.99997619, 0.00000001, 140.25686185, 9.99997618, 0.00000000, 133.68682742, 9.99997618, -0.00000000],\n",
              "       [151.44877431, 9.99997619, 0.00000001, 143.92971330, 9.99997619, 0.00000001, 141.25685947, 9.99997619, 0.00000000, 134.68682504, 9.99997618, -0.00000000],\n",
              "       [152.44877193, 9.99997620, 0.00000001, 144.92971092, 9.99997619, 0.00000001, 142.25685709, 9.99997619, 0.00000000, 135.68682266, 9.99997618, -0.00000000],\n",
              "       [153.44876955, 9.99997620, 0.00000001, 145.92970854, 9.99997619, 0.00000001, 143.25685471, 9.99997619, 0.00000001, 136.68682028, 9.99997618, 0.00000000],\n",
              "       [154.44876717, 9.99997620, 0.00000001, 146.92970616, 9.99997619, 0.00000001, 144.25685233, 9.99997619, 0.00000001, 137.68681790, 9.99997618, 0.00000000]])"
            ]
          },
          "metadata": {},
          "execution_count": 145
        }
      ]
    },
    {
      "cell_type": "code",
      "source": [
        "df=pd.DataFrame(np.array(data_all_veh).reshape(150,12), \n",
        "             columns=['x_0_0', 'x_0_1', 'u_0', 'x_1_0', 'x_1_1', 'u_1', 'x_2_0', 'x_2_1', 'u_2', 'x_3_0', 'x_3_1', 'u_3'])"
      ],
      "metadata": {
        "id": "wUyXy4YKnhp0"
      },
      "execution_count": 157,
      "outputs": []
    },
    {
      "cell_type": "code",
      "source": [
        "lines = df[['x_0_0','x_1_0','x_2_0','x_3_0']].plot.line()"
      ],
      "metadata": {
        "colab": {
          "base_uri": "https://localhost:8080/",
          "height": 267
        },
        "id": "B_Z8uOQzqmxd",
        "outputId": "f6a6fef7-5f74-4931-b1d0-3676e0582f62"
      },
      "execution_count": 158,
      "outputs": [
        {
          "output_type": "display_data",
          "data": {
            "text/plain": [
              "<Figure size 432x288 with 1 Axes>"
            ],
            "image/png": "[encoded data removed]"
          },
          "metadata": {
            "needs_background": "light"
          }
        }
      ]
    },
    {
      "cell_type": "code",
      "source": [
        "lines = df[['u_0','u_1','u_2','u_3']].plot.line()"
      ],
      "metadata": {
        "colab": {
          "base_uri": "https://localhost:8080/",
          "height": 265
        },
        "id": "bgDAPPgGqmsU",
        "outputId": "a18842ef-a455-48a9-ac44-b6bc1f277468"
      },
      "execution_count": 159,
      "outputs": [
        {
          "output_type": "display_data",
          "data": {
            "text/plain": [
              "<Figure size 432x288 with 1 Axes>"
            ],
            "image/png": "[encoded data removed]"
          },
          "metadata": {
            "needs_background": "light"
          }
        }
      ]
    },
    {
      "cell_type": "code",
      "source": [
        ""
      ],
      "metadata": {
        "id": "tQoKeto1qmoP"
      },
      "execution_count": null,
      "outputs": []
    },
    {
      "cell_type": "code",
      "source": [
        ""
      ],
      "metadata": {
        "id": "Vc_vvdjKqmaE"
      },
      "execution_count": null,
      "outputs": []
    },
    {
      "cell_type": "code",
      "source": [
        "# Constraints\n",
        "umin = np.array([-6]) \n",
        "umax = np.array([4]) \n",
        "\n",
        "# Define problem\n",
        "\n",
        "x = cp.Variable((n, T+1))\n",
        "u = cp.Variable((m, T))\n",
        "x_init = cp.Parameter(n)\n",
        "\n",
        "cost = 0\n",
        "\n",
        "constr = [x[:,0] == x_init]\n",
        "for t in range(T):\n",
        "    cost += w1*cp.sum_squares((x[1,t+1]-10)/10) + w3*cp.sum_squares(u[:,t]) \n",
        "\n",
        "    constr += [x[:,t+1] == A@x[:,t] + B@u[:,t]]\n",
        "    constr += [umin <= u[:,t], u[:,t] <= umax]\n",
        "\n",
        "# sums problem objectives and concatenates constraints.\n",
        "# constr += [x[1,T] == 10, x[:,0] == x_0]\n",
        "\n",
        "problem1 = cp.Problem(cp.Minimize(cost), constr)\n",
        "\n",
        "x_init.value = x_0\n",
        "data, chain, inverse_data = problem1.get_problem_data(solver=cp.ECOS)\n",
        "soln = chain.solve_via_data(problem1, data)\n",
        "problem1.unpack_results(soln, chain, inverse_data)\n",
        "# print (\"optimal value with ECOS:\", problem1.value, '\\t', \"Solver Runing Time:\", soln['info']['timing']['runtime'])\n",
        "x_key, u_key=list(problem1.solution.primal_vars.keys())[0], list(problem1.solution.primal_vars.keys())[1]\n",
        "x_0=problem1.solution.primal_vars.get(x_key)[:,1]\n",
        "u_0=problem1.solution.primal_vars.get(u_key)[:,0]\n",
        "\n",
        "x = cp.Variable((n, T+1))\n",
        "u = cp.Variable((m, T))\n",
        "x_init = cp.Parameter(n)\n",
        "\n",
        "cost = 0\n",
        "\n",
        "constr = [x[:,0] == x_init]\n",
        "for t in range(T):\n",
        "    cost += w1*cp.sum_squares((x[1,t+1]-10)/10) + w3*cp.sum_squares(u[:,t]) \n",
        "\n",
        "    constr += [x[:,t+1] == A@x[:,t] + B@u[:,t]]\n",
        "    constr += [umin <= u[:,t], u[:,t] <= umax]\n",
        "\n",
        "# sums problem objectives and concatenates constraints.\n",
        "# constr += [x[1,T] == 10, x[:,0] == x_0]\n",
        "\n",
        "problem1 = cp.Problem(cp.Minimize(cost), constr)\n"
      ],
      "metadata": {
        "id": "UlSnyS5Hioku"
      },
      "execution_count": 77,
      "outputs": []
    },
    {
      "cell_type": "code",
      "source": [
        "x_init.value = x_0\n",
        "data, chain, inverse_data = problem1.get_problem_data(solver=cp.ECOS)\n",
        "soln = chain.solve_via_data(problem1, data)\n",
        "problem1.unpack_results(soln, chain, inverse_data)\n",
        "# print (\"optimal value with ECOS:\", problem1.value, '\\t', \"Solver Runing Time:\", soln['info']['timing']['runtime'])\n",
        "x_key, u_key=list(problem1.solution.primal_vars.keys())[0], list(problem1.solution.primal_vars.keys())[1]\n",
        "x_0=problem1.solution.primal_vars.get(x_key)[:,1]\n",
        "u_0=problem1.solution.primal_vars.get(u_key)[:,0]\n",
        "x_0"
      ],
      "metadata": {
        "colab": {
          "base_uri": "https://localhost:8080/"
        },
        "id": "uM9TM2LfmUrf",
        "outputId": "0e6731f4-d098-4bbf-d095-e66fa027be45"
      },
      "execution_count": 118,
      "outputs": [
        {
          "output_type": "execute_result",
          "data": {
            "text/plain": [
              "array([2.64000000, 4.80000000])"
            ]
          },
          "metadata": {},
          "execution_count": 118
        }
      ]
    },
    {
      "cell_type": "code",
      "source": [
        "\n",
        "x = cp.Variable((n, T+1))\n",
        "u = cp.Variable((m, T))\n",
        "x_init = cp.Parameter(n)\n",
        "\n",
        "cost = 0\n",
        "\n",
        "constr = [x[:,0] == x_init]\n",
        "for t in range(T):\n",
        "    cost += w1*cp.sum_squares((x[1,t+1]-10)/10) + w3*cp.sum_squares(u[:,t]) \n",
        "\n",
        "    constr += [x[:,t+1] == A@x[:,t] + B@u[:,t]]\n",
        "    constr += [umin <= u[:,t], u[:,t] <= umax]\n",
        "\n",
        "# sums problem objectives and concatenates constraints.\n",
        "# constr += [x[1,T] == 10, x[:,0] == x_0]\n",
        "\n",
        "problem2 = cp.Problem(cp.Minimize(cost), constr)\n",
        "\n"
      ],
      "metadata": {
        "id": "O3gjqMZKmUar"
      },
      "execution_count": 102,
      "outputs": []
    },
    {
      "cell_type": "code",
      "source": [
        "x_init.value =x_0\n",
        "data, chain, inverse_data = problem2.get_problem_data(solver=cp.ECOS)\n",
        "soln = chain.solve_via_data(problem2, data)\n",
        "problem2.unpack_results(soln, chain, inverse_data)\n",
        "# print (\"optimal value with ECOS:\", problem2.value, '\\t', \"Solver Runing Time:\", soln['info']['timing']['runtime'])\n",
        "x_key, u_key=list(problem2.solution.primal_vars.keys())[0], list(problem2.solution.primal_vars.keys())[1]\n",
        "x_0=problem2.solution.primal_vars.get(x_key)[:,1]\n",
        "u_0=problem2.solution.primal_vars.get(u_key)[:,0]\n",
        "x_0, u_0"
      ],
      "metadata": {
        "colab": {
          "base_uri": "https://localhost:8080/"
        },
        "id": "JckxpXXXm4LP",
        "outputId": "3d81e555-40d0-40ff-ab90-3ae7b8c71d77"
      },
      "execution_count": 116,
      "outputs": [
        {
          "output_type": "execute_result",
          "data": {
            "text/plain": [
              "(array([12.92037285, 9.65384785]), array([1.26178755]))"
            ]
          },
          "metadata": {},
          "execution_count": 116
        }
      ]
    },
    {
      "cell_type": "code",
      "source": [
        ""
      ],
      "metadata": {
        "id": "qpvrFopFm4IB"
      },
      "execution_count": null,
      "outputs": []
    },
    {
      "cell_type": "code",
      "source": [
        ""
      ],
      "metadata": {
        "id": "VqOT9fdJm35y"
      },
      "execution_count": null,
      "outputs": []
    },
    {
      "cell_type": "code",
      "source": [
        "np.set_printoptions(edgeitems=30, linewidth=100000, \n",
        "    formatter=dict(float=lambda x: \"%.8f\" % x))\n",
        "x_star, u_star, solver_runtime=[], [], []\n",
        "for nsim in range(10):\n",
        "  x_init.value = x_0\n",
        "  data, chain, inverse_data = problem.get_problem_data(solver=cp.ECOS)\n",
        "  soln = chain.solve_via_data(problem, data)\n",
        "  problem.unpack_results(soln, chain, inverse_data)\n",
        "  # print (\"optimal value with ECOS:\", problem.value, '\\t', \"Solver Runing Time:\", soln['info']['timing']['runtime'])\n",
        "  x_key, u_key=list(problem.solution.primal_vars.keys())[0], list(problem.solution.primal_vars.keys())[1]\n",
        "  x_0=problem.solution.primal_vars.get(x_key)[:,1]\n",
        "  u_0=problem.solution.primal_vars.get(u_key)[:,0]\n",
        "  x_star.append(x_0)\n",
        "  u_star.append(u_0)\n",
        "  solver_runtime.append(soln['info']['timing']['runtime'])\n",
        "\n",
        "  # print('nsim=', nsim, '\\t'*2, 'x_0=', x_0, '\\t',  'u_0=', u_0)\n"
      ],
      "metadata": {
        "id": "4YXjdT5M9SMD"
      },
      "execution_count": null,
      "outputs": []
    },
    {
      "cell_type": "code",
      "source": [
        "x_star, u_star, solver_runtime"
      ],
      "metadata": {
        "colab": {
          "base_uri": "https://localhost:8080/"
        },
        "id": "4MNNKXQvvBjw",
        "outputId": "6a1c77bc-2df4-4eb1-bec2-06c6ea9a5110"
      },
      "execution_count": null,
      "outputs": [
        {
          "output_type": "execute_result",
          "data": {
            "text/plain": [
              "([array([-0.00000000, 0.40000000]),\n",
              "  array([0.04000000, 0.80000000]),\n",
              "  array([0.12000000, 1.20000000]),\n",
              "  array([0.24000000, 1.60000000]),\n",
              "  array([0.40000000, 2.00000000]),\n",
              "  array([0.60000000, 2.40000000]),\n",
              "  array([0.84000000, 2.80000000]),\n",
              "  array([1.12000000, 3.20000000]),\n",
              "  array([1.44000000, 3.60000000]),\n",
              "  array([1.80000000, 4.00000000])],\n",
              " [array([4.00000000]),\n",
              "  array([4.00000000]),\n",
              "  array([4.00000000]),\n",
              "  array([4.00000000]),\n",
              "  array([4.00000000]),\n",
              "  array([4.00000000]),\n",
              "  array([3.99999999]),\n",
              "  array([4.00000000]),\n",
              "  array([4.00000000]),\n",
              "  array([4.00000000])],\n",
              " [0.0005859109999999999,\n",
              "  0.000566805,\n",
              "  0.000527176,\n",
              "  0.000509758,\n",
              "  0.00056348,\n",
              "  0.0005827240000000001,\n",
              "  0.000530508,\n",
              "  0.00071073,\n",
              "  0.000556372,\n",
              "  0.000645679])"
            ]
          },
          "metadata": {},
          "execution_count": 8
        }
      ]
    },
    {
      "cell_type": "code",
      "source": [
        "###end here"
      ],
      "metadata": {
        "id": "hKYe8JVlNxSZ"
      },
      "execution_count": null,
      "outputs": []
    },
    {
      "cell_type": "code",
      "source": [
        "X=5; Y=-3\n",
        "10 // 4"
      ],
      "metadata": {
        "colab": {
          "base_uri": "https://localhost:8080/"
        },
        "id": "RYg5m70KWdx0",
        "outputId": "ac3779f8-f0ae-4589-b430-c7b32fc984c4"
      },
      "execution_count": null,
      "outputs": [
        {
          "output_type": "execute_result",
          "data": {
            "text/plain": [
              "2"
            ]
          },
          "metadata": {},
          "execution_count": 13
        }
      ]
    },
    {
      "cell_type": "code",
      "source": [
        "soln"
      ],
      "metadata": {
        "colab": {
          "base_uri": "https://localhost:8080/"
        },
        "id": "ykMMR8ZnNw-b",
        "outputId": "ceca87bf-28a4-438c-f9fc-020870f8b6ba"
      },
      "execution_count": null,
      "outputs": [
        {
          "output_type": "execute_result",
          "data": {
            "text/plain": [
              "{'eq_dual': array([[0.00000000],\n",
              "        [0.00533688],\n",
              "        [0.00000000],\n",
              "        [0.00533688],\n",
              "        [0.00000000],\n",
              "        [0.00387333],\n",
              "        [0.00000000],\n",
              "        [0.00279680],\n",
              "        [0.00000000],\n",
              "        [0.00199971],\n",
              "        [0.00000000],\n",
              "        [0.00140237],\n",
              "        [0.00000000],\n",
              "        [0.00094519],\n",
              "        [0.00000000],\n",
              "        [0.00058253],\n",
              "        [0.00000000],\n",
              "        [0.00027800]]), 'ineq_dual': array([[0.00000000],\n",
              "        [0.00000000],\n",
              "        [0.00000000],\n",
              "        [0.00000000],\n",
              "        [0.00000000],\n",
              "        [0.00000000],\n",
              "        [0.00000000],\n",
              "        [0.00000000],\n",
              "        [0.00000000],\n",
              "        [0.00000000],\n",
              "        [0.00000000],\n",
              "        [0.00000000],\n",
              "        [0.00000000],\n",
              "        [0.00000000],\n",
              "        [0.00000000],\n",
              "        [0.00000000],\n",
              "        [0.50002678],\n",
              "        [-0.49997323],\n",
              "        [0.00731774],\n",
              "        [0.00053560],\n",
              "        [-0.00046440],\n",
              "        [-0.00026684],\n",
              "        [0.50001449],\n",
              "        [-0.49998551],\n",
              "        [0.00538264],\n",
              "        [0.00051875],\n",
              "        [-0.00048125],\n",
              "        [-0.00019367],\n",
              "        [0.50000794],\n",
              "        [-0.49999206],\n",
              "        [0.00398549],\n",
              "        [0.00050978],\n",
              "        [-0.00049022],\n",
              "        [-0.00013984],\n",
              "        [0.50000446],\n",
              "        [-0.49999554],\n",
              "        [0.00298666],\n",
              "        [0.00050500],\n",
              "        [-0.00049500],\n",
              "        [-0.00009999],\n",
              "        [0.50000261],\n",
              "        [-0.49999739],\n",
              "        [0.00228590],\n",
              "        [0.00050246],\n",
              "        [-0.00049754],\n",
              "        [-0.00007012],\n",
              "        [0.50000165],\n",
              "        [-0.49999836],\n",
              "        [0.00181330],\n",
              "        [0.00050112],\n",
              "        [-0.00049888],\n",
              "        [-0.00004726],\n",
              "        [0.50000116],\n",
              "        [-0.49999884],\n",
              "        [0.00152265],\n",
              "        [0.00050042],\n",
              "        [-0.00049958],\n",
              "        [-0.00002913],\n",
              "        [0.50000097],\n",
              "        [-0.49999904],\n",
              "        [0.00139000],\n",
              "        [0.00050010],\n",
              "        [-0.00049990],\n",
              "        [-0.00001390]]), 'primal': array([[0.00005354],\n",
              "        [0.07117019],\n",
              "        [0.00002895],\n",
              "        [0.03748277],\n",
              "        [0.00001587],\n",
              "        [0.01953058],\n",
              "        [0.00000891],\n",
              "        [0.00996966],\n",
              "        [0.00000522],\n",
              "        [0.00489173],\n",
              "        [0.00000329],\n",
              "        [0.00221609],\n",
              "        [0.00000233],\n",
              "        [0.00083918],\n",
              "        [0.00000192],\n",
              "        [0.00019053],\n",
              "        [16.82815429],\n",
              "        [9.90015434],\n",
              "        [17.81816972],\n",
              "        [9.92683201],\n",
              "        [18.81085292],\n",
              "        [9.94619239],\n",
              "        [19.80547216],\n",
              "        [9.96016743],\n",
              "        [20.80148890],\n",
              "        [9.97015204],\n",
              "        [21.79850411],\n",
              "        [9.97714578],\n",
              "        [22.79621869],\n",
              "        [9.98185273],\n",
              "        [23.79440396],\n",
              "        [9.98474861],\n",
              "        [24.79287882],\n",
              "        [9.98612701],\n",
              "        [0.26677670],\n",
              "        [0.19360373],\n",
              "        [0.13975049],\n",
              "        [0.09984605],\n",
              "        [0.06993742],\n",
              "        [0.04706951],\n",
              "        [0.02895877],\n",
              "        [0.01378398]]), 'status': 'optimal', 'value': array([0.00026632])}"
            ]
          },
          "metadata": {},
          "execution_count": 104
        }
      ]
    },
    {
      "cell_type": "code",
      "source": [
        "print (\"optimal value with ECOS:\", problem.value)"
      ],
      "metadata": {
        "colab": {
          "base_uri": "https://localhost:8080/"
        },
        "id": "PecMXjHg9SIk",
        "outputId": "117fe1dc-b0b7-44aa-ebb0-e547f01eee04"
      },
      "execution_count": null,
      "outputs": [
        {
          "output_type": "stream",
          "name": "stdout",
          "text": [
            "optimal value with ECOS: 6.4174767412140685\n"
          ]
        }
      ]
    },
    {
      "cell_type": "code",
      "source": [
        "problem.solution.primal_vars"
      ],
      "metadata": {
        "colab": {
          "base_uri": "https://localhost:8080/"
        },
        "id": "Ay1fuCkl9SFD",
        "outputId": "ceaed6b0-24b4-4be8-ecd6-fc6d0eb6a001"
      },
      "execution_count": null,
      "outputs": [
        {
          "output_type": "execute_result",
          "data": {
            "text/plain": [
              "{4002: array([[-0.00000000, -0.00000000, 0.64175074, 1.83166651, 3.48164236, 5.50817762, 7.83153804, 10.37495791, 13.06387533],\n",
              "        [-0.00000000, 0.64175074, 1.18991576, 1.64997585, 2.02653526, 2.32336042, 2.54341987, 2.68891742, 2.76130610]]),\n",
              " 4003: array([[0.64175074, 0.54816502, 0.46006009, 0.37655941, 0.29682516, 0.22005945, 0.14549754, 0.07238868]])}"
            ]
          },
          "metadata": {},
          "execution_count": 25
        }
      ]
    },
    {
      "cell_type": "code",
      "source": [
        "x_key, u_key=list(problem.solution.primal_vars.keys())[0], list(problem.solution.primal_vars.keys())[1]\n",
        "problem.solution.primal_vars.get(x_key),problem.solution.primal_vars.get(u_key)"
      ],
      "metadata": {
        "colab": {
          "base_uri": "https://localhost:8080/"
        },
        "id": "7euROIRO9SBU",
        "outputId": "99765f7a-dc28-4a06-c623-1d8daf19686d"
      },
      "execution_count": null,
      "outputs": [
        {
          "output_type": "execute_result",
          "data": {
            "text/plain": [
              "(array([[-0.00000000, -0.00000000, 0.64175074, 1.83166651, 3.48164236, 5.50817762, 7.83153804, 10.37495791, 13.06387533],\n",
              "        [-0.00000000, 0.64175074, 1.18991576, 1.64997585, 2.02653526, 2.32336042, 2.54341987, 2.68891742, 2.76130610]]),\n",
              " array([[0.64175074, 0.54816502, 0.46006009, 0.37655941, 0.29682516, 0.22005945, 0.14549754, 0.07238868]]))"
            ]
          },
          "metadata": {},
          "execution_count": 52
        }
      ]
    },
    {
      "cell_type": "code",
      "source": [
        ""
      ],
      "metadata": {
        "id": "LD_z4G8W5uQI"
      },
      "execution_count": null,
      "outputs": []
    },
    {
      "cell_type": "code",
      "source": [
        "for t in range(T):\n",
        "    cost += cp.sum_squares(x[:,t+1]) + cp.sum_squares(u[:,t])  \\\n",
        "        + cp.sum_squares( cp.exp( -0.5*(x[:,t+1] - xf[:,t+1]))) + cp.sum( cp.exp( -0.5*x[:,t+1] - xf[:,t+1]))  + cp.norm1(x[:,t+1]) + cp.tv(x[:,t+1]) \\\n",
        "         + cp.sum_squares(cp.abs(x[:,t+1] - xf[:,t+1] )) # +  cp.sum( exp( -(x[:,t+1]*x[:,t+1])))\n",
        "    constr += [x[:,t+1] == A@x[:,t] + B@u[:,t],\n",
        "               cp.norm(u[:,t], 'inf') <= 1]\n",
        "# sums problem objectives and concatenates constraints.\n",
        "constr += [x[:,T] == 0, x[:,0] == x_0]\n",
        "\n",
        "\n",
        "problem = cp.Problem(cp.Minimize(cost), constr)\n",
        "# problem.solve(solver=cp.ECOS, verbose=True)\n",
        "%time problem.solve(solver=cp.ECOS, verbose=True)\n",
        "\n",
        "# Disciplined convex programming (DCP) is a system for constructing mathematical expressions with known curvature from a given library of base functions\n",
        "# ECOS interior point"
      ],
      "metadata": {
        "id": "tPMNxekt5t3i"
      },
      "execution_count": null,
      "outputs": []
    },
    {
      "cell_type": "code",
      "source": [
        "from re import VERBOSE\n",
        "def ball_con():\n",
        "    # print(f'--- {sys._getframe().f_code.co_name} ---')\n",
        "    print('ball con')\n",
        "    np.random.seed(0)\n",
        "\n",
        "    n = 2\n",
        "\n",
        "    A = cp.Parameter((n, n))\n",
        "    z = cp.Parameter(n)\n",
        "    p = cp.Parameter(n)\n",
        "    x = cp.Variable(n)\n",
        "    t = cp.Variable(n)\n",
        "    obj = cp.Minimize(0.5 * cp.sum_squares(x - p))\n",
        "    # TODO automate introduction of variables.\n",
        "    cons = [0.5 * cp.sum_squares(A * t) <= 1, t == (x - z)]\n",
        "    prob = cp.Problem(obj, cons)\n",
        "\n",
        "    L = np.random.randn(n, n)\n",
        "    A.value = L.T\n",
        "    z.value = np.random.randn(n)\n",
        "    p.value = np.random.randn(n)\n",
        "\n",
        "    prob.solve(solver=cp.ECOS)\n",
        "    print(x.value) \n",
        "\n",
        "ball_con()"
      ],
      "metadata": {
        "id": "6cNWKbjY-umA",
        "colab": {
          "base_uri": "https://localhost:8080/"
        },
        "outputId": "171702c5-8d41-447b-f967-598ff5b4eec4"
      },
      "execution_count": null,
      "outputs": [
        {
          "output_type": "stream",
          "name": "stdout",
          "text": [
            "ball con\n",
            "[1.03764266 -0.31294773]\n"
          ]
        }
      ]
    },
    {
      "cell_type": "code",
      "source": [
        ""
      ],
      "metadata": {
        "id": "t3sEWVscOhAr"
      },
      "execution_count": null,
      "outputs": []
    }
  ]
}